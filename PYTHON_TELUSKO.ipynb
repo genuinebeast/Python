{
  "nbformat": 4,
  "nbformat_minor": 0,
  "metadata": {
    "colab": {
      "provenance": [],
      "gpuType": "T4",
      "toc_visible": true,
      "authorship_tag": "ABX9TyPoqSLGeqEP9mXo+vtJbGMs",
      "include_colab_link": true
    },
    "kernelspec": {
      "name": "python3",
      "display_name": "Python 3"
    },
    "language_info": {
      "name": "python"
    },
    "accelerator": "GPU"
  },
  "cells": [
    {
      "cell_type": "markdown",
      "metadata": {
        "id": "view-in-github",
        "colab_type": "text"
      },
      "source": [
        "<a href=\"https://colab.research.google.com/github/genuinebeast/Python/blob/main/PYTHON_TELUSKO.ipynb\" target=\"_parent\"><img src=\"https://colab.research.google.com/assets/colab-badge.svg\" alt=\"Open In Colab\"/></a>"
      ]
    },
    {
      "cell_type": "markdown",
      "source": [
        "#VARIABLE"
      ],
      "metadata": {
        "id": "hvXuV_7ZmCw5"
      }
    },
    {
      "cell_type": "code",
      "execution_count": null,
      "metadata": {
        "id": "WRtQVorvltFH"
      },
      "outputs": [],
      "source": [
        "x = 2 \n",
        "# x is a variable (container) where we have stored value 2 \n",
        "# this is just an assignment and doesnt print anythin\n",
        "y = 4\n",
        "x + y\n",
        "#will print addition of two numbers\n",
        "#always define a variable before use\n",
        "# _ + 4 = underscore gives ans of previous result\n",
        "\n",
        "name = 'rocks'\n",
        "name[0] \n",
        "#prints r \n",
        "name[4]\n",
        "#prints s\n",
        "name = 'youtube'\n",
        "name[-1]\n",
        "#prints last digit \n",
        "name[0:2]\n",
        "# 'yo'\n",
        "name[2:]\n",
        "#from 2 till end\n",
        "name[:4]\n",
        "#from start till 3\n",
        "name[0:3] = 'my'\n",
        "#cant change like this because strings are immutable\n"
      ]
    },
    {
      "cell_type": "markdown",
      "source": [
        "NAMING A VARIABLE"
      ],
      "metadata": {
        "id": "tkvy8plkSK00"
      }
    },
    {
      "cell_type": "code",
      "source": [
        "# 2b = 4 \n",
        "# b@ = 6\n",
        "# this can't be a variable name \n"
      ],
      "metadata": {
        "id": "xE2KwRzTRcf-"
      },
      "execution_count": null,
      "outputs": []
    },
    {
      "cell_type": "code",
      "source": [
        "# allowed names \n",
        "_b = 5\n",
        "b2 = 4\n"
      ],
      "metadata": {
        "id": "fM4diyU4Rk_A"
      },
      "execution_count": null,
      "outputs": []
    },
    {
      "cell_type": "code",
      "source": [
        "#  Variable names can contain letters, numbers, and underscores.\n",
        "# They cannot contain spaces. \n",
        "# Variable names cannot start with a number. \n",
        "# Variable names are case-sensitive. For example:- The variable names Temp and temp are different."
      ],
      "metadata": {
        "id": "u2cEHvFFSAi0"
      },
      "execution_count": null,
      "outputs": []
    },
    {
      "cell_type": "markdown",
      "source": [
        "# LISTS"
      ],
      "metadata": {
        "id": "JSYRqWA-mT9N"
      }
    },
    {
      "cell_type": "code",
      "source": [
        "nums = [2, 4, 5, 6, 'subbu']\n",
        "# can have different data types inside lists \n"
      ],
      "metadata": {
        "id": "iJ0CHrponuid"
      },
      "execution_count": null,
      "outputs": []
    },
    {
      "cell_type": "code",
      "source": [
        "nums"
      ],
      "metadata": {
        "colab": {
          "base_uri": "https://localhost:8080/"
        },
        "id": "Noz-fXMToZRD",
        "outputId": "29d7e05f-84cd-46e1-f99c-e7ea704fb14d"
      },
      "execution_count": null,
      "outputs": [
        {
          "output_type": "execute_result",
          "data": {
            "text/plain": [
              "[2, 4, 5, 6, 'subbu']"
            ]
          },
          "metadata": {},
          "execution_count": 3
        }
      ]
    },
    {
      "cell_type": "code",
      "source": [
        "nums[-1:]\n",
        "#slicing operation"
      ],
      "metadata": {
        "colab": {
          "base_uri": "https://localhost:8080/"
        },
        "id": "qK17TLekobz2",
        "outputId": "ce00c8bd-5474-41cd-b2ea-927609abefac"
      },
      "execution_count": null,
      "outputs": [
        {
          "output_type": "execute_result",
          "data": {
            "text/plain": [
              "['subbu']"
            ]
          },
          "metadata": {},
          "execution_count": 4
        }
      ]
    },
    {
      "cell_type": "code",
      "source": [
        "nums[-2:]"
      ],
      "metadata": {
        "colab": {
          "base_uri": "https://localhost:8080/"
        },
        "id": "Tk5Bhh-WopxR",
        "outputId": "99ba93d6-c16c-48eb-92af-62d5b602b63f"
      },
      "execution_count": null,
      "outputs": [
        {
          "output_type": "execute_result",
          "data": {
            "text/plain": [
              "[6, 'subbu']"
            ]
          },
          "metadata": {},
          "execution_count": 6
        }
      ]
    },
    {
      "cell_type": "code",
      "source": [
        "nums[-1]"
      ],
      "metadata": {
        "colab": {
          "base_uri": "https://localhost:8080/",
          "height": 36
        },
        "id": "8x3_Xsosohlp",
        "outputId": "4d20c7b8-54db-49dd-c4b5-95dafca46634"
      },
      "execution_count": null,
      "outputs": [
        {
          "output_type": "execute_result",
          "data": {
            "text/plain": [
              "'subbu'"
            ],
            "application/vnd.google.colaboratory.intrinsic+json": {
              "type": "string"
            }
          },
          "metadata": {},
          "execution_count": 5
        }
      ]
    },
    {
      "cell_type": "code",
      "source": [
        "nums[2:]"
      ],
      "metadata": {
        "colab": {
          "base_uri": "https://localhost:8080/"
        },
        "id": "z5ON1lyyol9c",
        "outputId": "eba8759b-4ea1-4325-f0f3-d11cf2a1032a"
      },
      "execution_count": null,
      "outputs": [
        {
          "output_type": "execute_result",
          "data": {
            "text/plain": [
              "[5, 6, 'subbu']"
            ]
          },
          "metadata": {},
          "execution_count": 7
        }
      ]
    },
    {
      "cell_type": "code",
      "source": [
        "nums[1] = 4\n",
        "nums\n",
        "# lists are mutable"
      ],
      "metadata": {
        "colab": {
          "base_uri": "https://localhost:8080/"
        },
        "id": "Qw74iTUcouub",
        "outputId": "8f840499-b410-4f43-f4c7-f2f7f5f433a0"
      },
      "execution_count": null,
      "outputs": [
        {
          "output_type": "execute_result",
          "data": {
            "text/plain": [
              "[2, 4, 5, 6, 'subbu']"
            ]
          },
          "metadata": {},
          "execution_count": 9
        }
      ]
    },
    {
      "cell_type": "code",
      "source": [
        "names = ['mani' , 'kiran']\n",
        "mil = [nums,names]\n",
        "mil\n",
        "# lists can store another lists"
      ],
      "metadata": {
        "colab": {
          "base_uri": "https://localhost:8080/"
        },
        "id": "DUHA-fXio0BJ",
        "outputId": "d5066524-98b9-4e7a-ce24-49321067f030"
      },
      "execution_count": null,
      "outputs": [
        {
          "output_type": "execute_result",
          "data": {
            "text/plain": [
              "[[2, 4, 5, 6, 'subbu'], ['mani', 'kiran']]"
            ]
          },
          "metadata": {},
          "execution_count": 11
        }
      ]
    },
    {
      "cell_type": "code",
      "source": [
        "mil[0]"
      ],
      "metadata": {
        "colab": {
          "base_uri": "https://localhost:8080/"
        },
        "id": "HjO-7cVzpB-D",
        "outputId": "c2c080fe-4899-464f-c32f-9ac66dd8a004"
      },
      "execution_count": null,
      "outputs": [
        {
          "output_type": "execute_result",
          "data": {
            "text/plain": [
              "[2, 4, 5, 6, 'subbu']"
            ]
          },
          "metadata": {},
          "execution_count": 12
        }
      ]
    },
    {
      "cell_type": "code",
      "source": [
        "mil[0][2]\n",
        "# we can access the element inside a list inside another list with this syntax\n",
        "# also use in matrix representation"
      ],
      "metadata": {
        "colab": {
          "base_uri": "https://localhost:8080/"
        },
        "id": "55x6Xc5PpKiP",
        "outputId": "80115744-f196-49c3-d55e-285022d37623"
      },
      "execution_count": null,
      "outputs": [
        {
          "output_type": "execute_result",
          "data": {
            "text/plain": [
              "5"
            ]
          },
          "metadata": {},
          "execution_count": 13
        }
      ]
    },
    {
      "cell_type": "markdown",
      "source": [
        "inbuilt functions in python lists"
      ],
      "metadata": {
        "id": "fbNIISw1pjrh"
      }
    },
    {
      "cell_type": "code",
      "source": [
        "nums.append(3)\n",
        "nums"
      ],
      "metadata": {
        "colab": {
          "base_uri": "https://localhost:8080/"
        },
        "id": "2qr_GPaUpNL0",
        "outputId": "f327bd54-42a3-4521-f9ae-5edbafc4ebd7"
      },
      "execution_count": null,
      "outputs": [
        {
          "output_type": "execute_result",
          "data": {
            "text/plain": [
              "[2, 4, 5, 6, 'subbu', 3]"
            ]
          },
          "metadata": {},
          "execution_count": 14
        }
      ]
    },
    {
      "cell_type": "code",
      "source": [
        "nums.insert(2,77)\n",
        "nums"
      ],
      "metadata": {
        "colab": {
          "base_uri": "https://localhost:8080/"
        },
        "id": "a1DOX-EkphOP",
        "outputId": "97359ac5-461b-4782-a9c8-9f29966f4e47"
      },
      "execution_count": null,
      "outputs": [
        {
          "output_type": "execute_result",
          "data": {
            "text/plain": [
              "[2, 4, 77, 5, 6, 'subbu', 3]"
            ]
          },
          "metadata": {},
          "execution_count": 15
        }
      ]
    },
    {
      "cell_type": "code",
      "source": [
        "nums.remove(77)\n",
        "nums\n"
      ],
      "metadata": {
        "colab": {
          "base_uri": "https://localhost:8080/"
        },
        "id": "Jff5lHbNpy9t",
        "outputId": "e417a033-c090-46b4-f25c-8e618e294043"
      },
      "execution_count": null,
      "outputs": [
        {
          "output_type": "execute_result",
          "data": {
            "text/plain": [
              "[2, 4, 5, 6, 'subbu', 3]"
            ]
          },
          "metadata": {},
          "execution_count": 16
        }
      ]
    },
    {
      "cell_type": "code",
      "source": [
        "nums.pop(4)\n",
        "nums"
      ],
      "metadata": {
        "colab": {
          "base_uri": "https://localhost:8080/"
        },
        "id": "QXJWAZhSp2xx",
        "outputId": "d9bd4898-23a2-4d18-b64a-55bcfd9d7c5c"
      },
      "execution_count": null,
      "outputs": [
        {
          "output_type": "execute_result",
          "data": {
            "text/plain": [
              "[2, 4, 5, 6, 3]"
            ]
          },
          "metadata": {},
          "execution_count": 17
        }
      ]
    },
    {
      "cell_type": "code",
      "source": [
        "nums.pop()\n",
        "nums\n",
        "# without index itll remove just the last element like a stack"
      ],
      "metadata": {
        "colab": {
          "base_uri": "https://localhost:8080/"
        },
        "id": "42b8aFhGp5qU",
        "outputId": "a5cb7323-5069-4bf3-ae29-60ac90338845"
      },
      "execution_count": null,
      "outputs": [
        {
          "output_type": "execute_result",
          "data": {
            "text/plain": [
              "[2, 4, 5, 6]"
            ]
          },
          "metadata": {},
          "execution_count": 18
        }
      ]
    },
    {
      "cell_type": "code",
      "source": [
        "nums.count(2)\n",
        "# counts numbers of elements = 2 in the list"
      ],
      "metadata": {
        "colab": {
          "base_uri": "https://localhost:8080/"
        },
        "id": "X_suSKcAp7_z",
        "outputId": "57ac7c60-dcc4-46f5-805c-5920aab2f56f"
      },
      "execution_count": null,
      "outputs": [
        {
          "output_type": "execute_result",
          "data": {
            "text/plain": [
              "1"
            ]
          },
          "metadata": {},
          "execution_count": 19
        }
      ]
    },
    {
      "cell_type": "code",
      "source": [
        "nums.sort()\n",
        "nums\n",
        "# gives the sorted list\n"
      ],
      "metadata": {
        "colab": {
          "base_uri": "https://localhost:8080/"
        },
        "id": "eMeZsWR8rkTS",
        "outputId": "b198a1e4-018c-4e93-d25b-6c777061bd16"
      },
      "execution_count": null,
      "outputs": [
        {
          "output_type": "execute_result",
          "data": {
            "text/plain": [
              "[2, 4, 5, 6]"
            ]
          },
          "metadata": {},
          "execution_count": 21
        }
      ]
    },
    {
      "cell_type": "code",
      "source": [
        "del nums[2:]\n",
        "nums\n",
        "# deletes all elements after from index value"
      ],
      "metadata": {
        "colab": {
          "base_uri": "https://localhost:8080/"
        },
        "id": "kDiFAPGHrxI6",
        "outputId": "67b729aa-6620-44b5-e057-f3f6df888746"
      },
      "execution_count": null,
      "outputs": [
        {
          "output_type": "execute_result",
          "data": {
            "text/plain": [
              "[2, 4]"
            ]
          },
          "metadata": {},
          "execution_count": 22
        }
      ]
    },
    {
      "cell_type": "code",
      "source": [
        "nums.extend([26,90])\n",
        "nums\n",
        "# will just add these list at the end of the given list"
      ],
      "metadata": {
        "colab": {
          "base_uri": "https://localhost:8080/"
        },
        "id": "dC_FI8SCsW66",
        "outputId": "339e8a00-9711-4f36-a496-00f9982d3001"
      },
      "execution_count": null,
      "outputs": [
        {
          "output_type": "execute_result",
          "data": {
            "text/plain": [
              "[2, 4, 26, 90, 26, 90]"
            ]
          },
          "metadata": {},
          "execution_count": 25
        }
      ]
    },
    {
      "cell_type": "code",
      "source": [
        "min(nums)\n",
        "max(nums)\n",
        "sum(nums)"
      ],
      "metadata": {
        "colab": {
          "base_uri": "https://localhost:8080/"
        },
        "id": "IzIswmO8skMj",
        "outputId": "72db743a-9d99-4dd9-f589-2fa02bd8a727"
      },
      "execution_count": null,
      "outputs": [
        {
          "output_type": "execute_result",
          "data": {
            "text/plain": [
              "238"
            ]
          },
          "metadata": {},
          "execution_count": 26
        }
      ]
    },
    {
      "cell_type": "code",
      "source": [],
      "metadata": {
        "id": "i-Z_uk9Ws00x"
      },
      "execution_count": null,
      "outputs": []
    },
    {
      "cell_type": "markdown",
      "source": [
        "#TUPLES"
      ],
      "metadata": {
        "id": "GJGZAkRqs9Gd"
      }
    },
    {
      "cell_type": "code",
      "source": [
        "#IMMUTABLES\n",
        "tup = (21,36,14,25)\n",
        "tup[1]\n",
        "# tup[3] = 45 #wont work\n",
        "\n",
        "\n",
        "# in iteration , tuples are faster than lists"
      ],
      "metadata": {
        "colab": {
          "base_uri": "https://localhost:8080/"
        },
        "id": "jrZ4adM0s_A9",
        "outputId": "9b5955f9-f017-427a-c834-d05086acb1f0"
      },
      "execution_count": null,
      "outputs": [
        {
          "output_type": "execute_result",
          "data": {
            "text/plain": [
              "36"
            ]
          },
          "metadata": {},
          "execution_count": 34
        }
      ]
    },
    {
      "cell_type": "markdown",
      "source": [
        "inbuilt functions"
      ],
      "metadata": {
        "id": "b6XU7f3otSKA"
      }
    },
    {
      "cell_type": "code",
      "source": [
        "tup.count(21)\n",
        "#counts\n",
        "tup.index(36)\n",
        "#gives back index of the given element"
      ],
      "metadata": {
        "colab": {
          "base_uri": "https://localhost:8080/"
        },
        "id": "EADPlUqltOKn",
        "outputId": "641ce6f2-c805-450b-d3aa-67210fe02cfd"
      },
      "execution_count": null,
      "outputs": [
        {
          "output_type": "execute_result",
          "data": {
            "text/plain": [
              "1"
            ]
          },
          "metadata": {},
          "execution_count": 28
        }
      ]
    },
    {
      "cell_type": "markdown",
      "source": [
        "#SET"
      ],
      "metadata": {
        "id": "0VXFbtDltpKd"
      }
    },
    {
      "cell_type": "code",
      "source": [
        "s = {22,25,14,21,5}\n",
        "s\n",
        "#uses hash principle"
      ],
      "metadata": {
        "colab": {
          "base_uri": "https://localhost:8080/"
        },
        "id": "1hR2rxIStiZ2",
        "outputId": "ad1b83f9-31a2-40b1-adfb-6c9b2e967b3d"
      },
      "execution_count": null,
      "outputs": [
        {
          "output_type": "execute_result",
          "data": {
            "text/plain": [
              "{5, 14, 21, 22, 25}"
            ]
          },
          "metadata": {},
          "execution_count": 30
        }
      ]
    },
    {
      "cell_type": "code",
      "source": [
        "y = {25,14,98,63,75,98}\n",
        "y\n",
        "# doesn't always gives a sorted one "
      ],
      "metadata": {
        "colab": {
          "base_uri": "https://localhost:8080/"
        },
        "id": "Z77o--Xyt0A3",
        "outputId": "0ce7f4e3-3893-4d13-8390-6a2427af30f3"
      },
      "execution_count": null,
      "outputs": [
        {
          "output_type": "execute_result",
          "data": {
            "text/plain": [
              "{14, 25, 63, 75, 98}"
            ]
          },
          "metadata": {},
          "execution_count": 32
        }
      ]
    },
    {
      "cell_type": "code",
      "source": [
        "y[2]\n",
        "#doesnt support indexing\n",
        "#just supports elements \n",
        "# no sequence"
      ],
      "metadata": {
        "id": "qwgWLwBTt_g9"
      },
      "execution_count": null,
      "outputs": []
    },
    {
      "cell_type": "code",
      "source": [],
      "metadata": {
        "id": "M2oiX3xJuREe"
      },
      "execution_count": null,
      "outputs": []
    },
    {
      "cell_type": "markdown",
      "source": [
        "# DICTIONARY"
      ],
      "metadata": {
        "id": "fhQns4Nm5W2K"
      }
    },
    {
      "cell_type": "code",
      "source": [
        "# KEY VALUE PAIR \n",
        "data = {1:'subbu' , 2:'kiran', 3:'mani'}\n",
        "data"
      ],
      "metadata": {
        "colab": {
          "base_uri": "https://localhost:8080/"
        },
        "id": "5oynwIAh5dEU",
        "outputId": "828cbf17-0fb0-4c79-ae72-5c743338e5ef"
      },
      "execution_count": null,
      "outputs": [
        {
          "output_type": "execute_result",
          "data": {
            "text/plain": [
              "{1: 'subbu', 2: 'kiran', 3: 'mani'}"
            ]
          },
          "metadata": {},
          "execution_count": 35
        }
      ]
    },
    {
      "cell_type": "code",
      "source": [
        "data[3]\n",
        "# values are obtained using keys rather than index"
      ],
      "metadata": {
        "colab": {
          "base_uri": "https://localhost:8080/",
          "height": 36
        },
        "id": "Xqj9DePj5yIy",
        "outputId": "1b55f63a-1b0e-4fea-f415-19412167cecd"
      },
      "execution_count": null,
      "outputs": [
        {
          "output_type": "execute_result",
          "data": {
            "text/plain": [
              "'mani'"
            ],
            "application/vnd.google.colaboratory.intrinsic+json": {
              "type": "string"
            }
          },
          "metadata": {},
          "execution_count": 36
        }
      ]
    },
    {
      "cell_type": "code",
      "source": [
        "data[3] = 'ravi'"
      ],
      "metadata": {
        "id": "OSKbmY0V5z3w"
      },
      "execution_count": null,
      "outputs": []
    },
    {
      "cell_type": "code",
      "source": [
        "data\n",
        "# these are mutable "
      ],
      "metadata": {
        "colab": {
          "base_uri": "https://localhost:8080/"
        },
        "id": "TYRK5PMz56jM",
        "outputId": "517b4c06-5310-4444-d153-24e4239c3661"
      },
      "execution_count": null,
      "outputs": [
        {
          "output_type": "execute_result",
          "data": {
            "text/plain": [
              "{1: 'subbu', 2: 'kiran', 3: 'ravi'}"
            ]
          },
          "metadata": {},
          "execution_count": 38
        }
      ]
    },
    {
      "cell_type": "markdown",
      "source": [
        "inbuilt functions"
      ],
      "metadata": {
        "id": "K33nmdxy6GD2"
      }
    },
    {
      "cell_type": "code",
      "source": [
        "details = {'name': 'navin', 'age': '20', 'height': '180'}\n",
        "details.items() # gives key value pair as tuples "
      ],
      "metadata": {
        "colab": {
          "base_uri": "https://localhost:8080/"
        },
        "id": "fk73ZFbAUR6y",
        "outputId": "8c98d98d-e115-4a8b-ce11-dab5455c428f"
      },
      "execution_count": null,
      "outputs": [
        {
          "output_type": "execute_result",
          "data": {
            "text/plain": [
              "dict_items([('name', 'navin'), ('age', '20'), ('height', '180')])"
            ]
          },
          "metadata": {},
          "execution_count": 35
        }
      ]
    },
    {
      "cell_type": "code",
      "source": [
        "data.get(1)"
      ],
      "metadata": {
        "colab": {
          "base_uri": "https://localhost:8080/",
          "height": 36
        },
        "id": "hE8pjqrJ57W5",
        "outputId": "7f0db294-096d-40c8-cd7d-7aca31bc9b8a"
      },
      "execution_count": null,
      "outputs": [
        {
          "output_type": "execute_result",
          "data": {
            "text/plain": [
              "'subbu'"
            ],
            "application/vnd.google.colaboratory.intrinsic+json": {
              "type": "string"
            }
          },
          "metadata": {},
          "execution_count": 39
        }
      ]
    },
    {
      "cell_type": "code",
      "source": [
        "data.get(4)\n",
        "# we wont get error"
      ],
      "metadata": {
        "id": "QGJFvfIm6M_O"
      },
      "execution_count": null,
      "outputs": []
    },
    {
      "cell_type": "code",
      "source": [
        "data.get(4,'not found')"
      ],
      "metadata": {
        "colab": {
          "base_uri": "https://localhost:8080/",
          "height": 36
        },
        "id": "iZQcQ-w06RLV",
        "outputId": "974b6545-832e-4354-c764-5dbd032b9dbf"
      },
      "execution_count": null,
      "outputs": [
        {
          "output_type": "execute_result",
          "data": {
            "text/plain": [
              "'not found'"
            ],
            "application/vnd.google.colaboratory.intrinsic+json": {
              "type": "string"
            }
          },
          "metadata": {},
          "execution_count": 42
        }
      ]
    },
    {
      "cell_type": "code",
      "source": [
        "data"
      ],
      "metadata": {
        "colab": {
          "base_uri": "https://localhost:8080/"
        },
        "id": "VMYC4G_e6hEo",
        "outputId": "7e19db57-1dfc-428b-9e38-2ac4a75f0efd"
      },
      "execution_count": null,
      "outputs": [
        {
          "output_type": "execute_result",
          "data": {
            "text/plain": [
              "{1: 'subbu', 2: 'kiran', 3: 'ravi'}"
            ]
          },
          "metadata": {},
          "execution_count": 43
        }
      ]
    },
    {
      "cell_type": "code",
      "source": [
        "## can create dictionaries like this too\n",
        "keys = ['subbu', 'kiran','ravi']\n",
        "values = ['python','bigdata','ML']\n",
        "data1 = dict(zip(keys,values))"
      ],
      "metadata": {
        "id": "X0cJnCtM6iL2"
      },
      "execution_count": null,
      "outputs": []
    },
    {
      "cell_type": "code",
      "source": [
        "data1"
      ],
      "metadata": {
        "colab": {
          "base_uri": "https://localhost:8080/"
        },
        "id": "vVA5oVHt6ztm",
        "outputId": "17dcdedf-4d99-4411-a757-91478f717afb"
      },
      "execution_count": null,
      "outputs": [
        {
          "output_type": "execute_result",
          "data": {
            "text/plain": [
              "{'subbu': 'python', 'kiran': 'bigdata', 'ravi': 'ML'}"
            ]
          },
          "metadata": {},
          "execution_count": 45
        }
      ]
    },
    {
      "cell_type": "code",
      "source": [
        "# adding data here \n",
        "data1['Monika'] = 'AI'\n",
        "data1"
      ],
      "metadata": {
        "colab": {
          "base_uri": "https://localhost:8080/"
        },
        "id": "QD8jMdHt60pc",
        "outputId": "2a405777-fa39-4fbf-a973-45f608f089c3"
      },
      "execution_count": null,
      "outputs": [
        {
          "output_type": "execute_result",
          "data": {
            "text/plain": [
              "{'subbu': 'python', 'kiran': 'bigdata', 'ravi': 'ML', 'Monika': 'AI'}"
            ]
          },
          "metadata": {},
          "execution_count": 47
        }
      ]
    },
    {
      "cell_type": "code",
      "source": [
        "#deleting\n",
        "del data1['subbu']\n",
        "data1"
      ],
      "metadata": {
        "colab": {
          "base_uri": "https://localhost:8080/"
        },
        "id": "b4MOw-jp7BVa",
        "outputId": "86d17080-53d7-47a9-9602-f17ade3ad404"
      },
      "execution_count": null,
      "outputs": [
        {
          "output_type": "execute_result",
          "data": {
            "text/plain": [
              "{'kiran': 'bigdata', 'Monika': 'AI'}"
            ]
          },
          "metadata": {},
          "execution_count": 51
        }
      ]
    },
    {
      "cell_type": "code",
      "source": [
        "# list inside dictionary\n",
        "data1['list'] = [1,2,3,4]\n",
        "data1"
      ],
      "metadata": {
        "colab": {
          "base_uri": "https://localhost:8080/"
        },
        "id": "tHX9W4_c7M0J",
        "outputId": "06d3cc71-61c9-41a9-a0f3-f99582a553ee"
      },
      "execution_count": null,
      "outputs": [
        {
          "output_type": "execute_result",
          "data": {
            "text/plain": [
              "{'kiran': 'bigdata', 'Monika': 'AI', 'list': [1, 2, 3, 4]}"
            ]
          },
          "metadata": {},
          "execution_count": 55
        }
      ]
    },
    {
      "cell_type": "code",
      "source": [
        "data1['list'][2]"
      ],
      "metadata": {
        "colab": {
          "base_uri": "https://localhost:8080/"
        },
        "id": "YQag5dvV7oxM",
        "outputId": "fac94445-0e35-4217-ad77-017979d15036"
      },
      "execution_count": null,
      "outputs": [
        {
          "output_type": "execute_result",
          "data": {
            "text/plain": [
              "3"
            ]
          },
          "metadata": {},
          "execution_count": 56
        }
      ]
    },
    {
      "cell_type": "code",
      "source": [],
      "metadata": {
        "id": "Dt0tRiuB78oT"
      },
      "execution_count": null,
      "outputs": []
    },
    {
      "cell_type": "markdown",
      "source": [
        "# PYTHON IN CMD PROMPT AND HELP()\n",
        "\n"
      ],
      "metadata": {
        "id": "TeDk8xIv8Yg8"
      }
    },
    {
      "cell_type": "code",
      "source": [
        "help()\n",
        "#can read all the doc on all inbuit functions\n",
        "#can also give arguments for specific topics"
      ],
      "metadata": {
        "id": "UAHiQqTC9Ik9"
      },
      "execution_count": null,
      "outputs": []
    },
    {
      "cell_type": "markdown",
      "source": [
        "# MORE ON VARIABLES "
      ],
      "metadata": {
        "id": "PyfVx49B9X6V"
      }
    },
    {
      "cell_type": "code",
      "source": [
        "num = 5 \n",
        "# num will have a box in which 5 will be stored and itll have an ID too \n",
        "id(num)"
      ],
      "metadata": {
        "colab": {
          "base_uri": "https://localhost:8080/"
        },
        "id": "IVHDOmCV9LQf",
        "outputId": "81efdfe5-4a8c-4c41-cc49-7e0f597aa1a4"
      },
      "execution_count": null,
      "outputs": [
        {
          "output_type": "execute_result",
          "data": {
            "text/plain": [
              "139881376465264"
            ]
          },
          "metadata": {},
          "execution_count": 58
        }
      ]
    },
    {
      "cell_type": "code",
      "source": [
        "# every varible will have diff address\n",
        "a = 10\n",
        "b = a \n",
        "id(a)\n"
      ],
      "metadata": {
        "colab": {
          "base_uri": "https://localhost:8080/"
        },
        "id": "eKgIFkVM-LBq",
        "outputId": "249f8197-b74f-4315-a628-3be19996d347"
      },
      "execution_count": null,
      "outputs": [
        {
          "output_type": "execute_result",
          "data": {
            "text/plain": [
              "139881376465424"
            ]
          },
          "metadata": {},
          "execution_count": 59
        }
      ]
    },
    {
      "cell_type": "code",
      "source": [
        "id(b)"
      ],
      "metadata": {
        "colab": {
          "base_uri": "https://localhost:8080/"
        },
        "id": "reeDRroI-Zld",
        "outputId": "38379a32-7aaa-4773-9c54-e0990356b0ec"
      },
      "execution_count": null,
      "outputs": [
        {
          "output_type": "execute_result",
          "data": {
            "text/plain": [
              "139881376465424"
            ]
          },
          "metadata": {},
          "execution_count": 60
        }
      ]
    },
    {
      "cell_type": "code",
      "source": [
        "# but is values of two variables are same , they will be stored in same place \n",
        "# that is both variables will have same place\n",
        "#python is memory efficient"
      ],
      "metadata": {
        "id": "TicceXqM-cno"
      },
      "execution_count": null,
      "outputs": []
    },
    {
      "cell_type": "code",
      "source": [
        "id(10)"
      ],
      "metadata": {
        "colab": {
          "base_uri": "https://localhost:8080/"
        },
        "id": "YLyVl-Tp-peg",
        "outputId": "b78ef92f-3490-4275-baef-bb8add2e7cf1"
      },
      "execution_count": null,
      "outputs": [
        {
          "output_type": "execute_result",
          "data": {
            "text/plain": [
              "139881376465424"
            ]
          },
          "metadata": {},
          "execution_count": 62
        }
      ]
    },
    {
      "cell_type": "code",
      "source": [
        "# address is based on the box\n",
        "k = 10\n",
        "id(k)"
      ],
      "metadata": {
        "colab": {
          "base_uri": "https://localhost:8080/"
        },
        "id": "WjTPVBxv-qvL",
        "outputId": "c5d4b02b-0e99-43d1-fb04-4f0e8632edef"
      },
      "execution_count": null,
      "outputs": [
        {
          "output_type": "execute_result",
          "data": {
            "text/plain": [
              "139881376465424"
            ]
          },
          "metadata": {},
          "execution_count": 63
        }
      ]
    },
    {
      "cell_type": "code",
      "source": [
        "a = 9\n",
        "id(a)"
      ],
      "metadata": {
        "colab": {
          "base_uri": "https://localhost:8080/"
        },
        "id": "uLlN_Lux-zEv",
        "outputId": "bac23ab4-05d0-493d-c396-197f5745ffec"
      },
      "execution_count": null,
      "outputs": [
        {
          "output_type": "execute_result",
          "data": {
            "text/plain": [
              "139881376465392"
            ]
          },
          "metadata": {},
          "execution_count": 66
        }
      ]
    },
    {
      "cell_type": "code",
      "source": [
        "id(b)\n",
        "# id of b is still the same"
      ],
      "metadata": {
        "colab": {
          "base_uri": "https://localhost:8080/"
        },
        "id": "xxK_DtBO-2T5",
        "outputId": "91d5ae92-dbf7-4577-f4ba-276bf01a69b6"
      },
      "execution_count": null,
      "outputs": [
        {
          "output_type": "execute_result",
          "data": {
            "text/plain": [
              "139881376465424"
            ]
          },
          "metadata": {},
          "execution_count": 67
        }
      ]
    },
    {
      "cell_type": "code",
      "source": [
        "type(b)\n",
        "#data types"
      ],
      "metadata": {
        "colab": {
          "base_uri": "https://localhost:8080/"
        },
        "id": "QSLHwhcg-6Xg",
        "outputId": "ac4c3c77-976f-422d-9558-08061c8229e9"
      },
      "execution_count": null,
      "outputs": [
        {
          "output_type": "execute_result",
          "data": {
            "text/plain": [
              "int"
            ]
          },
          "metadata": {},
          "execution_count": 68
        }
      ]
    },
    {
      "cell_type": "code",
      "source": [
        "help('type')"
      ],
      "metadata": {
        "id": "PUVHTWlQ_dp_"
      },
      "execution_count": null,
      "outputs": []
    },
    {
      "cell_type": "code",
      "source": [],
      "metadata": {
        "id": "qQzFNpvl_gZg"
      },
      "execution_count": null,
      "outputs": []
    },
    {
      "cell_type": "markdown",
      "source": [
        "#DATA TYPES"
      ],
      "metadata": {
        "id": "Wlul3pJm_vkE"
      }
    },
    {
      "cell_type": "code",
      "source": [
        " # classification or categorization of data items\n",
        " # represent a kind of value that determines what operations can be performed on that data"
      ],
      "metadata": {
        "id": "gsQbG4vmSqg8"
      },
      "execution_count": null,
      "outputs": []
    },
    {
      "cell_type": "code",
      "source": [
        "## none , numeric , list , tuple , set , string, range, dictionary \n",
        "#none = varible without any value\n",
        "\n"
      ],
      "metadata": {
        "id": "4bDnGzOm_w2O"
      },
      "execution_count": null,
      "outputs": []
    },
    {
      "cell_type": "markdown",
      "source": [
        "numeric data types"
      ],
      "metadata": {
        "id": "-ArCksJbEPW3"
      }
    },
    {
      "cell_type": "code",
      "source": [
        "# numeric = int,float,complex,bool\n",
        "a = 2\n",
        "b = 2.5\n",
        "c = 9+4j\n",
        "d = True"
      ],
      "metadata": {
        "id": "hWlgtMuzAkEL"
      },
      "execution_count": null,
      "outputs": []
    },
    {
      "cell_type": "code",
      "source": [
        "isinstance(b,float)"
      ],
      "metadata": {
        "colab": {
          "base_uri": "https://localhost:8080/"
        },
        "id": "JRl8pKTyfNoo",
        "outputId": "9da2f6cc-26f2-47ba-e687-1010a6e7fc4b"
      },
      "execution_count": null,
      "outputs": [
        {
          "output_type": "execute_result",
          "data": {
            "text/plain": [
              "True"
            ]
          },
          "metadata": {},
          "execution_count": 3
        }
      ]
    },
    {
      "cell_type": "code",
      "source": [
        "type(c)"
      ],
      "metadata": {
        "colab": {
          "base_uri": "https://localhost:8080/"
        },
        "id": "awsTRGVLDEfa",
        "outputId": "d5801918-2421-4a78-eb2f-be376570ac5b"
      },
      "execution_count": null,
      "outputs": [
        {
          "output_type": "execute_result",
          "data": {
            "text/plain": [
              "complex"
            ]
          },
          "metadata": {},
          "execution_count": 77
        }
      ]
    },
    {
      "cell_type": "code",
      "source": [
        "type(d)"
      ],
      "metadata": {
        "colab": {
          "base_uri": "https://localhost:8080/"
        },
        "id": "ZP9KjyMEDFMV",
        "outputId": "b61c1015-15ba-4628-ddf7-a79481084c94"
      },
      "execution_count": null,
      "outputs": [
        {
          "output_type": "execute_result",
          "data": {
            "text/plain": [
              "bool"
            ]
          },
          "metadata": {},
          "execution_count": 79
        }
      ]
    },
    {
      "cell_type": "markdown",
      "source": [
        "Data type conversion"
      ],
      "metadata": {
        "id": "ve1ftfbgDXl-"
      }
    },
    {
      "cell_type": "code",
      "source": [
        "b = int(b)\n",
        "type(b)"
      ],
      "metadata": {
        "colab": {
          "base_uri": "https://localhost:8080/"
        },
        "id": "tpxudCudDIdA",
        "outputId": "925019a3-ef29-4f18-cc0a-c295b8164cd7"
      },
      "execution_count": null,
      "outputs": [
        {
          "output_type": "execute_result",
          "data": {
            "text/plain": [
              "int"
            ]
          },
          "metadata": {},
          "execution_count": 81
        }
      ]
    },
    {
      "cell_type": "code",
      "source": [
        "a = float(a)\n",
        "type(a)\n"
      ],
      "metadata": {
        "colab": {
          "base_uri": "https://localhost:8080/"
        },
        "id": "5RVMtHwsDMl4",
        "outputId": "ed07d3af-961c-447a-acb1-d9f5f78d6493"
      },
      "execution_count": null,
      "outputs": [
        {
          "output_type": "execute_result",
          "data": {
            "text/plain": [
              "float"
            ]
          },
          "metadata": {},
          "execution_count": 83
        }
      ]
    },
    {
      "cell_type": "code",
      "source": [
        "k = complex(b,a)\n",
        "k"
      ],
      "metadata": {
        "colab": {
          "base_uri": "https://localhost:8080/"
        },
        "id": "jwgOjL74DUOE",
        "outputId": "85a60369-7f3a-4f0c-b110-d68d9fa97c6e"
      },
      "execution_count": null,
      "outputs": [
        {
          "output_type": "execute_result",
          "data": {
            "text/plain": [
              "(2+2j)"
            ]
          },
          "metadata": {},
          "execution_count": 85
        }
      ]
    },
    {
      "cell_type": "code",
      "source": [
        "b<a"
      ],
      "metadata": {
        "colab": {
          "base_uri": "https://localhost:8080/"
        },
        "id": "04wwqYvJDmW5",
        "outputId": "ef187785-1885-43b3-8fb8-c712555fb32e"
      },
      "execution_count": null,
      "outputs": [
        {
          "output_type": "execute_result",
          "data": {
            "text/plain": [
              "False"
            ]
          },
          "metadata": {},
          "execution_count": 86
        }
      ]
    },
    {
      "cell_type": "code",
      "source": [
        "value = b<a\n",
        "type(value)"
      ],
      "metadata": {
        "colab": {
          "base_uri": "https://localhost:8080/"
        },
        "id": "08ZBXK4zDzws",
        "outputId": "8d128f58-55b7-499e-9014-51262152262d"
      },
      "execution_count": null,
      "outputs": [
        {
          "output_type": "execute_result",
          "data": {
            "text/plain": [
              "bool"
            ]
          },
          "metadata": {},
          "execution_count": 88
        }
      ]
    },
    {
      "cell_type": "markdown",
      "source": [
        "sequence data types"
      ],
      "metadata": {
        "id": "VkFCeGhwEMSw"
      }
    },
    {
      "cell_type": "code",
      "source": [
        "# list , tuple , set, string , range "
      ],
      "metadata": {
        "id": "r0RIKasDD4jI"
      },
      "execution_count": null,
      "outputs": []
    },
    {
      "cell_type": "code",
      "source": [
        "s = []\n",
        "type(s)"
      ],
      "metadata": {
        "colab": {
          "base_uri": "https://localhost:8080/"
        },
        "id": "myU7YKrdEbm-",
        "outputId": "7c122934-3010-4b14-cd35-9fb91c379f9e"
      },
      "execution_count": null,
      "outputs": [
        {
          "output_type": "execute_result",
          "data": {
            "text/plain": [
              "list"
            ]
          },
          "metadata": {},
          "execution_count": 91
        }
      ]
    },
    {
      "cell_type": "code",
      "source": [
        "y = {}\n",
        "type(y)\n"
      ],
      "metadata": {
        "colab": {
          "base_uri": "https://localhost:8080/"
        },
        "id": "UqZNEBeeEdM9",
        "outputId": "ea9d5757-5d68-4f4e-b203-abacc5908ce3"
      },
      "execution_count": null,
      "outputs": [
        {
          "output_type": "execute_result",
          "data": {
            "text/plain": [
              "dict"
            ]
          },
          "metadata": {},
          "execution_count": 92
        }
      ]
    },
    {
      "cell_type": "code",
      "source": [
        "b = ()\n",
        "type(b)"
      ],
      "metadata": {
        "colab": {
          "base_uri": "https://localhost:8080/"
        },
        "id": "FJpu19ivEhDQ",
        "outputId": "b28c6d2a-d2b1-4351-b26e-4a6b8c2815e8"
      },
      "execution_count": null,
      "outputs": [
        {
          "output_type": "execute_result",
          "data": {
            "text/plain": [
              "tuple"
            ]
          },
          "metadata": {},
          "execution_count": 93
        }
      ]
    },
    {
      "cell_type": "code",
      "source": [
        "k = ''\n",
        "type(k)"
      ],
      "metadata": {
        "colab": {
          "base_uri": "https://localhost:8080/"
        },
        "id": "RB_hjqKdEkWM",
        "outputId": "b4af0fe9-f1d4-4545-e710-1c969617a076"
      },
      "execution_count": null,
      "outputs": [
        {
          "output_type": "execute_result",
          "data": {
            "text/plain": [
              "str"
            ]
          },
          "metadata": {},
          "execution_count": 94
        }
      ]
    },
    {
      "cell_type": "code",
      "source": [
        "# range is only there in python\n",
        "range(10)"
      ],
      "metadata": {
        "colab": {
          "base_uri": "https://localhost:8080/"
        },
        "id": "hetuFAmMEngc",
        "outputId": "96a7ce8a-f71a-4c0f-ae48-5b2c3e025542"
      },
      "execution_count": null,
      "outputs": [
        {
          "output_type": "execute_result",
          "data": {
            "text/plain": [
              "range(0, 10)"
            ]
          },
          "metadata": {},
          "execution_count": 96
        }
      ]
    },
    {
      "cell_type": "code",
      "source": [
        "list(range(10))"
      ],
      "metadata": {
        "colab": {
          "base_uri": "https://localhost:8080/"
        },
        "id": "IsrOxz0jEzog",
        "outputId": "7d8723d3-f392-42e4-9b63-4ade8cf55bce"
      },
      "execution_count": null,
      "outputs": [
        {
          "output_type": "execute_result",
          "data": {
            "text/plain": [
              "[0, 1, 2, 3, 4, 5, 6, 7, 8, 9]"
            ]
          },
          "metadata": {},
          "execution_count": 97
        }
      ]
    },
    {
      "cell_type": "code",
      "source": [
        "list(range(2,11,2))\n"
      ],
      "metadata": {
        "colab": {
          "base_uri": "https://localhost:8080/"
        },
        "id": "63_hAtziE7xY",
        "outputId": "a4418db4-025d-4663-d8d0-d6908944cf3f"
      },
      "execution_count": null,
      "outputs": [
        {
          "output_type": "execute_result",
          "data": {
            "text/plain": [
              "[2, 4, 6, 8, 10]"
            ]
          },
          "metadata": {},
          "execution_count": 98
        }
      ]
    },
    {
      "cell_type": "markdown",
      "source": [
        "Unordered "
      ],
      "metadata": {
        "id": "ZHId0oiPFJav"
      }
    },
    {
      "cell_type": "code",
      "source": [
        "# dictionary is an unordered data type\n",
        "# key value pair\n",
        "# all keys shd be unique, usually denoted by sets\n",
        "# values can change"
      ],
      "metadata": {
        "id": "chzMvUDfFG-P"
      },
      "execution_count": null,
      "outputs": []
    },
    {
      "cell_type": "markdown",
      "source": [
        "# OPERATORS\n",
        "\n",
        "\n",
        "\n"
      ],
      "metadata": {
        "id": "wYwwrmNrGPQ4"
      }
    },
    {
      "cell_type": "code",
      "source": [
        "x = 3\n",
        "y = 4"
      ],
      "metadata": {
        "id": "_u3r_2n7FeGP"
      },
      "execution_count": null,
      "outputs": []
    },
    {
      "cell_type": "markdown",
      "source": [
        "ARITHMATIC OPERATORS"
      ],
      "metadata": {
        "id": "a0uzyYk9G6N_"
      }
    },
    {
      "cell_type": "code",
      "source": [
        "x+y"
      ],
      "metadata": {
        "colab": {
          "base_uri": "https://localhost:8080/"
        },
        "id": "cvzdgL3wGaWR",
        "outputId": "694a56b3-af12-4595-92c8-010ea826d6f1"
      },
      "execution_count": null,
      "outputs": [
        {
          "output_type": "execute_result",
          "data": {
            "text/plain": [
              "7"
            ]
          },
          "metadata": {},
          "execution_count": 102
        }
      ]
    },
    {
      "cell_type": "code",
      "source": [
        "x-y"
      ],
      "metadata": {
        "colab": {
          "base_uri": "https://localhost:8080/"
        },
        "id": "RbAvhdkWGbr1",
        "outputId": "254076b0-25ad-4775-b3a8-90926dbe89c9"
      },
      "execution_count": null,
      "outputs": [
        {
          "output_type": "execute_result",
          "data": {
            "text/plain": [
              "-1"
            ]
          },
          "metadata": {},
          "execution_count": 103
        }
      ]
    },
    {
      "cell_type": "code",
      "source": [
        "x*y"
      ],
      "metadata": {
        "colab": {
          "base_uri": "https://localhost:8080/"
        },
        "id": "mCjbJAfyGchr",
        "outputId": "5fa0a46f-e828-4a61-d5ea-448594e0e005"
      },
      "execution_count": null,
      "outputs": [
        {
          "output_type": "execute_result",
          "data": {
            "text/plain": [
              "12"
            ]
          },
          "metadata": {},
          "execution_count": 104
        }
      ]
    },
    {
      "cell_type": "code",
      "source": [
        "x = x +2\n",
        "x"
      ],
      "metadata": {
        "colab": {
          "base_uri": "https://localhost:8080/"
        },
        "id": "fu_Ggn3vGdd3",
        "outputId": "49161e38-e151-48ec-bdd3-a39b4aa1c020"
      },
      "execution_count": null,
      "outputs": [
        {
          "output_type": "execute_result",
          "data": {
            "text/plain": [
              "9"
            ]
          },
          "metadata": {},
          "execution_count": 107
        }
      ]
    },
    {
      "cell_type": "code",
      "source": [
        "x+=2\n",
        "x"
      ],
      "metadata": {
        "colab": {
          "base_uri": "https://localhost:8080/"
        },
        "id": "RBqBXmKzGfe8",
        "outputId": "c356bf9c-505d-4104-db88-073df0d09232"
      },
      "execution_count": null,
      "outputs": [
        {
          "output_type": "execute_result",
          "data": {
            "text/plain": [
              "11"
            ]
          },
          "metadata": {},
          "execution_count": 108
        }
      ]
    },
    {
      "cell_type": "code",
      "source": [
        "x *= 3\n",
        "x"
      ],
      "metadata": {
        "colab": {
          "base_uri": "https://localhost:8080/"
        },
        "id": "jjVQENozGgXh",
        "outputId": "06a90ff4-19e4-4e54-9224-c7b03d220d63"
      },
      "execution_count": null,
      "outputs": [
        {
          "output_type": "execute_result",
          "data": {
            "text/plain": [
              "99"
            ]
          },
          "metadata": {},
          "execution_count": 110
        }
      ]
    },
    {
      "cell_type": "code",
      "source": [
        "a,b = 5,6\n"
      ],
      "metadata": {
        "id": "XyGgyBHdGpN5"
      },
      "execution_count": null,
      "outputs": []
    },
    {
      "cell_type": "code",
      "source": [
        "n = 7\n",
        "-n"
      ],
      "metadata": {
        "colab": {
          "base_uri": "https://localhost:8080/"
        },
        "id": "jdzdG0l8GtiY",
        "outputId": "9afdbd82-5eae-4fa0-8deb-a9403460ab87"
      },
      "execution_count": null,
      "outputs": [
        {
          "output_type": "execute_result",
          "data": {
            "text/plain": [
              "-7"
            ]
          },
          "metadata": {},
          "execution_count": 113
        }
      ]
    },
    {
      "cell_type": "markdown",
      "source": [
        "RELATIONAL OPERATORS"
      ],
      "metadata": {
        "id": "Jc1LCdTBG-Hm"
      }
    },
    {
      "cell_type": "code",
      "source": [
        "a<b"
      ],
      "metadata": {
        "colab": {
          "base_uri": "https://localhost:8080/"
        },
        "id": "bDy0iqcCG1he",
        "outputId": "30f857b5-21bf-4790-db4f-2e37e88e05c9"
      },
      "execution_count": null,
      "outputs": [
        {
          "output_type": "execute_result",
          "data": {
            "text/plain": [
              "True"
            ]
          },
          "metadata": {},
          "execution_count": 114
        }
      ]
    },
    {
      "cell_type": "code",
      "source": [
        "a>b"
      ],
      "metadata": {
        "colab": {
          "base_uri": "https://localhost:8080/"
        },
        "id": "cp1l34wIHKYI",
        "outputId": "ed74e0c5-3919-4462-930c-9c473562d1c4"
      },
      "execution_count": null,
      "outputs": [
        {
          "output_type": "execute_result",
          "data": {
            "text/plain": [
              "False"
            ]
          },
          "metadata": {},
          "execution_count": 115
        }
      ]
    },
    {
      "cell_type": "code",
      "source": [
        "a==b"
      ],
      "metadata": {
        "colab": {
          "base_uri": "https://localhost:8080/"
        },
        "id": "B-oUj0BLHMNI",
        "outputId": "32c3b370-85c4-4a89-ef9d-98e04cbc6f0d"
      },
      "execution_count": null,
      "outputs": [
        {
          "output_type": "execute_result",
          "data": {
            "text/plain": [
              "False"
            ]
          },
          "metadata": {},
          "execution_count": 116
        }
      ]
    },
    {
      "cell_type": "code",
      "source": [
        "a!=b"
      ],
      "metadata": {
        "colab": {
          "base_uri": "https://localhost:8080/"
        },
        "id": "vJ8ERHa8HOhq",
        "outputId": "c0ec59f0-d546-47f4-8803-8393dc1050eb"
      },
      "execution_count": null,
      "outputs": [
        {
          "output_type": "execute_result",
          "data": {
            "text/plain": [
              "True"
            ]
          },
          "metadata": {},
          "execution_count": 117
        }
      ]
    },
    {
      "cell_type": "code",
      "source": [
        "a>=b"
      ],
      "metadata": {
        "colab": {
          "base_uri": "https://localhost:8080/"
        },
        "id": "gIOBF9JmHREc",
        "outputId": "f3ae9ae3-1a39-4581-9080-687548663447"
      },
      "execution_count": null,
      "outputs": [
        {
          "output_type": "execute_result",
          "data": {
            "text/plain": [
              "False"
            ]
          },
          "metadata": {},
          "execution_count": 118
        }
      ]
    },
    {
      "cell_type": "code",
      "source": [
        "a<=b"
      ],
      "metadata": {
        "colab": {
          "base_uri": "https://localhost:8080/"
        },
        "id": "rmbFC6l8HTAi",
        "outputId": "d1bd382a-2e8f-4442-e78a-912ac36c6cbb"
      },
      "execution_count": null,
      "outputs": [
        {
          "output_type": "execute_result",
          "data": {
            "text/plain": [
              "True"
            ]
          },
          "metadata": {},
          "execution_count": 119
        }
      ]
    },
    {
      "cell_type": "markdown",
      "source": [
        "LOGICAL OPERATORS"
      ],
      "metadata": {
        "id": "YG1ro8UoHdsr"
      }
    },
    {
      "cell_type": "code",
      "source": [
        "# AND OR NOT"
      ],
      "metadata": {
        "id": "wzKJAFRsHUIw"
      },
      "execution_count": null,
      "outputs": []
    },
    {
      "cell_type": "code",
      "source": [
        "a = 5\n",
        "b = 4"
      ],
      "metadata": {
        "id": "YEihjmTyHhXs"
      },
      "execution_count": null,
      "outputs": []
    },
    {
      "cell_type": "code",
      "source": [
        "a<8 and b >3 "
      ],
      "metadata": {
        "colab": {
          "base_uri": "https://localhost:8080/"
        },
        "id": "lpNdqldOHjFZ",
        "outputId": "b849ec5f-d4f8-4ce6-c4de-9d610248caf4"
      },
      "execution_count": null,
      "outputs": [
        {
          "output_type": "execute_result",
          "data": {
            "text/plain": [
              "True"
            ]
          },
          "metadata": {},
          "execution_count": 123
        }
      ]
    },
    {
      "cell_type": "code",
      "source": [
        "a<7 or b<2"
      ],
      "metadata": {
        "colab": {
          "base_uri": "https://localhost:8080/"
        },
        "id": "q41SqHCDHnHj",
        "outputId": "1e945d65-21f1-447d-9193-27bef0774c1b"
      },
      "execution_count": null,
      "outputs": [
        {
          "output_type": "execute_result",
          "data": {
            "text/plain": [
              "True"
            ]
          },
          "metadata": {},
          "execution_count": 124
        }
      ]
    },
    {
      "cell_type": "code",
      "source": [
        "x = True"
      ],
      "metadata": {
        "id": "hgUF02nuHvlg"
      },
      "execution_count": null,
      "outputs": []
    },
    {
      "cell_type": "code",
      "source": [
        "not x "
      ],
      "metadata": {
        "colab": {
          "base_uri": "https://localhost:8080/"
        },
        "id": "IGLzIRm8H7Kn",
        "outputId": "2c3afc6a-ad17-454f-d8c8-0519f9be2a00"
      },
      "execution_count": null,
      "outputs": [
        {
          "output_type": "execute_result",
          "data": {
            "text/plain": [
              "False"
            ]
          },
          "metadata": {},
          "execution_count": 127
        }
      ]
    },
    {
      "cell_type": "code",
      "source": [
        "y = b>3\n",
        "a<7 and not y "
      ],
      "metadata": {
        "colab": {
          "base_uri": "https://localhost:8080/"
        },
        "id": "ajWJZTNhH8ch",
        "outputId": "eee9cc96-7d22-4182-fe24-55b4429c41eb"
      },
      "execution_count": null,
      "outputs": [
        {
          "output_type": "execute_result",
          "data": {
            "text/plain": [
              "False"
            ]
          },
          "metadata": {},
          "execution_count": 128
        }
      ]
    },
    {
      "cell_type": "markdown",
      "source": [
        "#NUMBER CONVERSION"
      ],
      "metadata": {
        "id": "D9Uyc1jTIOSy"
      }
    },
    {
      "cell_type": "code",
      "source": [
        "# BINARY, OCTAL , HEXA , DECIMAL"
      ],
      "metadata": {
        "id": "HV0K2E2pIFGC"
      },
      "execution_count": null,
      "outputs": []
    },
    {
      "cell_type": "code",
      "source": [
        "bin(25)"
      ],
      "metadata": {
        "colab": {
          "base_uri": "https://localhost:8080/",
          "height": 36
        },
        "id": "4Kalubu2IYLC",
        "outputId": "5ff15fc7-34d3-4b77-ee7c-083cf81c2d29"
      },
      "execution_count": null,
      "outputs": [
        {
          "output_type": "execute_result",
          "data": {
            "text/plain": [
              "'0b11001'"
            ],
            "application/vnd.google.colaboratory.intrinsic+json": {
              "type": "string"
            }
          },
          "metadata": {},
          "execution_count": 1
        }
      ]
    },
    {
      "cell_type": "code",
      "source": [
        "oct(5)"
      ],
      "metadata": {
        "colab": {
          "base_uri": "https://localhost:8080/",
          "height": 36
        },
        "id": "gmY_qrwrYpjM",
        "outputId": "7a97287f-dc60-4fc0-fc5b-abf7bd5e3401"
      },
      "execution_count": null,
      "outputs": [
        {
          "output_type": "execute_result",
          "data": {
            "text/plain": [
              "'0o5'"
            ],
            "application/vnd.google.colaboratory.intrinsic+json": {
              "type": "string"
            }
          },
          "metadata": {},
          "execution_count": 2
        }
      ]
    },
    {
      "cell_type": "code",
      "source": [
        "0b11001"
      ],
      "metadata": {
        "colab": {
          "base_uri": "https://localhost:8080/"
        },
        "id": "SsMAztvpYvu5",
        "outputId": "cfe1e459-0691-4515-9fa1-ccaddb33e16b"
      },
      "execution_count": null,
      "outputs": [
        {
          "output_type": "execute_result",
          "data": {
            "text/plain": [
              "25"
            ]
          },
          "metadata": {},
          "execution_count": 4
        }
      ]
    },
    {
      "cell_type": "code",
      "source": [
        "oct(25)"
      ],
      "metadata": {
        "colab": {
          "base_uri": "https://localhost:8080/",
          "height": 36
        },
        "id": "mPnbNNsEYzNQ",
        "outputId": "16e10c0c-56a5-473b-fa30-d823a92872f7"
      },
      "execution_count": null,
      "outputs": [
        {
          "output_type": "execute_result",
          "data": {
            "text/plain": [
              "'0o31'"
            ],
            "application/vnd.google.colaboratory.intrinsic+json": {
              "type": "string"
            }
          },
          "metadata": {},
          "execution_count": 5
        }
      ]
    },
    {
      "cell_type": "code",
      "source": [
        "0o31"
      ],
      "metadata": {
        "colab": {
          "base_uri": "https://localhost:8080/"
        },
        "id": "iv_IuxR3ZJ10",
        "outputId": "691c8029-5584-4691-d7ba-02cf3d3a901c"
      },
      "execution_count": null,
      "outputs": [
        {
          "output_type": "execute_result",
          "data": {
            "text/plain": [
              "25"
            ]
          },
          "metadata": {},
          "execution_count": 6
        }
      ]
    },
    {
      "cell_type": "code",
      "source": [
        "type(0o31)"
      ],
      "metadata": {
        "colab": {
          "base_uri": "https://localhost:8080/"
        },
        "id": "ObzheT5nZNy2",
        "outputId": "9d4e2266-bea4-4ff2-9ec3-2fb47ab95c1f"
      },
      "execution_count": null,
      "outputs": [
        {
          "output_type": "execute_result",
          "data": {
            "text/plain": [
              "int"
            ]
          },
          "metadata": {},
          "execution_count": 7
        }
      ]
    },
    {
      "cell_type": "code",
      "source": [
        "y = 0o31\n",
        "y"
      ],
      "metadata": {
        "colab": {
          "base_uri": "https://localhost:8080/"
        },
        "id": "m1HQVPa-ZP7S",
        "outputId": "716b8602-849a-4f50-dc66-12893815981e"
      },
      "execution_count": null,
      "outputs": [
        {
          "output_type": "execute_result",
          "data": {
            "text/plain": [
              "25"
            ]
          },
          "metadata": {},
          "execution_count": 8
        }
      ]
    },
    {
      "cell_type": "code",
      "source": [
        "type(y)"
      ],
      "metadata": {
        "colab": {
          "base_uri": "https://localhost:8080/"
        },
        "id": "U-xD-sOmZU19",
        "outputId": "784077a7-d93d-40cf-b5e6-df395540a197"
      },
      "execution_count": null,
      "outputs": [
        {
          "output_type": "execute_result",
          "data": {
            "text/plain": [
              "int"
            ]
          },
          "metadata": {},
          "execution_count": 9
        }
      ]
    },
    {
      "cell_type": "code",
      "source": [
        "hex(25)"
      ],
      "metadata": {
        "colab": {
          "base_uri": "https://localhost:8080/",
          "height": 36
        },
        "id": "IZe56OsdZW-h",
        "outputId": "c0133956-24dc-4bf7-ab42-8423bae3e165"
      },
      "execution_count": null,
      "outputs": [
        {
          "output_type": "execute_result",
          "data": {
            "text/plain": [
              "'0x19'"
            ],
            "application/vnd.google.colaboratory.intrinsic+json": {
              "type": "string"
            }
          },
          "metadata": {},
          "execution_count": 10
        }
      ]
    },
    {
      "cell_type": "code",
      "source": [],
      "metadata": {
        "id": "Gi6RyPW1ZYUM"
      },
      "execution_count": null,
      "outputs": []
    },
    {
      "cell_type": "markdown",
      "source": [
        "#SWAP TWO NUMBERS "
      ],
      "metadata": {
        "id": "znQdo1p2ZsNx"
      }
    },
    {
      "cell_type": "code",
      "source": [
        "a = 5\n",
        "b = 6\n",
        "\n",
        "#use 3rd variable \n",
        "c= a\n",
        "a = b \n",
        "b = c"
      ],
      "metadata": {
        "id": "L7bubrqCZuMJ"
      },
      "execution_count": null,
      "outputs": []
    },
    {
      "cell_type": "code",
      "source": [
        "a"
      ],
      "metadata": {
        "colab": {
          "base_uri": "https://localhost:8080/"
        },
        "id": "KwICK9HcZ53h",
        "outputId": "c35ad6f8-30d0-4a16-fcef-5cd2eaf8fe9e"
      },
      "execution_count": null,
      "outputs": [
        {
          "output_type": "execute_result",
          "data": {
            "text/plain": [
              "6"
            ]
          },
          "metadata": {},
          "execution_count": 12
        }
      ]
    },
    {
      "cell_type": "code",
      "source": [
        "b"
      ],
      "metadata": {
        "colab": {
          "base_uri": "https://localhost:8080/"
        },
        "id": "4-JB4hsUZ63C",
        "outputId": "3d60254a-0619-4820-e7f0-1cdbe9c05651"
      },
      "execution_count": null,
      "outputs": [
        {
          "output_type": "execute_result",
          "data": {
            "text/plain": [
              "5"
            ]
          },
          "metadata": {},
          "execution_count": 13
        }
      ]
    },
    {
      "cell_type": "code",
      "source": [
        "# here we are wasting a variable ( memory )\n",
        "# instead\n",
        "a = a+b\n",
        "b = a-b\n",
        "a = a-b\n",
        "print(a,b)\n",
        "# here we used a+b which also increases the memory"
      ],
      "metadata": {
        "colab": {
          "base_uri": "https://localhost:8080/"
        },
        "id": "V9zp1kxnZ7Ka",
        "outputId": "6f646bbe-205f-430b-e91d-84235708f2d8"
      },
      "execution_count": null,
      "outputs": [
        {
          "output_type": "stream",
          "name": "stdout",
          "text": [
            "6 5\n"
          ]
        }
      ]
    },
    {
      "cell_type": "code",
      "source": [
        "# ^ is xor\n",
        "a = a^b\n",
        "b = a^b\n",
        "a = a^b\n",
        "print(a,b)"
      ],
      "metadata": {
        "colab": {
          "base_uri": "https://localhost:8080/"
        },
        "id": "lytWI95kaOn8",
        "outputId": "16e251d7-12ea-4e84-945f-05e0597a32a8"
      },
      "execution_count": null,
      "outputs": [
        {
          "output_type": "stream",
          "name": "stdout",
          "text": [
            "5 6\n"
          ]
        }
      ]
    },
    {
      "cell_type": "markdown",
      "source": [
        "ROTATION TWO METHOD"
      ],
      "metadata": {
        "id": "igkcz_0Fcr51"
      }
    },
    {
      "cell_type": "code",
      "source": [
        "#yet another way\n",
        "c = 9\n",
        "t = 3\n",
        "c,t = t, c\n",
        "print(c)\n",
        "print(t)\n",
        "# rotation two method"
      ],
      "metadata": {
        "colab": {
          "base_uri": "https://localhost:8080/"
        },
        "id": "3BQ7XJtualAL",
        "outputId": "893ee047-8239-4013-8f0c-0c96330022e7"
      },
      "execution_count": null,
      "outputs": [
        {
          "output_type": "stream",
          "name": "stdout",
          "text": [
            "3\n",
            "9\n"
          ]
        }
      ]
    },
    {
      "cell_type": "markdown",
      "source": [
        "# BITWISE OPERATORS"
      ],
      "metadata": {
        "id": "D36Z9LwSbWaB"
      }
    },
    {
      "cell_type": "code",
      "source": [
        "# COMPLEMENT(~)\n",
        "#AND(&)\n",
        "# OR (|)\n",
        "# XOR(^)\n",
        "# LEFTSHIFT(<<)\n",
        "# RIGHTSHIFT(>>)\n"
      ],
      "metadata": {
        "id": "EqfIYXf8aqwS"
      },
      "execution_count": null,
      "outputs": []
    },
    {
      "cell_type": "markdown",
      "source": [
        "COMPLEMENT ~"
      ],
      "metadata": {
        "id": "OL1VNsHDcnGO"
      }
    },
    {
      "cell_type": "code",
      "source": [
        "~12"
      ],
      "metadata": {
        "colab": {
          "base_uri": "https://localhost:8080/"
        },
        "id": "pcDxBTUEcmWt",
        "outputId": "169ebbe9-3496-42d6-ef4e-09429d17934b"
      },
      "execution_count": null,
      "outputs": [
        {
          "output_type": "execute_result",
          "data": {
            "text/plain": [
              "-13"
            ]
          },
          "metadata": {},
          "execution_count": 21
        }
      ]
    },
    {
      "cell_type": "code",
      "source": [
        "#COMPLEMENT OF THE BINARY NUMBER\n",
        "# 2's complement = 1's complement +1 = 1's complement(13) +1 = 11110010 +1 \n",
        "# = 11110011 which is -13 which is also 12\n"
      ],
      "metadata": {
        "id": "LxSQ13cecv5W"
      },
      "execution_count": null,
      "outputs": []
    },
    {
      "cell_type": "markdown",
      "source": [
        "BITWISE AND &"
      ],
      "metadata": {
        "id": "RDBhOGdAi1e5"
      }
    },
    {
      "cell_type": "code",
      "source": [
        "12 & 13 "
      ],
      "metadata": {
        "colab": {
          "base_uri": "https://localhost:8080/"
        },
        "id": "tCE155UMi37O",
        "outputId": "2246e778-35b6-4dce-f1ef-c7a029a67752"
      },
      "execution_count": null,
      "outputs": [
        {
          "output_type": "execute_result",
          "data": {
            "text/plain": [
              "12"
            ]
          },
          "metadata": {},
          "execution_count": 22
        }
      ]
    },
    {
      "cell_type": "code",
      "source": [
        "bin(12)"
      ],
      "metadata": {
        "colab": {
          "base_uri": "https://localhost:8080/",
          "height": 36
        },
        "id": "MVHAPYf0i8Lg",
        "outputId": "50e597ff-76f6-45a7-a90d-b506b03ea59d"
      },
      "execution_count": null,
      "outputs": [
        {
          "output_type": "execute_result",
          "data": {
            "text/plain": [
              "'0b1100'"
            ],
            "application/vnd.google.colaboratory.intrinsic+json": {
              "type": "string"
            }
          },
          "metadata": {},
          "execution_count": 23
        }
      ]
    },
    {
      "cell_type": "code",
      "source": [
        "bin(13)"
      ],
      "metadata": {
        "colab": {
          "base_uri": "https://localhost:8080/",
          "height": 36
        },
        "id": "fbhLR3x-jD2D",
        "outputId": "e9fd4eba-a9b2-4acb-c3ca-b7c85ba00459"
      },
      "execution_count": null,
      "outputs": [
        {
          "output_type": "execute_result",
          "data": {
            "text/plain": [
              "'0b1101'"
            ],
            "application/vnd.google.colaboratory.intrinsic+json": {
              "type": "string"
            }
          },
          "metadata": {},
          "execution_count": 24
        }
      ]
    },
    {
      "cell_type": "code",
      "source": [
        "# and operation of binary numbers of 12 and 13 gives 12\n",
        "# 1100 and 1101 = 1100 "
      ],
      "metadata": {
        "id": "hK_kbG48jNFc"
      },
      "execution_count": null,
      "outputs": []
    },
    {
      "cell_type": "markdown",
      "source": [
        "OR |"
      ],
      "metadata": {
        "id": "goUO9nZOjaL5"
      }
    },
    {
      "cell_type": "code",
      "source": [
        "12|13\n",
        "# 1100 or 1101 = 1101"
      ],
      "metadata": {
        "colab": {
          "base_uri": "https://localhost:8080/"
        },
        "id": "1C1xMGo9jcDq",
        "outputId": "4131c1cd-e99b-40d5-d6b1-0a7cf0e5b807"
      },
      "execution_count": null,
      "outputs": [
        {
          "output_type": "execute_result",
          "data": {
            "text/plain": [
              "13"
            ]
          },
          "metadata": {},
          "execution_count": 26
        }
      ]
    },
    {
      "cell_type": "code",
      "source": [
        "25&30"
      ],
      "metadata": {
        "colab": {
          "base_uri": "https://localhost:8080/"
        },
        "id": "XzWq03ULjfpT",
        "outputId": "3167bdc1-2a2c-4381-e4cc-e2f04fc424c8"
      },
      "execution_count": null,
      "outputs": [
        {
          "output_type": "execute_result",
          "data": {
            "text/plain": [
              "24"
            ]
          },
          "metadata": {},
          "execution_count": 27
        }
      ]
    },
    {
      "cell_type": "markdown",
      "source": [
        "XOR ^"
      ],
      "metadata": {
        "id": "re6xyHtQjrM2"
      }
    },
    {
      "cell_type": "code",
      "source": [
        "12 ^ 13"
      ],
      "metadata": {
        "colab": {
          "base_uri": "https://localhost:8080/"
        },
        "id": "0kX-F7Nujp46",
        "outputId": "c57c7613-97f5-49e1-c8c6-5eef6f08124b"
      },
      "execution_count": null,
      "outputs": [
        {
          "output_type": "execute_result",
          "data": {
            "text/plain": [
              "1"
            ]
          },
          "metadata": {},
          "execution_count": 28
        }
      ]
    },
    {
      "cell_type": "markdown",
      "source": [
        "LEFT SHIFT <<"
      ],
      "metadata": {
        "id": "DxiH92xej2lH"
      }
    },
    {
      "cell_type": "code",
      "source": [
        "10 <<2\n",
        "# 1010.0000 = 101000.0000\n",
        "# SHIFT THESE 4 DIGITS LEFT SIDE\n"
      ],
      "metadata": {
        "colab": {
          "base_uri": "https://localhost:8080/"
        },
        "id": "jIEy3jQajunA",
        "outputId": "b4f7b2a4-852f-4a5e-a738-e8dabcc8a3f5"
      },
      "execution_count": null,
      "outputs": [
        {
          "output_type": "execute_result",
          "data": {
            "text/plain": [
              "40"
            ]
          },
          "metadata": {},
          "execution_count": 31
        }
      ]
    },
    {
      "cell_type": "code",
      "source": [
        "0B101000"
      ],
      "metadata": {
        "colab": {
          "base_uri": "https://localhost:8080/"
        },
        "id": "zX5OqDcWj_TQ",
        "outputId": "ace51d76-c54e-4414-8c0b-c45fd3efdc2e"
      },
      "execution_count": null,
      "outputs": [
        {
          "output_type": "execute_result",
          "data": {
            "text/plain": [
              "40"
            ]
          },
          "metadata": {},
          "execution_count": 32
        }
      ]
    },
    {
      "cell_type": "markdown",
      "source": [
        "RIGHT SHIFT >>"
      ],
      "metadata": {
        "id": "QFuFzvWYkZzj"
      }
    },
    {
      "cell_type": "code",
      "source": [
        "10>>2\n",
        "# 1010.000 = 10"
      ],
      "metadata": {
        "colab": {
          "base_uri": "https://localhost:8080/"
        },
        "id": "gVFjpLh_kYll",
        "outputId": "9e1a139d-f18c-4e32-aa6d-7ac52f3ffc4f"
      },
      "execution_count": null,
      "outputs": [
        {
          "output_type": "execute_result",
          "data": {
            "text/plain": [
              "2"
            ]
          },
          "metadata": {},
          "execution_count": 33
        }
      ]
    },
    {
      "cell_type": "code",
      "source": [
        "# THESE THINGS WILL BE USEFULL IN SCIENTIFIC CALCULATIONS"
      ],
      "metadata": {
        "id": "0ZmGd-RGkvnA"
      },
      "execution_count": null,
      "outputs": []
    },
    {
      "cell_type": "markdown",
      "source": [
        "MATH FUNCTIONS"
      ],
      "metadata": {
        "id": "egAtTwvRk4zX"
      }
    },
    {
      "cell_type": "code",
      "source": [
        "import math "
      ],
      "metadata": {
        "id": "UyV178nRk3Up"
      },
      "execution_count": null,
      "outputs": []
    },
    {
      "cell_type": "code",
      "source": [
        "x = math.sqrt(25)\n",
        "x"
      ],
      "metadata": {
        "colab": {
          "base_uri": "https://localhost:8080/"
        },
        "id": "0qBsysRWlCNI",
        "outputId": "5d847deb-f7b4-453b-99cf-61cec3a3daa7"
      },
      "execution_count": null,
      "outputs": [
        {
          "output_type": "execute_result",
          "data": {
            "text/plain": [
              "5.0"
            ]
          },
          "metadata": {},
          "execution_count": 41
        }
      ]
    },
    {
      "cell_type": "code",
      "source": [
        "x = math.pi\n",
        "x"
      ],
      "metadata": {
        "colab": {
          "base_uri": "https://localhost:8080/"
        },
        "id": "z6ACJ13elEYE",
        "outputId": "28d5f2ae-6f67-422c-dc04-159269992b92"
      },
      "execution_count": null,
      "outputs": [
        {
          "output_type": "execute_result",
          "data": {
            "text/plain": [
              "3.141592653589793"
            ]
          },
          "metadata": {},
          "execution_count": 44
        }
      ]
    },
    {
      "cell_type": "code",
      "source": [
        "x = math.nan\n",
        "x"
      ],
      "metadata": {
        "colab": {
          "base_uri": "https://localhost:8080/"
        },
        "id": "fwWdj-i-lSxf",
        "outputId": "56464147-fd01-4192-de8c-3a98fda25e11"
      },
      "execution_count": null,
      "outputs": [
        {
          "output_type": "execute_result",
          "data": {
            "text/plain": [
              "nan"
            ]
          },
          "metadata": {},
          "execution_count": 45
        }
      ]
    },
    {
      "cell_type": "code",
      "source": [
        "x = 3.4\n",
        "print(math.floor(x))\n",
        "print(math.ceil(x))"
      ],
      "metadata": {
        "colab": {
          "base_uri": "https://localhost:8080/"
        },
        "id": "oPDcUNmSlgo9",
        "outputId": "cf258590-7e9f-4cab-ca90-1f7477e4c1df"
      },
      "execution_count": null,
      "outputs": [
        {
          "output_type": "stream",
          "name": "stdout",
          "text": [
            "3\n",
            "4\n"
          ]
        }
      ]
    },
    {
      "cell_type": "code",
      "source": [
        "import math as m \n",
        "x = m.pi"
      ],
      "metadata": {
        "id": "v87Nzwablwz3"
      },
      "execution_count": null,
      "outputs": []
    },
    {
      "cell_type": "code",
      "source": [
        "x"
      ],
      "metadata": {
        "colab": {
          "base_uri": "https://localhost:8080/"
        },
        "id": "ExfY-Sstz1Sx",
        "outputId": "ed1036ea-1323-46b8-d259-94cd12df03ca"
      },
      "execution_count": null,
      "outputs": [
        {
          "output_type": "execute_result",
          "data": {
            "text/plain": [
              "3.141592653589793"
            ]
          },
          "metadata": {},
          "execution_count": 48
        }
      ]
    },
    {
      "cell_type": "code",
      "source": [
        "from math import sqrt ,pow"
      ],
      "metadata": {
        "id": "RgZoheQqz3F7"
      },
      "execution_count": null,
      "outputs": []
    },
    {
      "cell_type": "code",
      "source": [
        "sqrt(9)"
      ],
      "metadata": {
        "colab": {
          "base_uri": "https://localhost:8080/"
        },
        "id": "9ca116WBz6gy",
        "outputId": "855db22a-1763-494f-e548-75a2ccd1734b"
      },
      "execution_count": null,
      "outputs": [
        {
          "output_type": "execute_result",
          "data": {
            "text/plain": [
              "3.0"
            ]
          },
          "metadata": {},
          "execution_count": 50
        }
      ]
    },
    {
      "cell_type": "code",
      "source": [
        "help(\"math\")"
      ],
      "metadata": {
        "id": "JRNN0sFLz9RP"
      },
      "execution_count": null,
      "outputs": []
    },
    {
      "cell_type": "markdown",
      "source": [
        "# USER INPUT"
      ],
      "metadata": {
        "id": "Nl1ydxwi1GW9"
      }
    },
    {
      "cell_type": "code",
      "source": [
        "x = input(\"give a number\")\n"
      ],
      "metadata": {
        "colab": {
          "base_uri": "https://localhost:8080/"
        },
        "id": "ESHtNihE03X0",
        "outputId": "44341a06-67d6-4cc4-d259-62aba75f6c0d"
      },
      "execution_count": null,
      "outputs": [
        {
          "name": "stdout",
          "output_type": "stream",
          "text": [
            "give a number3\n"
          ]
        }
      ]
    },
    {
      "cell_type": "code",
      "source": [
        "x = int(input(\"give a number\"))"
      ],
      "metadata": {
        "id": "lxP8USLm1ZXD"
      },
      "execution_count": null,
      "outputs": []
    },
    {
      "cell_type": "code",
      "source": [
        "ch = input()[0]\n",
        "# will only save 1st character from the input to ch\n"
      ],
      "metadata": {
        "colab": {
          "base_uri": "https://localhost:8080/"
        },
        "id": "CVkeof-s1sSG",
        "outputId": "1d3418d5-9dd8-4e3e-a721-c68af73cdaf3"
      },
      "execution_count": null,
      "outputs": [
        {
          "name": "stdout",
          "output_type": "stream",
          "text": [
            "34\n"
          ]
        }
      ]
    },
    {
      "cell_type": "code",
      "source": [
        "result = eval(input(\"enter an expression\"))"
      ],
      "metadata": {
        "id": "zsm3vq2C2DCL"
      },
      "execution_count": null,
      "outputs": []
    },
    {
      "cell_type": "code",
      "source": [
        "# to get the inputs from same line , and add from command prompt , these are \n",
        "# used to save files in this way , when opened and entered numbers , this \n",
        "# syntax will takes those values and store\n",
        "import sys\n",
        "x = int(sys.argv[1])\n",
        "y = int(sys.argv[2])\n",
        "print(x+y)"
      ],
      "metadata": {
        "colab": {
          "base_uri": "https://localhost:8080/"
        },
        "id": "rLwFSY_A2LIM",
        "outputId": "0df35389-a250-4f45-c1a8-bfc04cfc890a"
      },
      "execution_count": null,
      "outputs": [
        {
          "output_type": "stream",
          "name": "stdout",
          "text": [
            "-f/root/.local/share/jupyter/runtime/kernel-dcdad3b4-2d59-4fb0-b4e7-189c493fb132.json\n"
          ]
        }
      ]
    },
    {
      "cell_type": "markdown",
      "source": [
        "# IF ELSE CONDITIONALS"
      ],
      "metadata": {
        "id": "IIf9ReX63ppd"
      }
    },
    {
      "cell_type": "code",
      "source": [
        "if True :\n",
        "  print(\"im true\")"
      ],
      "metadata": {
        "colab": {
          "base_uri": "https://localhost:8080/"
        },
        "id": "T2CfRzyy2kvj",
        "outputId": "c2b53ce5-d3fb-45e7-c2e4-c1210b7d7bdd"
      },
      "execution_count": null,
      "outputs": [
        {
          "output_type": "stream",
          "name": "stdout",
          "text": [
            "im true\n"
          ]
        }
      ]
    },
    {
      "cell_type": "code",
      "source": [
        "# indentation is required \n",
        "# a tab is 4 spaces \n",
        "# just press a tab instead of 4 spaces"
      ],
      "metadata": {
        "id": "DBR6Rcc93zaW"
      },
      "execution_count": null,
      "outputs": []
    },
    {
      "cell_type": "markdown",
      "source": [
        "#WHILE LOOPS"
      ],
      "metadata": {
        "id": "_XUuK3sX4Ppd"
      }
    },
    {
      "cell_type": "code",
      "source": [
        "i = 0\n",
        "while i<4 : \n",
        "  print(\"yo\")\n",
        "  i += 1"
      ],
      "metadata": {
        "colab": {
          "base_uri": "https://localhost:8080/"
        },
        "id": "5UKKM0xy4GPs",
        "outputId": "3c3a24a1-6483-492f-c25b-a44a262e6c6e"
      },
      "execution_count": null,
      "outputs": [
        {
          "output_type": "stream",
          "name": "stdout",
          "text": [
            "yo\n",
            "yo\n",
            "yo\n",
            "yo\n"
          ]
        }
      ]
    },
    {
      "cell_type": "code",
      "source": [
        "i = 0\n",
        "while i<4 :\n",
        "  print(\"telusko\",end=\"\")\n",
        "  j =1 \n",
        "  while j <4 :\n",
        "    print(\"rocks\",end=\"\")\n",
        "    j += 1\n",
        "  i +=1\n",
        "  print()"
      ],
      "metadata": {
        "colab": {
          "base_uri": "https://localhost:8080/"
        },
        "id": "hQhInnsP4jfo",
        "outputId": "c6e9298d-04ca-49c8-9905-f47c30c18ace"
      },
      "execution_count": null,
      "outputs": [
        {
          "output_type": "stream",
          "name": "stdout",
          "text": [
            "teluskorocksrocksrocks\n",
            "teluskorocksrocksrocks\n",
            "teluskorocksrocksrocks\n",
            "teluskorocksrocksrocks\n"
          ]
        }
      ]
    },
    {
      "cell_type": "markdown",
      "source": [
        "#FOR LOOPS"
      ],
      "metadata": {
        "id": "no12V8ak6S9d"
      }
    },
    {
      "cell_type": "code",
      "source": [
        "x = [1,2,3,4]\n",
        "for i in x :\n",
        "  print(i)"
      ],
      "metadata": {
        "colab": {
          "base_uri": "https://localhost:8080/"
        },
        "id": "3lWV1plu5Vuf",
        "outputId": "4a27992a-bb43-4883-9a59-925e2b1f4600"
      },
      "execution_count": null,
      "outputs": [
        {
          "output_type": "stream",
          "name": "stdout",
          "text": [
            "1\n",
            "2\n",
            "3\n",
            "4\n"
          ]
        }
      ]
    },
    {
      "cell_type": "code",
      "source": [
        "x = [1,2,3,4]\n",
        "for i in x :\n",
        "  print(\" \"*(4-i)+'#'*i)"
      ],
      "metadata": {
        "colab": {
          "base_uri": "https://localhost:8080/"
        },
        "id": "Skg_yFmD6pib",
        "outputId": "4ca33e21-a446-4135-e162-78216d3a491e"
      },
      "execution_count": null,
      "outputs": [
        {
          "output_type": "stream",
          "name": "stdout",
          "text": [
            "   #\n",
            "  ##\n",
            " ###\n",
            "####\n"
          ]
        }
      ]
    },
    {
      "cell_type": "code",
      "source": [
        "for i in [1,2,3,4]:\n",
        "  print(i) "
      ],
      "metadata": {
        "id": "X21PTTpo6uH5"
      },
      "execution_count": null,
      "outputs": []
    },
    {
      "cell_type": "code",
      "source": [
        "x=0\n",
        "for i in range(10):\n",
        "  x += 1"
      ],
      "metadata": {
        "id": "E16XRfNC7XU_"
      },
      "execution_count": null,
      "outputs": []
    },
    {
      "cell_type": "code",
      "source": [
        "N = int(input())\n",
        "k = str(N)\n",
        "even = odd =\n",
        "for i in k :\n",
        "  print(i)"
      ],
      "metadata": {
        "colab": {
          "base_uri": "https://localhost:8080/"
        },
        "id": "BXUW4Cl27fxn",
        "outputId": "2059edfe-b600-4d2c-a3a7-57a122964672"
      },
      "execution_count": null,
      "outputs": [
        {
          "output_type": "stream",
          "name": "stdout",
          "text": [
            "1234\n",
            "1\n",
            "2\n",
            "3\n",
            "4\n"
          ]
        }
      ]
    },
    {
      "cell_type": "code",
      "source": [
        "n = int(input())\n",
        "t = str(n)\n",
        "inv = ''\n",
        "for i in range(1,len(t)+1) :\n",
        "  inv = inv + t[-i]\n",
        "print(int(inv))\n",
        "\n"
      ],
      "metadata": {
        "colab": {
          "base_uri": "https://localhost:8080/"
        },
        "id": "MdPlO5FA-cCK",
        "outputId": "4fc8af03-6d49-4ed2-f63d-f1a87f3dd45c"
      },
      "execution_count": null,
      "outputs": [
        {
          "output_type": "stream",
          "name": "stdout",
          "text": [
            "12340\n",
            "4321\n"
          ]
        }
      ]
    },
    {
      "cell_type": "markdown",
      "source": [
        "# BREAK CONTINUE PASS"
      ],
      "metadata": {
        "id": "UnosKQJfSRl5"
      }
    },
    {
      "cell_type": "code",
      "source": [
        "x= int(input(\"how many candies you want?\"))\n",
        "i = 0\n",
        "while i <=x :\n",
        "  print(\"candy\")\n",
        "  i +=1\n"
      ],
      "metadata": {
        "colab": {
          "base_uri": "https://localhost:8080/"
        },
        "id": "uqwAUX0DA3e1",
        "outputId": "f075db77-f434-4941-a3fb-d8755e830307"
      },
      "execution_count": null,
      "outputs": [
        {
          "output_type": "stream",
          "name": "stdout",
          "text": [
            "how many candies you want?3\n",
            "candy\n",
            "candy\n",
            "candy\n",
            "candy\n"
          ]
        }
      ]
    },
    {
      "cell_type": "code",
      "source": [
        "for i in range(x):\n",
        "  print(\"candy\")"
      ],
      "metadata": {
        "colab": {
          "base_uri": "https://localhost:8080/"
        },
        "id": "Crkw30fOSgGm",
        "outputId": "ec316923-c524-4b7e-fc6c-c7bac0786e16"
      },
      "execution_count": null,
      "outputs": [
        {
          "output_type": "stream",
          "name": "stdout",
          "text": [
            "candy\n",
            "candy\n",
            "candy\n"
          ]
        }
      ]
    },
    {
      "cell_type": "markdown",
      "source": [
        "BREAK"
      ],
      "metadata": {
        "id": "zabuNzCxTitt"
      }
    },
    {
      "cell_type": "code",
      "source": [
        "av = 5\n",
        "x= int(input(\"how many candies you want?\"))\n",
        "i = 1\n",
        "while i <=x :\n",
        "  if i>av:\n",
        "    print(\"OUT OF STOCK\")\n",
        "    break\n",
        "\n",
        "  print(\"candy\")\n",
        "  i +=1\n",
        "print(\"bye\")\n",
        "\n",
        "# BREAK IS USED TO EXIT OUT OF A LOOP"
      ],
      "metadata": {
        "colab": {
          "base_uri": "https://localhost:8080/"
        },
        "id": "3fuxF_CuS9Wl",
        "outputId": "1cbcfbb0-5eac-4a91-c7d2-384b1bcecda9"
      },
      "execution_count": null,
      "outputs": [
        {
          "output_type": "stream",
          "name": "stdout",
          "text": [
            "how many candies you want?3\n",
            "candy\n",
            "candy\n",
            "candy\n",
            "bye\n"
          ]
        }
      ]
    },
    {
      "cell_type": "markdown",
      "source": [
        "CONTINUE"
      ],
      "metadata": {
        "id": "rzdYihagUAfD"
      }
    },
    {
      "cell_type": "code",
      "source": [
        "x = int(input(\"enter a number:\"))\n",
        "\n",
        "i = 1\n",
        "for i in range(1,x+1):\n",
        "  if i%3 == 0:\n",
        "    continue\n",
        "  \n",
        "  print(i)\n",
        "\n",
        "print(\"bye\")\n",
        "# will skip all the statements below it \n",
        "# it'll go back to next itteration"
      ],
      "metadata": {
        "colab": {
          "base_uri": "https://localhost:8080/"
        },
        "id": "81533CRfTb3S",
        "outputId": "8938e097-3048-40e9-a64f-3c4beaa801ba"
      },
      "execution_count": null,
      "outputs": [
        {
          "output_type": "stream",
          "name": "stdout",
          "text": [
            "enter a number:15\n",
            "1\n",
            "2\n",
            "4\n",
            "5\n",
            "7\n",
            "8\n",
            "10\n",
            "11\n",
            "13\n",
            "14\n",
            "bye\n"
          ]
        }
      ]
    },
    {
      "cell_type": "code",
      "source": [
        "x = int(input())\n",
        "\n",
        "i = 1\n",
        "while i <= x:\n",
        "    if i % 3 == 0:\n",
        "        i += 1\n",
        "        continue\n",
        "    print(i)\n",
        "    i += 1\n",
        "\n",
        "print(\"bye\")"
      ],
      "metadata": {
        "colab": {
          "base_uri": "https://localhost:8080/"
        },
        "id": "fP9ehoQaUa2I",
        "outputId": "a888fd85-ad75-4b9d-fb2d-5a87b94bc2b6"
      },
      "execution_count": null,
      "outputs": [
        {
          "output_type": "stream",
          "name": "stdout",
          "text": [
            "15\n",
            "1\n",
            "2\n",
            "4\n",
            "5\n",
            "7\n",
            "8\n",
            "10\n",
            "11\n",
            "13\n",
            "14\n",
            "bye\n"
          ]
        }
      ]
    },
    {
      "cell_type": "markdown",
      "source": [
        "PASS"
      ],
      "metadata": {
        "id": "k2cD-RDbZ70f"
      }
    },
    {
      "cell_type": "code",
      "source": [
        "for i in range(1,11):\n",
        "  if i%2!=0:\n",
        "    pass\n",
        "  else :\n",
        "    print(i)\n",
        "\n",
        "# will just carry on without doing anything in this condition"
      ],
      "metadata": {
        "colab": {
          "base_uri": "https://localhost:8080/"
        },
        "id": "qQT_3U8NWR6R",
        "outputId": "887d41ee-6976-4a34-afe6-7f902e11b2c3"
      },
      "execution_count": null,
      "outputs": [
        {
          "output_type": "stream",
          "name": "stdout",
          "text": [
            "2\n",
            "4\n",
            "6\n",
            "8\n",
            "10\n"
          ]
        }
      ]
    },
    {
      "cell_type": "code",
      "source": [
        "i = 1\n",
        "while i<=10:\n",
        "  if i%2!=0 :\n",
        "    pass\n",
        "  else:\n",
        "    print(i)\n",
        "  i+=1  \n"
      ],
      "metadata": {
        "colab": {
          "base_uri": "https://localhost:8080/"
        },
        "id": "UuoTmwN-adh-",
        "outputId": "d9bc218d-74a9-4a31-d1db-6c7b3bb0e75c"
      },
      "execution_count": null,
      "outputs": [
        {
          "output_type": "stream",
          "name": "stdout",
          "text": [
            "2\n",
            "4\n",
            "6\n",
            "8\n",
            "10\n"
          ]
        }
      ]
    },
    {
      "cell_type": "markdown",
      "source": [
        "BREAK VS CONTINUE VS PASS"
      ],
      "metadata": {
        "id": "0GMRmy1Zc19I"
      }
    },
    {
      "cell_type": "code",
      "source": [
        "for i in range(1,10):\n",
        "  if i%2==0 :\n",
        "    break\n",
        "  print(i)"
      ],
      "metadata": {
        "colab": {
          "base_uri": "https://localhost:8080/"
        },
        "id": "-xnzhHIwbAwb",
        "outputId": "13e00c93-a676-4099-cc4f-6ecabdee9be6"
      },
      "execution_count": null,
      "outputs": [
        {
          "output_type": "stream",
          "name": "stdout",
          "text": [
            "1\n"
          ]
        }
      ]
    },
    {
      "cell_type": "code",
      "source": [
        "for i in range(1,10):\n",
        "  if i%2==0 :\n",
        "    continue\n",
        "  print(i)\n",
        "\n",
        "# continue skipped the itteration"
      ],
      "metadata": {
        "colab": {
          "base_uri": "https://localhost:8080/"
        },
        "id": "xtQpxb9gdDqV",
        "outputId": "3ef6c3ab-3c95-443c-d04f-f7195c86d130"
      },
      "execution_count": null,
      "outputs": [
        {
          "output_type": "stream",
          "name": "stdout",
          "text": [
            "1\n",
            "3\n",
            "5\n",
            "7\n",
            "9\n"
          ]
        }
      ]
    },
    {
      "cell_type": "code",
      "source": [
        "for i in range(1,10):\n",
        "  if i%2==0 :\n",
        "    pass\n",
        "  print(i)\n",
        "# pass just went on to the next line of code \n",
        "# this is used in case there are no other statement "
      ],
      "metadata": {
        "colab": {
          "base_uri": "https://localhost:8080/"
        },
        "id": "t31PhI7GdJHy",
        "outputId": "663b146d-1ce1-4f98-ebb4-16d51dc042e8"
      },
      "execution_count": null,
      "outputs": [
        {
          "output_type": "stream",
          "name": "stdout",
          "text": [
            "1\n",
            "2\n",
            "3\n",
            "4\n",
            "5\n",
            "6\n",
            "7\n",
            "8\n",
            "9\n"
          ]
        }
      ]
    },
    {
      "cell_type": "code",
      "source": [
        "def fun():\n",
        "  pass\n",
        "\n",
        "a = 0 \n",
        "# pass is used here to fill something under that function"
      ],
      "metadata": {
        "id": "etJ9ssQ_dMAq"
      },
      "execution_count": null,
      "outputs": []
    },
    {
      "cell_type": "markdown",
      "source": [
        "# PATTERN PRINTING\n"
      ],
      "metadata": {
        "id": "Z4X9V2m7d5lj"
      }
    },
    {
      "cell_type": "code",
      "source": [
        "for i in range(4):\n",
        "  print(\"# \"*4)"
      ],
      "metadata": {
        "colab": {
          "base_uri": "https://localhost:8080/"
        },
        "id": "IHe8vKhid-BF",
        "outputId": "f582b45c-5023-4b12-9e02-025ede267942"
      },
      "execution_count": null,
      "outputs": [
        {
          "output_type": "stream",
          "name": "stdout",
          "text": [
            "# # # # \n",
            "# # # # \n",
            "# # # # \n",
            "# # # # \n"
          ]
        }
      ]
    },
    {
      "cell_type": "code",
      "source": [
        "for i in range(4):\n",
        "  for j in range(4):\n",
        "    print('# ', end=\"\")\n",
        "  print()\n",
        "\n",
        "# loop for j is controlling number of hashes in a row \n"
      ],
      "metadata": {
        "colab": {
          "base_uri": "https://localhost:8080/"
        },
        "id": "3jB58p1geMms",
        "outputId": "906dee3b-4aeb-4705-d59d-6f3daceec233"
      },
      "execution_count": null,
      "outputs": [
        {
          "output_type": "stream",
          "name": "stdout",
          "text": [
            "# # # # \n",
            "# # # # \n",
            "# # # # \n",
            "# # # # \n"
          ]
        }
      ]
    },
    {
      "cell_type": "code",
      "source": [
        "for i in range(4):\n",
        "  for j in range(i+1):\n",
        "    print('#',end=\"\")\n",
        "  print()"
      ],
      "metadata": {
        "colab": {
          "base_uri": "https://localhost:8080/"
        },
        "id": "GU_hxIPZixPq",
        "outputId": "8f8f7fa3-502a-44d9-92f2-d50ade15788a"
      },
      "execution_count": null,
      "outputs": [
        {
          "output_type": "stream",
          "name": "stdout",
          "text": [
            "#\n",
            "##\n",
            "###\n",
            "####\n"
          ]
        }
      ]
    },
    {
      "cell_type": "code",
      "source": [
        "for i in range(4):\n",
        "  print(\"# \"*(i+1))"
      ],
      "metadata": {
        "colab": {
          "base_uri": "https://localhost:8080/"
        },
        "id": "1aeQJBQ3eza2",
        "outputId": "e9e59501-7be5-4da1-a727-b8214819aa2d"
      },
      "execution_count": null,
      "outputs": [
        {
          "output_type": "stream",
          "name": "stdout",
          "text": [
            "# \n",
            "# # \n",
            "# # # \n",
            "# # # # \n"
          ]
        }
      ]
    },
    {
      "cell_type": "code",
      "source": [
        "for i in range(4):\n",
        "  for j in range(1,4):\n",
        "    print(\"#\"*j)"
      ],
      "metadata": {
        "colab": {
          "base_uri": "https://localhost:8080/"
        },
        "id": "BdJC5MVQfB4o",
        "outputId": "c6a6d48e-45ed-4efb-eec8-45cd5c3cfce1"
      },
      "execution_count": null,
      "outputs": [
        {
          "output_type": "stream",
          "name": "stdout",
          "text": [
            "#\n",
            "##\n",
            "###\n",
            "#\n",
            "##\n",
            "###\n",
            "#\n",
            "##\n",
            "###\n",
            "#\n",
            "##\n",
            "###\n"
          ]
        }
      ]
    },
    {
      "cell_type": "code",
      "source": [
        "for i in range(5):\n",
        "  print(\" \"*(4-i) + \"#\"*i)"
      ],
      "metadata": {
        "id": "zHNioeZofVw3",
        "colab": {
          "base_uri": "https://localhost:8080/"
        },
        "outputId": "77fa424a-a9c2-4d4d-bb8c-ecd4f9d734ed"
      },
      "execution_count": null,
      "outputs": [
        {
          "output_type": "stream",
          "name": "stdout",
          "text": [
            "    \n",
            "   #\n",
            "  ##\n",
            " ###\n",
            "####\n"
          ]
        }
      ]
    },
    {
      "cell_type": "code",
      "source": [
        "for i in range(5):\n",
        "  print(\"# \"*(4-i))"
      ],
      "metadata": {
        "colab": {
          "base_uri": "https://localhost:8080/"
        },
        "id": "9Qb1UN1JjTzt",
        "outputId": "59191373-a64c-4b60-da7e-018b6b289254"
      },
      "execution_count": null,
      "outputs": [
        {
          "output_type": "stream",
          "name": "stdout",
          "text": [
            "# # # # \n",
            "# # # \n",
            "# # \n",
            "# \n",
            "\n"
          ]
        }
      ]
    },
    {
      "cell_type": "code",
      "source": [
        "for i in range(5):\n",
        "  for j in range(4-i):\n",
        "    print(\"# \" , end=\"\")\n",
        "  print()"
      ],
      "metadata": {
        "colab": {
          "base_uri": "https://localhost:8080/"
        },
        "id": "Gc9XBPONkL6P",
        "outputId": "ccae9453-896e-48bf-bab9-f739a03fab0c"
      },
      "execution_count": null,
      "outputs": [
        {
          "output_type": "stream",
          "name": "stdout",
          "text": [
            "# # # # \n",
            "# # # \n",
            "# # \n",
            "# \n",
            "\n"
          ]
        }
      ]
    },
    {
      "cell_type": "markdown",
      "source": [
        "#FOR ELSE"
      ],
      "metadata": {
        "id": "qzbClp--k6ej"
      }
    },
    {
      "cell_type": "code",
      "source": [
        "# WE CAN USE ELSE IN A FOR LOOP WHEN WE HAVE AN IF CONDITIONALS WITH \n",
        "#A BREAK STEATEMENT"
      ],
      "metadata": {
        "id": "uXauyaTOk1Yq"
      },
      "execution_count": null,
      "outputs": []
    },
    {
      "cell_type": "code",
      "source": [
        "A = [13,24,25,77,90]\n",
        "for i in A :\n",
        "\n",
        "  if i%5==0 :\n",
        "    print(i)\n",
        "    break\n",
        "\n",
        "else :\n",
        "  print(\"not found\")\n",
        "\n",
        "#we used else for a for loop , if we had put it in if loop , every iteration we\n",
        "#would have got \"not found\" printed\n",
        "## THIS WILL ONLY WORK IN CASE OF BREAK"
      ],
      "metadata": {
        "colab": {
          "base_uri": "https://localhost:8080/"
        },
        "id": "J4Uoqk0xl1qL",
        "outputId": "6ff5c10d-9550-4ce6-c2f0-f30006b161d8"
      },
      "execution_count": null,
      "outputs": [
        {
          "output_type": "stream",
          "name": "stdout",
          "text": [
            "25\n"
          ]
        }
      ]
    },
    {
      "cell_type": "markdown",
      "source": [
        "#IS PRIME"
      ],
      "metadata": {
        "id": "p3dulIolmhG4"
      }
    },
    {
      "cell_type": "code",
      "source": [
        "x=int(input(\"enter a number to check if its prime\"))\n",
        "\n",
        "for i in range(2,x):\n",
        "  if x%i==0:\n",
        "    print(\"not prime\")\n",
        "    break\n",
        "else:\n",
        "  print(\"prime\")\n",
        "  "
      ],
      "metadata": {
        "colab": {
          "base_uri": "https://localhost:8080/"
        },
        "id": "99nvwp_ll7X5",
        "outputId": "b2e4df65-f938-458c-cfa8-abb869c0f908"
      },
      "execution_count": null,
      "outputs": [
        {
          "output_type": "stream",
          "name": "stdout",
          "text": [
            "enter a number to check if its prime11\n",
            "prime\n"
          ]
        }
      ]
    },
    {
      "cell_type": "markdown",
      "source": [
        "#ARRAYS"
      ],
      "metadata": {
        "id": "SpfScwzU06gm"
      }
    },
    {
      "cell_type": "code",
      "source": [
        "# SIMILAR TO LISTS \n",
        "# BUT ALL ELEMENTS SHD BE OF SAME DATA TYPES\n"
      ],
      "metadata": {
        "id": "m2jkG7kLm58e"
      },
      "execution_count": null,
      "outputs": []
    },
    {
      "cell_type": "code",
      "source": [
        "import array as arr\n",
        "A = arr.array('i',[5,9,8,4,2])\n",
        "print(A)\n"
      ],
      "metadata": {
        "colab": {
          "base_uri": "https://localhost:8080/"
        },
        "id": "p8-u49b61VfN",
        "outputId": "9113f399-4fcb-4cc2-91af-9ec7e1707f47"
      },
      "execution_count": null,
      "outputs": [
        {
          "output_type": "stream",
          "name": "stdout",
          "text": [
            "array('i', [5, 9, 8, 4, 2])\n"
          ]
        }
      ]
    },
    {
      "cell_type": "code",
      "source": [
        "#A = arr.array('i',[5,9,8.5,4,2])\n",
        "#print(A)\n"
      ],
      "metadata": {
        "colab": {
          "base_uri": "https://localhost:8080/",
          "height": 189
        },
        "id": "uxjYZZWt1XQN",
        "outputId": "178fb9fc-0a9f-4b91-b5d5-a1b059eb85f5"
      },
      "execution_count": null,
      "outputs": [
        {
          "output_type": "error",
          "ename": "TypeError",
          "evalue": "ignored",
          "traceback": [
            "\u001b[0;31m---------------------------------------------------------------------------\u001b[0m",
            "\u001b[0;31mTypeError\u001b[0m                                 Traceback (most recent call last)",
            "\u001b[0;32m<ipython-input-24-67706dc4339b>\u001b[0m in \u001b[0;36m<cell line: 1>\u001b[0;34m()\u001b[0m\n\u001b[0;32m----> 1\u001b[0;31m \u001b[0mA\u001b[0m \u001b[0;34m=\u001b[0m \u001b[0marr\u001b[0m\u001b[0;34m.\u001b[0m\u001b[0marray\u001b[0m\u001b[0;34m(\u001b[0m\u001b[0;34m'i'\u001b[0m\u001b[0;34m,\u001b[0m\u001b[0;34m[\u001b[0m\u001b[0;36m5\u001b[0m\u001b[0;34m,\u001b[0m\u001b[0;36m9\u001b[0m\u001b[0;34m,\u001b[0m\u001b[0;36m8.5\u001b[0m\u001b[0;34m,\u001b[0m\u001b[0;36m4\u001b[0m\u001b[0;34m,\u001b[0m\u001b[0;36m2\u001b[0m\u001b[0;34m]\u001b[0m\u001b[0;34m)\u001b[0m\u001b[0;34m\u001b[0m\u001b[0;34m\u001b[0m\u001b[0m\n\u001b[0m\u001b[1;32m      2\u001b[0m \u001b[0mprint\u001b[0m\u001b[0;34m(\u001b[0m\u001b[0mA\u001b[0m\u001b[0;34m)\u001b[0m\u001b[0;34m\u001b[0m\u001b[0;34m\u001b[0m\u001b[0m\n",
            "\u001b[0;31mTypeError\u001b[0m: 'float' object cannot be interpreted as an integer"
          ]
        }
      ]
    },
    {
      "cell_type": "code",
      "source": [
        "A = arr.array('i',[5,9,-8,4,2])\n",
        "print(A)\n"
      ],
      "metadata": {
        "colab": {
          "base_uri": "https://localhost:8080/"
        },
        "id": "z7ecDykj3kFx",
        "outputId": "c18dbd39-fea5-45bc-e45e-ffa50871d29b"
      },
      "execution_count": null,
      "outputs": [
        {
          "output_type": "stream",
          "name": "stdout",
          "text": [
            "array('i', [5, 9, -8, 4, 2])\n"
          ]
        }
      ]
    },
    {
      "cell_type": "markdown",
      "source": [
        "INBUILT FUNCTIONS"
      ],
      "metadata": {
        "id": "ncQVvn3O3u0X"
      }
    },
    {
      "cell_type": "code",
      "source": [
        "print(A.buffer_info)"
      ],
      "metadata": {
        "colab": {
          "base_uri": "https://localhost:8080/"
        },
        "id": "NU1BKf6G3qDy",
        "outputId": "60a69ceb-41a1-417e-ea3e-4a76611893cd"
      },
      "execution_count": null,
      "outputs": [
        {
          "output_type": "stream",
          "name": "stdout",
          "text": [
            "<built-in method buffer_info of array.array object at 0x7fe54ec1cae0>\n"
          ]
        }
      ]
    },
    {
      "cell_type": "code",
      "source": [
        "print(A.buffer_info())"
      ],
      "metadata": {
        "colab": {
          "base_uri": "https://localhost:8080/"
        },
        "id": "d59nK6mM34KK",
        "outputId": "9852add9-6c12-45b0-f905-da8a4a651256"
      },
      "execution_count": null,
      "outputs": [
        {
          "output_type": "stream",
          "name": "stdout",
          "text": [
            "(140622845762128, 5)\n"
          ]
        }
      ]
    },
    {
      "cell_type": "code",
      "source": [
        "print(A.typecode)"
      ],
      "metadata": {
        "colab": {
          "base_uri": "https://localhost:8080/"
        },
        "id": "VlA8nbFJ3-k_",
        "outputId": "5a7ec3ec-9921-46f0-b618-9aa9f8941da0"
      },
      "execution_count": null,
      "outputs": [
        {
          "output_type": "stream",
          "name": "stdout",
          "text": [
            "i\n"
          ]
        }
      ]
    },
    {
      "cell_type": "code",
      "source": [
        "A.reverse()\n"
      ],
      "metadata": {
        "id": "TnPXdbw-4Bc-"
      },
      "execution_count": null,
      "outputs": []
    },
    {
      "cell_type": "code",
      "source": [
        "A"
      ],
      "metadata": {
        "colab": {
          "base_uri": "https://localhost:8080/"
        },
        "id": "fcPmM7cJ4Hno",
        "outputId": "d17161e7-4937-4280-c959-b5110910d1b3"
      },
      "execution_count": null,
      "outputs": [
        {
          "output_type": "execute_result",
          "data": {
            "text/plain": [
              "array('i', [2, 4, -8, 9, 5])"
            ]
          },
          "metadata": {},
          "execution_count": 33
        }
      ]
    },
    {
      "cell_type": "code",
      "source": [
        "A[0]"
      ],
      "metadata": {
        "colab": {
          "base_uri": "https://localhost:8080/"
        },
        "id": "uSzkwWo84MOx",
        "outputId": "3d4abd8a-59c4-43f4-978f-7a7bc3172d34"
      },
      "execution_count": null,
      "outputs": [
        {
          "output_type": "execute_result",
          "data": {
            "text/plain": [
              "2"
            ]
          },
          "metadata": {},
          "execution_count": 34
        }
      ]
    },
    {
      "cell_type": "code",
      "source": [
        "for i in A:\n",
        "  print(i)"
      ],
      "metadata": {
        "colab": {
          "base_uri": "https://localhost:8080/"
        },
        "id": "MhCCyxKK4VD5",
        "outputId": "99753b10-a92a-4473-d18a-4c75b3e560ef"
      },
      "execution_count": null,
      "outputs": [
        {
          "output_type": "stream",
          "name": "stdout",
          "text": [
            "2\n",
            "4\n",
            "-8\n",
            "9\n",
            "5\n"
          ]
        }
      ]
    },
    {
      "cell_type": "code",
      "source": [
        "# copying the array"
      ],
      "metadata": {
        "id": "Cqb0uan65X9I"
      },
      "execution_count": null,
      "outputs": []
    },
    {
      "cell_type": "code",
      "source": [
        "newarray = arr.array(A.typecode,(a for a in A))"
      ],
      "metadata": {
        "id": "507RmFz_4ids"
      },
      "execution_count": null,
      "outputs": []
    },
    {
      "cell_type": "code",
      "source": [
        "newarray"
      ],
      "metadata": {
        "colab": {
          "base_uri": "https://localhost:8080/"
        },
        "id": "ZwcFvlf85iHX",
        "outputId": "667d4d0f-1a59-4f37-ce3c-239f480b47f6"
      },
      "execution_count": null,
      "outputs": [
        {
          "output_type": "execute_result",
          "data": {
            "text/plain": [
              "array('i', [2, 4, -8, 9, 5])"
            ]
          },
          "metadata": {},
          "execution_count": 39
        }
      ]
    },
    {
      "cell_type": "code",
      "source": [
        "newarray2 = arr.array(A.typecode,(a*a for a in A))"
      ],
      "metadata": {
        "id": "N1QaLPpu5le7"
      },
      "execution_count": null,
      "outputs": []
    },
    {
      "cell_type": "code",
      "source": [
        "newarray2"
      ],
      "metadata": {
        "id": "NkzVFwOv5rrQ",
        "outputId": "082572ff-3b3e-4f2f-c51d-9d96f3b89fa9",
        "colab": {
          "base_uri": "https://localhost:8080/"
        }
      },
      "execution_count": null,
      "outputs": [
        {
          "output_type": "execute_result",
          "data": {
            "text/plain": [
              "array('i', [4, 16, 64, 81, 25])"
            ]
          },
          "metadata": {},
          "execution_count": 41
        }
      ]
    },
    {
      "cell_type": "code",
      "source": [
        "# self made\n",
        "len = int(input(\"length of array:\"))\n",
        "typecode = input(\"typecode\")\n",
        "elements = []\n",
        "for i in range(len):\n",
        "  elements.append(int(input(\"enter elements to append\")))\n",
        "\n",
        "b = arr.array(typecode,(a for a in elements))\n",
        "print(b)\n"
      ],
      "metadata": {
        "id": "PQ9t-TuV5tNx",
        "colab": {
          "base_uri": "https://localhost:8080/"
        },
        "outputId": "1f42ea2c-9373-460c-e835-5f7b7ea86b3c"
      },
      "execution_count": null,
      "outputs": [
        {
          "output_type": "stream",
          "name": "stdout",
          "text": [
            "length of array:3\n",
            "typecodei\n",
            "enter elements to append3\n",
            "enter elements to append5\n",
            "enter elements to append2\n",
            "array('i', [3, 5, 2])\n"
          ]
        }
      ]
    },
    {
      "cell_type": "code",
      "source": [
        "# telusko made\n",
        "from array import *\n",
        "arr = array('i',[])\n",
        "\n",
        "n = int(input(\"enter length of array:\"))\n",
        "for i in range(n):\n",
        "  x = int(input(\"enter next value\"))\n",
        "  arr.append(x)\n",
        "\n",
        "print(arr)"
      ],
      "metadata": {
        "colab": {
          "base_uri": "https://localhost:8080/"
        },
        "id": "V-z6Psnl-J5M",
        "outputId": "3e630d48-6630-410a-df92-c19bf576a23e"
      },
      "execution_count": null,
      "outputs": [
        {
          "output_type": "stream",
          "name": "stdout",
          "text": [
            "enter length of array:4\n",
            "enter next value3\n",
            "enter next value4\n",
            "enter next value88\n",
            "enter next value22\n",
            "array('i', [3, 4, 88, 22])\n"
          ]
        }
      ]
    },
    {
      "cell_type": "markdown",
      "source": [
        "GETTING INDEX NUMBER"
      ],
      "metadata": {
        "id": "LLTwTytK_Spg"
      }
    },
    {
      "cell_type": "code",
      "source": [
        "from array import *\n",
        "arr = array('i',[])\n",
        "\n",
        "n = int(input(\"enter length of array:\"))\n",
        "for i in range(n):\n",
        "  x = int(input(\"enter next value\"))\n",
        "  arr.append(x)\n",
        "\n",
        "print(arr)\n",
        "\n",
        "val = int(input(\"enter the value for search\"))\n",
        "\n",
        "for i in range(n):\n",
        "\n",
        "  if arr[i]==val:\n",
        "    print(\"index of the value is:\",i)\n",
        "    break\n",
        "  \n",
        "else:\n",
        "  print(\"value not found in list\")\n",
        "\n",
        "# direct function\n",
        "print(arr.index(val))"
      ],
      "metadata": {
        "colab": {
          "base_uri": "https://localhost:8080/"
        },
        "id": "VnoYWjyt-9dh",
        "outputId": "10c0acf8-b482-4a43-c4a2-1993d7498bbb"
      },
      "execution_count": null,
      "outputs": [
        {
          "output_type": "stream",
          "name": "stdout",
          "text": [
            "enter length of array:2\n",
            "enter next value4\n",
            "enter next value5\n",
            "array('i', [4, 5])\n",
            "enter the value for search5\n",
            "index of the value is: 1\n",
            "1\n"
          ]
        }
      ]
    },
    {
      "cell_type": "markdown",
      "source": [
        "#NUMPY"
      ],
      "metadata": {
        "id": "t7QHeAkBAknA"
      }
    },
    {
      "cell_type": "code",
      "source": [
        "# THERE ARE DIFFERENT TYPES OF ARRAYS\n",
        "# MULTI DIMENTIONAL ARRAYS TOO\n",
        "# EXAMPLE : MATRIX\n"
      ],
      "metadata": {
        "id": "sbZPpkVpAAYE"
      },
      "execution_count": null,
      "outputs": []
    },
    {
      "cell_type": "code",
      "source": [
        "arr = array('i',[1,2,3],[3,4,5])\n",
        "# the array package doesnt support multi-dimentional\n",
        "# for this purpose , WE USE NUMPY"
      ],
      "metadata": {
        "colab": {
          "base_uri": "https://localhost:8080/",
          "height": 207
        },
        "id": "VoNOaPDDAx7z",
        "outputId": "bb616df7-ca7f-4973-e06e-7f88b4ec32ea"
      },
      "execution_count": null,
      "outputs": [
        {
          "output_type": "error",
          "ename": "TypeError",
          "evalue": "ignored",
          "traceback": [
            "\u001b[0;31m---------------------------------------------------------------------------\u001b[0m",
            "\u001b[0;31mTypeError\u001b[0m                                 Traceback (most recent call last)",
            "\u001b[0;32m<ipython-input-49-a719d828a73b>\u001b[0m in \u001b[0;36m<cell line: 1>\u001b[0;34m()\u001b[0m\n\u001b[0;32m----> 1\u001b[0;31m \u001b[0marr\u001b[0m \u001b[0;34m=\u001b[0m \u001b[0marray\u001b[0m\u001b[0;34m(\u001b[0m\u001b[0;34m'i'\u001b[0m\u001b[0;34m,\u001b[0m\u001b[0;34m[\u001b[0m\u001b[0;36m1\u001b[0m\u001b[0;34m,\u001b[0m\u001b[0;36m2\u001b[0m\u001b[0;34m,\u001b[0m\u001b[0;36m3\u001b[0m\u001b[0;34m]\u001b[0m\u001b[0;34m,\u001b[0m\u001b[0;34m[\u001b[0m\u001b[0;36m3\u001b[0m\u001b[0;34m,\u001b[0m\u001b[0;36m4\u001b[0m\u001b[0;34m,\u001b[0m\u001b[0;36m5\u001b[0m\u001b[0;34m]\u001b[0m\u001b[0;34m)\u001b[0m\u001b[0;34m\u001b[0m\u001b[0;34m\u001b[0m\u001b[0m\n\u001b[0m\u001b[1;32m      2\u001b[0m \u001b[0;31m# the array package doesnt support multi-dimentional\u001b[0m\u001b[0;34m\u001b[0m\u001b[0;34m\u001b[0m\u001b[0m\n\u001b[1;32m      3\u001b[0m \u001b[0;31m# for this purpose , WE USE NUMPY\u001b[0m\u001b[0;34m\u001b[0m\u001b[0;34m\u001b[0m\u001b[0m\n",
            "\u001b[0;31mTypeError\u001b[0m: array() takes at most 2 arguments (3 given)"
          ]
        }
      ]
    },
    {
      "cell_type": "code",
      "source": [
        "print(\"HELLO WORLD\")"
      ],
      "metadata": {
        "colab": {
          "base_uri": "https://localhost:8080/"
        },
        "id": "0qAl291eBJxW",
        "outputId": "de0d9720-62b1-40c4-cbdd-b2cc64af7c9e"
      },
      "execution_count": null,
      "outputs": [
        {
          "output_type": "stream",
          "name": "stdout",
          "text": [
            "HELLO WORLD\n"
          ]
        }
      ]
    },
    {
      "cell_type": "code",
      "source": [
        "# to install external package in idle\n",
        "# type this in cmd \n",
        "# pip3 install numpy"
      ],
      "metadata": {
        "id": "3rbCSJMYBTWo"
      },
      "execution_count": null,
      "outputs": []
    },
    {
      "cell_type": "code",
      "source": [
        "from numpy import *\n",
        "# this will import all the functions in numpy \n",
        "#dont need to call the module everytime\""
      ],
      "metadata": {
        "id": "59bHn_jeBgHC"
      },
      "execution_count": null,
      "outputs": []
    },
    {
      "cell_type": "code",
      "source": [
        "arr = array([1,2,3,4,5])\n",
        "print(arr)"
      ],
      "metadata": {
        "colab": {
          "base_uri": "https://localhost:8080/"
        },
        "id": "8_cObIt0B0m3",
        "outputId": "89cb5df1-94d6-4dff-f938-88be92d046fe"
      },
      "execution_count": null,
      "outputs": [
        {
          "output_type": "stream",
          "name": "stdout",
          "text": [
            "[1 2 3 4 5]\n"
          ]
        }
      ]
    },
    {
      "cell_type": "markdown",
      "source": [
        "CREATING ARRAYS IN NUMPY"
      ],
      "metadata": {
        "id": "IehCLaVZLk7U"
      }
    },
    {
      "cell_type": "code",
      "source": [
        "# WAYS OF CREATING ARRAYS IN NUMPY\n"
      ],
      "metadata": {
        "id": "py1xBEAlLgaV"
      },
      "execution_count": null,
      "outputs": []
    },
    {
      "cell_type": "markdown",
      "source": [
        "ARRAY()"
      ],
      "metadata": {
        "id": "AKjlo1pUMOS2"
      }
    },
    {
      "cell_type": "code",
      "source": [
        "from numpy import *\n",
        "arr = array([1,2,3,4,5])\n",
        "print(arr)"
      ],
      "metadata": {
        "colab": {
          "base_uri": "https://localhost:8080/"
        },
        "id": "RBYTludiMOBP",
        "outputId": "3f2c55d2-dd3f-4386-e435-b7bf2400a302"
      },
      "execution_count": null,
      "outputs": [
        {
          "output_type": "stream",
          "name": "stdout",
          "text": [
            "[1 2 3 4 5]\n"
          ]
        }
      ]
    },
    {
      "cell_type": "code",
      "source": [
        "print(arr.dtype)"
      ],
      "metadata": {
        "colab": {
          "base_uri": "https://localhost:8080/"
        },
        "id": "bNdv250VMXlI",
        "outputId": "a2cf1b74-fa7d-46d5-b8cd-b5292e779c63"
      },
      "execution_count": null,
      "outputs": [
        {
          "output_type": "stream",
          "name": "stdout",
          "text": [
            "int64\n"
          ]
        }
      ]
    },
    {
      "cell_type": "code",
      "source": [
        "arr1 = array([1,2,3.4,5])\n",
        "print(arr1.dtype)\n",
        "print(arr1)\n",
        "# all elements shd be same datatype"
      ],
      "metadata": {
        "colab": {
          "base_uri": "https://localhost:8080/"
        },
        "id": "lYGPnAXVMao7",
        "outputId": "bd895a9e-e7e2-4b9a-e2cd-da08f3cd3e20"
      },
      "execution_count": null,
      "outputs": [
        {
          "output_type": "stream",
          "name": "stdout",
          "text": [
            "float64\n",
            "[1.  2.  3.4 5. ]\n"
          ]
        }
      ]
    },
    {
      "cell_type": "code",
      "source": [
        "arr2 = array([1,2,3,4,5],float)\n",
        "print(arr2)"
      ],
      "metadata": {
        "colab": {
          "base_uri": "https://localhost:8080/"
        },
        "id": "NsgynjIsMlHD",
        "outputId": "ad92b3f4-912e-4526-c8ee-9caa39b39839"
      },
      "execution_count": null,
      "outputs": [
        {
          "output_type": "stream",
          "name": "stdout",
          "text": [
            "[1. 2. 3. 4. 5.]\n"
          ]
        }
      ]
    },
    {
      "cell_type": "markdown",
      "source": [
        "LINSPACE()"
      ],
      "metadata": {
        "id": "-NyDojp-MxoR"
      }
    },
    {
      "cell_type": "code",
      "source": [
        "a = linspace(0,16,3)# 3 will break the path from 0 to 16 in 3 parts\n",
        "print(a)"
      ],
      "metadata": {
        "colab": {
          "base_uri": "https://localhost:8080/"
        },
        "id": "gPGDyvKDMwW9",
        "outputId": "414ecfb4-1c7e-4eec-df02-107704fc21fc"
      },
      "execution_count": null,
      "outputs": [
        {
          "output_type": "stream",
          "name": "stdout",
          "text": [
            "[ 0.  8. 16.]\n"
          ]
        }
      ]
    },
    {
      "cell_type": "code",
      "source": [
        "a = linspace(0,16)\n",
        "print(a)\n",
        "# by default it takes 50 paths"
      ],
      "metadata": {
        "colab": {
          "base_uri": "https://localhost:8080/"
        },
        "id": "Bd96q7gJNMj7",
        "outputId": "bdfbef0c-5418-4740-8455-4f453d33eb99"
      },
      "execution_count": null,
      "outputs": [
        {
          "output_type": "stream",
          "name": "stdout",
          "text": [
            "[ 0.          0.32653061  0.65306122  0.97959184  1.30612245  1.63265306\n",
            "  1.95918367  2.28571429  2.6122449   2.93877551  3.26530612  3.59183673\n",
            "  3.91836735  4.24489796  4.57142857  4.89795918  5.2244898   5.55102041\n",
            "  5.87755102  6.20408163  6.53061224  6.85714286  7.18367347  7.51020408\n",
            "  7.83673469  8.16326531  8.48979592  8.81632653  9.14285714  9.46938776\n",
            "  9.79591837 10.12244898 10.44897959 10.7755102  11.10204082 11.42857143\n",
            " 11.75510204 12.08163265 12.40816327 12.73469388 13.06122449 13.3877551\n",
            " 13.71428571 14.04081633 14.36734694 14.69387755 15.02040816 15.34693878\n",
            " 15.67346939 16.        ]\n"
          ]
        }
      ]
    },
    {
      "cell_type": "markdown",
      "source": [
        "ARANGE()"
      ],
      "metadata": {
        "id": "C2HwR7CSNif6"
      }
    },
    {
      "cell_type": "code",
      "source": [
        "a = arange(1,15,2)# here it is steps i.e like range but in arrays so a_range arange"
      ],
      "metadata": {
        "id": "ZhTNhKGGNasw"
      },
      "execution_count": null,
      "outputs": []
    },
    {
      "cell_type": "code",
      "source": [
        "a"
      ],
      "metadata": {
        "colab": {
          "base_uri": "https://localhost:8080/"
        },
        "id": "Y2foPu8PNxXo",
        "outputId": "4c88a461-b16f-4d1d-8a92-511f8ecd32dc"
      },
      "execution_count": null,
      "outputs": [
        {
          "output_type": "execute_result",
          "data": {
            "text/plain": [
              "array([ 1,  3,  5,  7,  9, 11, 13])"
            ]
          },
          "metadata": {},
          "execution_count": 63
        }
      ]
    },
    {
      "cell_type": "markdown",
      "source": [
        "LOGSPACE()"
      ],
      "metadata": {
        "id": "LTltnzjjN1jF"
      }
    },
    {
      "cell_type": "code",
      "source": [
        "a = logspace(1,40,5) #divides with exponentially decreased space\n",
        "print(a)"
      ],
      "metadata": {
        "colab": {
          "base_uri": "https://localhost:8080/"
        },
        "id": "5TbljKBmNzYW",
        "outputId": "e1c280ba-cbbb-409a-9b50-919c0765ab9d"
      },
      "execution_count": null,
      "outputs": [
        {
          "output_type": "stream",
          "name": "stdout",
          "text": [
            "[1.00000000e+01 5.62341325e+10 3.16227766e+20 1.77827941e+30\n",
            " 1.00000000e+40]\n"
          ]
        }
      ]
    },
    {
      "cell_type": "markdown",
      "source": [
        "ZEROS() AND ONES()"
      ],
      "metadata": {
        "id": "vsUfm3TaOVV-"
      }
    },
    {
      "cell_type": "code",
      "source": [
        "# ALL ELEMENTS WILL BE ZEROES\n",
        "a = zeros(5,int)\n",
        "b = ones(4,float)\n",
        "print(a,b)"
      ],
      "metadata": {
        "colab": {
          "base_uri": "https://localhost:8080/"
        },
        "id": "e4eJRGhnOABn",
        "outputId": "cb8129f1-a973-4d43-efbd-935d9865392b"
      },
      "execution_count": null,
      "outputs": [
        {
          "output_type": "stream",
          "name": "stdout",
          "text": [
            "[0 0 0 0 0] [1. 1. 1. 1.]\n"
          ]
        }
      ]
    },
    {
      "cell_type": "markdown",
      "source": [
        "#OPERATIONS IN ARRAYS"
      ],
      "metadata": {
        "id": "IQSmLpBcOskd"
      }
    },
    {
      "cell_type": "code",
      "source": [
        "arr = array([1,2,3,4,5])\n",
        "\n",
        "arr = arr +5 # adding 5 to each elements\n",
        "print(arr)"
      ],
      "metadata": {
        "colab": {
          "base_uri": "https://localhost:8080/"
        },
        "id": "YAY0OrQqOn_T",
        "outputId": "1772e8fb-ebe1-49a1-816c-28fb47fa10c0"
      },
      "execution_count": null,
      "outputs": [
        {
          "output_type": "stream",
          "name": "stdout",
          "text": [
            "[ 6  7  8  9 10]\n"
          ]
        }
      ]
    },
    {
      "cell_type": "markdown",
      "source": [
        "VECTORIZED OPERATION"
      ],
      "metadata": {
        "id": "JC6JueCrPOeX"
      }
    },
    {
      "cell_type": "code",
      "source": [
        "#ADDING TWO ARRAYS\n",
        "arr1 = array([1,1,1,1,1])\n",
        "\n",
        "print([arr+arr1])"
      ],
      "metadata": {
        "colab": {
          "base_uri": "https://localhost:8080/"
        },
        "id": "mrj40BRrPA5L",
        "outputId": "ca0e6a1f-3ede-4f6a-8116-bb946fdc7504"
      },
      "execution_count": null,
      "outputs": [
        {
          "output_type": "stream",
          "name": "stdout",
          "text": [
            "[array([ 7,  8,  9, 10, 11])]\n"
          ]
        }
      ]
    },
    {
      "cell_type": "code",
      "source": [
        "# ALSO AN PERFORM ALL MATH OPERATIONS"
      ],
      "metadata": {
        "id": "-jio7cPhPLwM"
      },
      "execution_count": null,
      "outputs": []
    },
    {
      "cell_type": "code",
      "source": [
        "print(sin(arr))"
      ],
      "metadata": {
        "colab": {
          "base_uri": "https://localhost:8080/"
        },
        "id": "i30XiROtPhfj",
        "outputId": "68d88f53-e748-4a9b-f76a-10a089bbc218"
      },
      "execution_count": null,
      "outputs": [
        {
          "output_type": "stream",
          "name": "stdout",
          "text": [
            "[-0.2794155   0.6569866   0.98935825  0.41211849 -0.54402111]\n"
          ]
        }
      ]
    },
    {
      "cell_type": "code",
      "source": [
        "print(log(arr))"
      ],
      "metadata": {
        "colab": {
          "base_uri": "https://localhost:8080/"
        },
        "id": "GYUjgqNmPlks",
        "outputId": "dfe591b0-1243-4fca-a167-58919092d3ee"
      },
      "execution_count": null,
      "outputs": [
        {
          "output_type": "stream",
          "name": "stdout",
          "text": [
            "[1.79175947 1.94591015 2.07944154 2.19722458 2.30258509]\n"
          ]
        }
      ]
    },
    {
      "cell_type": "code",
      "source": [
        "print(sqrt(arr))"
      ],
      "metadata": {
        "colab": {
          "base_uri": "https://localhost:8080/"
        },
        "id": "sGidD0BAPoro",
        "outputId": "5eb64466-9509-4cca-a797-15c1a0cc54b8"
      },
      "execution_count": null,
      "outputs": [
        {
          "output_type": "stream",
          "name": "stdout",
          "text": [
            "[2.44948974 2.64575131 2.82842712 3.         3.16227766]\n"
          ]
        }
      ]
    },
    {
      "cell_type": "code",
      "source": [
        "print(sum(arr))"
      ],
      "metadata": {
        "colab": {
          "base_uri": "https://localhost:8080/"
        },
        "id": "9XSxcSgNPsEv",
        "outputId": "67bcff77-2315-4955-f11c-e5ca58263541"
      },
      "execution_count": null,
      "outputs": [
        {
          "output_type": "stream",
          "name": "stdout",
          "text": [
            "40\n"
          ]
        }
      ]
    },
    {
      "cell_type": "code",
      "source": [
        "print(min(arr))\n"
      ],
      "metadata": {
        "colab": {
          "base_uri": "https://localhost:8080/"
        },
        "id": "LwCzruy7Pu80",
        "outputId": "f97ececb-3729-4c4a-b878-e88fb5c75657"
      },
      "execution_count": null,
      "outputs": [
        {
          "output_type": "stream",
          "name": "stdout",
          "text": [
            "6\n"
          ]
        }
      ]
    },
    {
      "cell_type": "code",
      "source": [
        "print(sort(arr))"
      ],
      "metadata": {
        "colab": {
          "base_uri": "https://localhost:8080/"
        },
        "id": "YneLqtMyPy5y",
        "outputId": "ce0722d6-7b49-4b3c-aaa8-a769aaf57ad8"
      },
      "execution_count": null,
      "outputs": [
        {
          "output_type": "stream",
          "name": "stdout",
          "text": [
            "[ 6  7  8  9 10]\n"
          ]
        }
      ]
    },
    {
      "cell_type": "code",
      "source": [
        "print(concatenate([arr1,arr]))"
      ],
      "metadata": {
        "colab": {
          "base_uri": "https://localhost:8080/"
        },
        "id": "wVsAxYedP1BY",
        "outputId": "c813039d-5f35-4f46-a943-01211961a89b"
      },
      "execution_count": null,
      "outputs": [
        {
          "output_type": "stream",
          "name": "stdout",
          "text": [
            "[ 1  1  1  1  1  6  7  8  9 10]\n"
          ]
        }
      ]
    },
    {
      "cell_type": "markdown",
      "source": [
        "COPYING ARRAY"
      ],
      "metadata": {
        "id": "2wCcijkkQEcn"
      }
    },
    {
      "cell_type": "code",
      "source": [
        "arr2 = arr1\n",
        "print(arr2)"
      ],
      "metadata": {
        "colab": {
          "base_uri": "https://localhost:8080/"
        },
        "id": "8Py4UEf6P_xO",
        "outputId": "2603c7e3-e5c8-412f-c5e7-d451d2a6e3f2"
      },
      "execution_count": null,
      "outputs": [
        {
          "output_type": "stream",
          "name": "stdout",
          "text": [
            "[1 1 1 1 1]\n"
          ]
        }
      ]
    },
    {
      "cell_type": "code",
      "source": [
        "print(id(arr1)) # aliasing\n",
        "print(id(arr2))"
      ],
      "metadata": {
        "colab": {
          "base_uri": "https://localhost:8080/"
        },
        "id": "52VF7-PdQMh8",
        "outputId": "88ebc168-3c74-4412-cd50-43b578d8a87b"
      },
      "execution_count": null,
      "outputs": [
        {
          "output_type": "stream",
          "name": "stdout",
          "text": [
            "140622843215568\n",
            "140622843215568\n"
          ]
        }
      ]
    },
    {
      "cell_type": "code",
      "source": [
        "arr2 = arr1.view()\n",
        "print(id(arr1)) # changed the address\n",
        "print(id(arr2))"
      ],
      "metadata": {
        "colab": {
          "base_uri": "https://localhost:8080/"
        },
        "id": "AXFlvi6XQPwR",
        "outputId": "7787b0e3-0838-49f7-ba13-13863549f1d7"
      },
      "execution_count": null,
      "outputs": [
        {
          "output_type": "stream",
          "name": "stdout",
          "text": [
            "140622843215568\n",
            "140622841293360\n"
          ]
        }
      ]
    },
    {
      "cell_type": "code",
      "source": [
        "# shallow copy ( arr2 is dependent on arr1)\n",
        "# deep copy "
      ],
      "metadata": {
        "id": "NLx8dihJQkWk"
      },
      "execution_count": null,
      "outputs": []
    },
    {
      "cell_type": "code",
      "source": [
        "arr1[1] = 7 # SHALLOW COPYING\n",
        "print(arr1)\n",
        "print(arr2)"
      ],
      "metadata": {
        "colab": {
          "base_uri": "https://localhost:8080/"
        },
        "id": "l48w2mclQwRZ",
        "outputId": "e8df8511-0f0d-4c78-9423-47dec8cb5cfa"
      },
      "execution_count": null,
      "outputs": [
        {
          "output_type": "stream",
          "name": "stdout",
          "text": [
            "[1 7 1 1 1]\n",
            "[1 7 1 1 1]\n"
          ]
        }
      ]
    },
    {
      "cell_type": "markdown",
      "source": [
        "DEEP COPY"
      ],
      "metadata": {
        "id": "mGVar9IDQ62r"
      }
    },
    {
      "cell_type": "code",
      "source": [
        "arr3 = arr1.copy()\n",
        "arr1[2] = 4\n",
        "print(arr1)\n",
        "print(arr3)"
      ],
      "metadata": {
        "colab": {
          "base_uri": "https://localhost:8080/"
        },
        "id": "tFkiRgyVQ3UD",
        "outputId": "4b8dda7c-b80e-47d3-942f-2f4fd56eb036"
      },
      "execution_count": null,
      "outputs": [
        {
          "output_type": "stream",
          "name": "stdout",
          "text": [
            "[1 7 4 1 1]\n",
            "[1 7 1 1 1]\n"
          ]
        }
      ]
    },
    {
      "cell_type": "code",
      "source": [
        "print(id(arr1))\n",
        "print(id(arr3))"
      ],
      "metadata": {
        "colab": {
          "base_uri": "https://localhost:8080/"
        },
        "id": "tWOLL828RFVY",
        "outputId": "71b22abc-3167-46fa-ed56-307a39c62b7a"
      },
      "execution_count": null,
      "outputs": [
        {
          "output_type": "stream",
          "name": "stdout",
          "text": [
            "140622843215568\n",
            "140622841295088\n"
          ]
        }
      ]
    },
    {
      "cell_type": "markdown",
      "source": [
        "# MATRIX"
      ],
      "metadata": {
        "id": "tRR43XOaRQjm"
      }
    },
    {
      "cell_type": "code",
      "source": [
        "# ITS A TWO DIMENTIONAL ARRAY \n",
        "from numpy import *\n",
        "\n",
        "arr = array([[1,2,3],[4,5,6]])\n",
        "\n",
        "print(arr)"
      ],
      "metadata": {
        "colab": {
          "base_uri": "https://localhost:8080/"
        },
        "id": "3Nf9ARcpRKK_",
        "outputId": "67de6f7e-680c-4b39-87b1-6bac0effd72e"
      },
      "execution_count": null,
      "outputs": [
        {
          "output_type": "stream",
          "name": "stdout",
          "text": [
            "[[1 2 3]\n",
            " [4 5 6]]\n"
          ]
        }
      ]
    },
    {
      "cell_type": "markdown",
      "source": [
        "ATTRIBUTES"
      ],
      "metadata": {
        "id": "0SNM8ovwu962"
      }
    },
    {
      "cell_type": "code",
      "source": [
        "print(arr.ndim)"
      ],
      "metadata": {
        "colab": {
          "base_uri": "https://localhost:8080/"
        },
        "id": "pW8c2jrPuz83",
        "outputId": "7a515d75-4b83-4154-dd2b-43a2f7673a67"
      },
      "execution_count": null,
      "outputs": [
        {
          "output_type": "stream",
          "name": "stdout",
          "text": [
            "2\n"
          ]
        }
      ]
    },
    {
      "cell_type": "code",
      "source": [
        "print(arr.shape)"
      ],
      "metadata": {
        "colab": {
          "base_uri": "https://localhost:8080/"
        },
        "id": "RhDQOGEzvEJn",
        "outputId": "29d2ddab-0b15-4852-9fe6-be8305c05210"
      },
      "execution_count": null,
      "outputs": [
        {
          "output_type": "stream",
          "name": "stdout",
          "text": [
            "(2, 3)\n"
          ]
        }
      ]
    },
    {
      "cell_type": "code",
      "source": [
        "arr1 = arr.flatten()\n",
        "print(arr1)"
      ],
      "metadata": {
        "colab": {
          "base_uri": "https://localhost:8080/"
        },
        "id": "rnKV5zSAvFjm",
        "outputId": "01fafff3-0918-4f80-fdbe-a993b840612d"
      },
      "execution_count": null,
      "outputs": [
        {
          "output_type": "stream",
          "name": "stdout",
          "text": [
            "[1 2 3 4 5 6]\n"
          ]
        }
      ]
    },
    {
      "cell_type": "code",
      "source": [
        "arr3 = arr1.reshape(3,2)"
      ],
      "metadata": {
        "id": "3xwf5k6ivXDl"
      },
      "execution_count": null,
      "outputs": []
    },
    {
      "cell_type": "code",
      "source": [
        "arr3"
      ],
      "metadata": {
        "colab": {
          "base_uri": "https://localhost:8080/"
        },
        "id": "Zqb0SbFUvh5q",
        "outputId": "43980dde-2996-4e8e-a286-f8d0318a18ff"
      },
      "execution_count": null,
      "outputs": [
        {
          "output_type": "execute_result",
          "data": {
            "text/plain": [
              "array([[1, 2],\n",
              "       [3, 4],\n",
              "       [5, 6]])"
            ]
          },
          "metadata": {},
          "execution_count": 12
        }
      ]
    },
    {
      "cell_type": "code",
      "source": [
        "arr3 = arr3.reshape(2,3)\n",
        "arr3"
      ],
      "metadata": {
        "colab": {
          "base_uri": "https://localhost:8080/"
        },
        "id": "4lL6JM7wvmLf",
        "outputId": "e7cf2b0a-46eb-4808-c285-fa08a2f158bc"
      },
      "execution_count": null,
      "outputs": [
        {
          "output_type": "execute_result",
          "data": {
            "text/plain": [
              "array([[1, 2, 3],\n",
              "       [4, 5, 6]])"
            ]
          },
          "metadata": {},
          "execution_count": 13
        }
      ]
    },
    {
      "cell_type": "code",
      "source": [
        "arr4 = array([1,1,1,2,2,2,3,3,3,4,4,4])\n",
        "arr4 = arr4.reshape(2,2,3)# RESHAPES AND GIVES AN ARRAY CONTAINING 2 MATRICES OF (2,3)\n",
        "arr4"
      ],
      "metadata": {
        "colab": {
          "base_uri": "https://localhost:8080/"
        },
        "id": "PHUTn7LKvxJd",
        "outputId": "7dcb6ba2-fcc0-41c0-df8d-c6ce831b4db3"
      },
      "execution_count": null,
      "outputs": [
        {
          "output_type": "execute_result",
          "data": {
            "text/plain": [
              "array([[[1, 1, 1],\n",
              "        [2, 2, 2]],\n",
              "\n",
              "       [[3, 3, 3],\n",
              "        [4, 4, 4]]])"
            ]
          },
          "metadata": {},
          "execution_count": 18
        }
      ]
    },
    {
      "cell_type": "code",
      "source": [
        "m = matrix(arr3)\n",
        "print(m)#NOW THIS IS A MATRIX AND NOW WE CAN PERFORM MATRIX OPERATIONS"
      ],
      "metadata": {
        "colab": {
          "base_uri": "https://localhost:8080/"
        },
        "id": "uTuYUoaHwBCM",
        "outputId": "6036544f-f921-45f0-dab5-5c3e02cc0a1c"
      },
      "execution_count": null,
      "outputs": [
        {
          "output_type": "stream",
          "name": "stdout",
          "text": [
            "[[1 2 3]\n",
            " [4 5 6]]\n"
          ]
        }
      ]
    },
    {
      "cell_type": "code",
      "source": [
        "# ALSO\n",
        "m = matrix('1 2 3 4;5 6 7 8')\n",
        "print(m)"
      ],
      "metadata": {
        "colab": {
          "base_uri": "https://localhost:8080/"
        },
        "id": "aoG31rC8w7gy",
        "outputId": "ac4af770-5a8a-40ea-d72c-55f1943381ed"
      },
      "execution_count": null,
      "outputs": [
        {
          "output_type": "stream",
          "name": "stdout",
          "text": [
            "[[1 2 3 4]\n",
            " [5 6 7 8]]\n"
          ]
        }
      ]
    },
    {
      "cell_type": "code",
      "source": [
        "print(matrix('1 2;2 3;3 4;4 5'))"
      ],
      "metadata": {
        "colab": {
          "base_uri": "https://localhost:8080/"
        },
        "id": "ecMQsq_3xNBz",
        "outputId": "c024b34e-6bfd-4ce6-a9fa-d0290ea0ff72"
      },
      "execution_count": null,
      "outputs": [
        {
          "output_type": "stream",
          "name": "stdout",
          "text": [
            "[[1 2]\n",
            " [2 3]\n",
            " [3 4]\n",
            " [4 5]]\n"
          ]
        }
      ]
    },
    {
      "cell_type": "code",
      "source": [
        "print(m.diagonal)"
      ],
      "metadata": {
        "colab": {
          "base_uri": "https://localhost:8080/"
        },
        "id": "r2SLMDeqxdkL",
        "outputId": "1b059e36-b86b-43af-bf72-619d3f05da03"
      },
      "execution_count": null,
      "outputs": [
        {
          "output_type": "stream",
          "name": "stdout",
          "text": [
            "<built-in method diagonal of matrix object at 0x7f6fe759b940>\n"
          ]
        }
      ]
    },
    {
      "cell_type": "code",
      "source": [
        "print(m.argmax)"
      ],
      "metadata": {
        "colab": {
          "base_uri": "https://localhost:8080/"
        },
        "id": "Joc3htETxh7K",
        "outputId": "710b053b-41c1-4ce1-b82a-abb95af5e4e0"
      },
      "execution_count": null,
      "outputs": [
        {
          "output_type": "stream",
          "name": "stdout",
          "text": [
            "<bound method matrix.argmax of matrix([[1, 2, 3, 4],\n",
            "        [5, 6, 7, 8]])>\n"
          ]
        }
      ]
    },
    {
      "cell_type": "code",
      "source": [
        "m1 = matrix('1 2 3 ; 1 1 1; 2 2 2')\n",
        "m2 = matrix('2 2 2;3 3 3;1 1 1')\n",
        "print(m1+m2)\n",
        "print(m1*m2)"
      ],
      "metadata": {
        "colab": {
          "base_uri": "https://localhost:8080/"
        },
        "id": "vcS1nuBQxlR0",
        "outputId": "ffb36114-3479-446f-9fa9-cc4617bd1792"
      },
      "execution_count": null,
      "outputs": [
        {
          "output_type": "stream",
          "name": "stdout",
          "text": [
            "[[3 4 5]\n",
            " [4 4 4]\n",
            " [3 3 3]]\n",
            "[[11 11 11]\n",
            " [ 6  6  6]\n",
            " [12 12 12]]\n"
          ]
        }
      ]
    },
    {
      "cell_type": "code",
      "source": [
        "print(m1+2)"
      ],
      "metadata": {
        "colab": {
          "base_uri": "https://localhost:8080/"
        },
        "id": "BQNjT3UqyDFh",
        "outputId": "9fdedb65-06b9-437c-be9e-1f49ceeed56e"
      },
      "execution_count": null,
      "outputs": [
        {
          "output_type": "stream",
          "name": "stdout",
          "text": [
            "[[3 4 5]\n",
            " [3 3 3]\n",
            " [4 4 4]]\n"
          ]
        }
      ]
    },
    {
      "cell_type": "code",
      "source": [
        "m = matrix(['1 1 1;2 2 2 ;3 3 3'])\n"
      ],
      "metadata": {
        "colab": {
          "base_uri": "https://localhost:8080/"
        },
        "id": "N8ifVp2pyNPo",
        "outputId": "be5edbd9-2f9d-41d5-caea-e7f64e448a62"
      },
      "execution_count": null,
      "outputs": [
        {
          "output_type": "stream",
          "name": "stdout",
          "text": [
            "[]\n"
          ]
        }
      ]
    },
    {
      "cell_type": "markdown",
      "source": [
        "#FUNCTIONS"
      ],
      "metadata": {
        "id": "imfaC_g8yIyD"
      }
    },
    {
      "cell_type": "code",
      "source": [
        "# IF ANY TASK IS USED IN MANY PLACES \n",
        "# INSTEAD OF USING THE SAME SET OF INSTRUCTIONS , WE USE FUNCTION\n",
        "# WE DEFINE A FUNCTION , GIVE IT THE SAME SET OF CODES \n",
        "# WE CAN JUST CALL THIS WITH A NAME INSTEAD OF WRITING THE SAME CODES AGAIN "
      ],
      "metadata": {
        "id": "EhmUfLbWyGsI"
      },
      "execution_count": null,
      "outputs": []
    },
    {
      "cell_type": "code",
      "source": [
        "def print_hello():\n",
        "    return (\"hello\")\n",
        "  \n",
        "print_hello()"
      ],
      "metadata": {
        "colab": {
          "base_uri": "https://localhost:8080/",
          "height": 36
        },
        "id": "V4rD0HXjznw5",
        "outputId": "61401c0f-c12c-4251-f538-d10445a93ccc"
      },
      "execution_count": null,
      "outputs": [
        {
          "output_type": "execute_result",
          "data": {
            "text/plain": [
              "'hello'"
            ],
            "application/vnd.google.colaboratory.intrinsic+json": {
              "type": "string"
            }
          },
          "metadata": {},
          "execution_count": 48
        }
      ]
    },
    {
      "cell_type": "code",
      "source": [
        "def add_sub(x,y):\n",
        "  \n",
        "    a = x+y\n",
        "    b = x-y\n",
        "    return a,b\n",
        "\n",
        "\n",
        "result = add_sub(2,1)\n",
        "print(result)"
      ],
      "metadata": {
        "id": "Gj5ncPBizuAS",
        "colab": {
          "base_uri": "https://localhost:8080/"
        },
        "outputId": "256bdc11-6dd2-425f-906c-07d8b363ec41"
      },
      "execution_count": null,
      "outputs": [
        {
          "output_type": "stream",
          "name": "stdout",
          "text": [
            "(3, 1)\n"
          ]
        }
      ]
    },
    {
      "cell_type": "markdown",
      "source": [
        "ARGUMENTS/PARAMETERS"
      ],
      "metadata": {
        "id": "CIMlGxjv1m-n"
      }
    },
    {
      "cell_type": "code",
      "source": [
        "#PASSING PARAMETERS\n",
        "#PASS BY REFERENCE AND PASS BY VALUE "
      ],
      "metadata": {
        "id": "dv8CUQ_i1Ku_"
      },
      "execution_count": null,
      "outputs": []
    },
    {
      "cell_type": "code",
      "source": [
        "def update(x):\n",
        "  x = 8\n",
        "  print(\"x\",x)\n",
        "\n",
        "a = 10\n",
        "update(a)\n",
        "print(\"a\",a) # it did not change a \n",
        "# just updated x\n",
        "# here we are pasing by value only and not the reference"
      ],
      "metadata": {
        "colab": {
          "base_uri": "https://localhost:8080/"
        },
        "id": "U8Z1l-uD2IAf",
        "outputId": "a5ff9380-c653-480f-aab7-a4630c235369"
      },
      "execution_count": null,
      "outputs": [
        {
          "output_type": "stream",
          "name": "stdout",
          "text": [
            "x 8\n",
            "a 10\n"
          ]
        }
      ]
    },
    {
      "cell_type": "code",
      "source": [
        "# passing by referrence is passing the address \n",
        "#PYHTON DOESNT HAVE THESE CONCEPTS\n",
        "#EVERYTHING IN PYHTON ARE OBJECTS"
      ],
      "metadata": {
        "id": "BkiFusMd2SCF"
      },
      "execution_count": null,
      "outputs": []
    },
    {
      "cell_type": "code",
      "source": [
        "def update(x):\n",
        "  print(id(x))\n",
        "  x = 8\n",
        "  print(id(x))\n",
        "  print(\"x\",x)\n",
        "\n",
        "a = 10\n",
        "print(id(a))\n",
        "update(a)\n",
        "print(\"a\",a) # VALUE OF A DOESNT CHANGE"
      ],
      "metadata": {
        "colab": {
          "base_uri": "https://localhost:8080/"
        },
        "id": "wl_j8F_0226z",
        "outputId": "7020a395-cd86-49f4-d758-950de04fbf15"
      },
      "execution_count": null,
      "outputs": [
        {
          "output_type": "stream",
          "name": "stdout",
          "text": [
            "140118109028880\n",
            "140118109028880\n",
            "140118109028816\n",
            "x 8\n",
            "a 10\n"
          ]
        }
      ]
    },
    {
      "cell_type": "code",
      "source": [
        "def update(x):\n",
        "  print(id(x))\n",
        "  x[1] = 25\n",
        "  print(id(x))\n",
        "  print(\"x\",x)\n",
        "\n",
        "a = [1,2,3]\n",
        "print(id(a))\n",
        "update(a)\n",
        "print(\"a\",a) # ELEMENTS IN LIST A GOT CHANGED BUT ADDRESS REMAINS SAME\n",
        "# LISTS ARE MUTABLE"
      ],
      "metadata": {
        "colab": {
          "base_uri": "https://localhost:8080/"
        },
        "id": "vX4SnHre3C60",
        "outputId": "5ec666e3-27f0-481e-eef4-8dd67cb9fde6"
      },
      "execution_count": null,
      "outputs": [
        {
          "output_type": "stream",
          "name": "stdout",
          "text": [
            "140116791619904\n",
            "140116791619904\n",
            "140116791619904\n",
            "x [1, 25, 3]\n",
            "a [1, 25, 3]\n"
          ]
        }
      ]
    },
    {
      "cell_type": "markdown",
      "source": [
        "TYPES OF ARGUMENTS"
      ],
      "metadata": {
        "id": "VYUxYFbd4Gza"
      }
    },
    {
      "cell_type": "code",
      "source": [
        "def add(a,b): # FORMAL ARGUMENTS( WHEN ARGUMENTS ARE BEING DEFINED)\n",
        "  c = a+b\n",
        "  print(c)\n",
        "\n",
        "add(2,4) # ACTUAL ARGUMENTS (WHEN ARGUMENTS ARE BEING GIVEN TO THE FUNCTION WHEN CALLED)"
      ],
      "metadata": {
        "id": "-xwod4-f3vVT"
      },
      "execution_count": null,
      "outputs": []
    },
    {
      "cell_type": "code",
      "source": [
        "# 4 TYPES OF ACTUAL ARGUMENTS\n",
        "# POSITION\n",
        "#KEYWORD\n",
        "#DEFAULT\n",
        "#VARIABLE LENGTH"
      ],
      "metadata": {
        "id": "Paa8L0Py4xhC"
      },
      "execution_count": null,
      "outputs": []
    },
    {
      "cell_type": "code",
      "source": [
        "def person(name,age):\n",
        "  print(name)\n",
        "  print(age-5)\n",
        "\n",
        "person('navin',28)\n",
        "\n",
        "# here each arguments shd go to specific formal ones \n",
        "# therefore called POSITIONAL ARGUMENTS\n",
        "person(28,'navin')# this will give us an error\n"
      ],
      "metadata": {
        "id": "vAGlyAMF5AE4"
      },
      "execution_count": null,
      "outputs": []
    },
    {
      "cell_type": "code",
      "source": [
        "def person(name,age):\n",
        "    print(name)\n",
        "    print(age+5)\n",
        "\n",
        "\n",
        "person(age=28,name='navin')\n",
        "# here its called keyword arguments\n"
      ],
      "metadata": {
        "colab": {
          "base_uri": "https://localhost:8080/"
        },
        "id": "819TFtb95U4h",
        "outputId": "9ced7f0d-7212-4bc6-fee6-7f84a0641433"
      },
      "execution_count": null,
      "outputs": [
        {
          "output_type": "stream",
          "name": "stdout",
          "text": [
            "navin\n",
            "33\n"
          ]
        }
      ]
    },
    {
      "cell_type": "code",
      "source": [
        "def person(name,age=10): # we are giving a value to the formal arguments\n",
        "    print(name)\n",
        "    print(age+5)\n",
        "\n",
        "person('navin')\n",
        "# even when the actual arguments arent given , it'll go with the default one \n",
        "# in this case its DEFAULT ARGUMENTS"
      ],
      "metadata": {
        "colab": {
          "base_uri": "https://localhost:8080/"
        },
        "id": "bEvkY1hLH871",
        "outputId": "a789df58-6cee-4d2a-81b5-15ef2289ff72"
      },
      "execution_count": null,
      "outputs": [
        {
          "output_type": "stream",
          "name": "stdout",
          "text": [
            "navin\n",
            "15\n"
          ]
        }
      ]
    },
    {
      "cell_type": "markdown",
      "source": [
        "VARIABLE LENGTH"
      ],
      "metadata": {
        "id": "KZC8jNzvIX9O"
      }
    },
    {
      "cell_type": "code",
      "source": [
        "def sum(a,b):\n",
        "  c = a+b\n",
        "  print(c)\n",
        "\n",
        "sum(2,5)"
      ],
      "metadata": {
        "colab": {
          "base_uri": "https://localhost:8080/"
        },
        "id": "GueLRld-IU_F",
        "outputId": "c735254d-db1b-4866-f6d1-e9106e298851"
      },
      "execution_count": null,
      "outputs": [
        {
          "output_type": "stream",
          "name": "stdout",
          "text": [
            "7\n"
          ]
        }
      ]
    },
    {
      "cell_type": "code",
      "source": [
        "# adding multiple values \n",
        "def sum(a,*b): # b will be of variable length \n",
        "  print(a,b)\n",
        "  \n",
        "\n",
        "sum(2,4,5,6)\n"
      ],
      "metadata": {
        "colab": {
          "base_uri": "https://localhost:8080/"
        },
        "id": "Xkaj8GMOIf5e",
        "outputId": "5b0daa48-1c64-42c6-ce5e-2c30bf4aa302"
      },
      "execution_count": null,
      "outputs": [
        {
          "output_type": "stream",
          "name": "stdout",
          "text": [
            "2 (4, 5, 6)\n"
          ]
        }
      ]
    },
    {
      "cell_type": "code",
      "source": [
        "def sum(a,*b): # b will be of variable length \n",
        "  print(a,b)\n",
        "  c = a\n",
        "  for i in b:\n",
        "    c += i\n",
        "\n",
        "  print(c)\n",
        "  \n",
        "\n",
        "sum(2,4,5,6)\n"
      ],
      "metadata": {
        "colab": {
          "base_uri": "https://localhost:8080/"
        },
        "id": "q400woQsI9tH",
        "outputId": "2805f003-68db-4b8c-fed7-18cdc2d2c255"
      },
      "execution_count": null,
      "outputs": [
        {
          "output_type": "stream",
          "name": "stdout",
          "text": [
            "2 (4, 5, 6)\n",
            "17\n"
          ]
        }
      ]
    },
    {
      "cell_type": "markdown",
      "source": [
        "# KEYWORDED VARIABLE LENGHT ARGUMENT"
      ],
      "metadata": {
        "id": "QifeqF11JYgg"
      }
    },
    {
      "cell_type": "code",
      "source": [
        "def person(name, *data):\n",
        "  print(name)\n",
        "  print(data) # but here we dont know which is which \n",
        "\n",
        "\n",
        "\n",
        "person('navin',28,\"chennai\",9500524365)"
      ],
      "metadata": {
        "colab": {
          "base_uri": "https://localhost:8080/"
        },
        "id": "wLzK6y3BJLE-",
        "outputId": "aae47fd0-44b2-45a4-9913-64dd9f9e8bf4"
      },
      "execution_count": null,
      "outputs": [
        {
          "output_type": "stream",
          "name": "stdout",
          "text": [
            "navin\n",
            "(28, 'chennai', 9500524365)\n"
          ]
        }
      ]
    },
    {
      "cell_type": "code",
      "source": [
        "# for this perpose we use KEYWORDED VARIABLE LENGHT ARGUMENT\n",
        "def person(name, **data): # mentions multiple keyworded arguments might come\n",
        "  print(name)\n",
        "  print(data)\n",
        "\n",
        "\n",
        "\n",
        "person('navin',age = 28,city = \"chennai\", ph = 9500524365)"
      ],
      "metadata": {
        "colab": {
          "base_uri": "https://localhost:8080/"
        },
        "id": "qWLzi-vuJ32F",
        "outputId": "cf2de310-9f85-423c-8f05-62a055d05945"
      },
      "execution_count": null,
      "outputs": [
        {
          "output_type": "stream",
          "name": "stdout",
          "text": [
            "navin\n",
            "{'age': 28, 'city': 'chennai', 'ph': 9500524365}\n"
          ]
        }
      ]
    },
    {
      "cell_type": "code",
      "source": [
        "def person(name, **data): # mentions multiple keyworded arguments might come\n",
        "  print(name)\n",
        "  for i in data:\n",
        "    print(data[i])\n",
        "\n",
        "\n",
        "\n",
        "person('navin',age = 28,city = \"chennai\", ph = 9500524365)"
      ],
      "metadata": {
        "colab": {
          "base_uri": "https://localhost:8080/"
        },
        "id": "d_-QOtL8KUxA",
        "outputId": "9248135a-4fa9-402a-e4d6-c100e117b39a"
      },
      "execution_count": null,
      "outputs": [
        {
          "output_type": "stream",
          "name": "stdout",
          "text": [
            "navin\n",
            "28\n",
            "chennai\n",
            "9500524365\n"
          ]
        }
      ]
    },
    {
      "cell_type": "code",
      "source": [
        "def person(**details):\n",
        "  print(details)\n",
        "  for i,j in details.items():\n",
        "    print(i,'=',j)\n",
        "\n",
        "person(name='navin',age='20',height='180')\n",
        "\n"
      ],
      "metadata": {
        "colab": {
          "base_uri": "https://localhost:8080/"
        },
        "id": "04BctACwTrJn",
        "outputId": "3ee40762-1f3f-46c4-e12c-f57ce1f02ccf"
      },
      "execution_count": null,
      "outputs": [
        {
          "output_type": "stream",
          "name": "stdout",
          "text": [
            "{'name': 'navin', 'age': '20', 'height': '180'}\n",
            "name = navin\n",
            "age = 20\n",
            "height = 180\n"
          ]
        }
      ]
    },
    {
      "cell_type": "code",
      "source": [
        "details = {'name': 'navin', 'age': '20', 'height': '180'}\n",
        "details.items()"
      ],
      "metadata": {
        "colab": {
          "base_uri": "https://localhost:8080/"
        },
        "id": "m9fquvkHUGnT",
        "outputId": "7fab335b-6444-49d0-fb86-accbc4543956"
      },
      "execution_count": null,
      "outputs": [
        {
          "output_type": "execute_result",
          "data": {
            "text/plain": [
              "dict_items([('name', 'navin'), ('age', '20'), ('height', '180')])"
            ]
          },
          "metadata": {},
          "execution_count": 34
        }
      ]
    },
    {
      "cell_type": "markdown",
      "source": [
        "#GLOBAL AND LOCAL VARIABLE"
      ],
      "metadata": {
        "id": "n717VC0NK9sa"
      }
    },
    {
      "cell_type": "code",
      "source": [
        "# THERE IS SOMETHING CALLED SCOPE \n",
        "\n",
        "a = 10 # this is global\n",
        "\n",
        "def something():\n",
        "  a = 15# here a is local variable\n",
        "  print(a)\n",
        "\n",
        "something()\n",
        "print(a)"
      ],
      "metadata": {
        "colab": {
          "base_uri": "https://localhost:8080/"
        },
        "id": "pbYR8GMgKaJi",
        "outputId": "a4e65641-ffe1-41b1-b6da-2dbfd76dbf5b"
      },
      "execution_count": null,
      "outputs": [
        {
          "output_type": "stream",
          "name": "stdout",
          "text": [
            "15\n",
            "10\n"
          ]
        }
      ]
    },
    {
      "cell_type": "code",
      "source": [
        "# GLOBAL VARIABLES CAN BE ACCESSED INSIDE FUNCTIONS TOO\n"
      ],
      "metadata": {
        "id": "5adcwAvMPrDx"
      },
      "execution_count": null,
      "outputs": []
    },
    {
      "cell_type": "code",
      "source": [
        "a = 10\n",
        "\n",
        "def something():\n",
        "\n",
        "  global a \n",
        "  a = 15 # making this a global variable\n",
        "  print(a)\n",
        "\n",
        "something()\n",
        "\n",
        "print(a)"
      ],
      "metadata": {
        "colab": {
          "base_uri": "https://localhost:8080/"
        },
        "id": "0Nd03ucvP5dD",
        "outputId": "6dd118ca-1a28-4bc7-cfbe-3aa8c4b73bf5"
      },
      "execution_count": null,
      "outputs": [
        {
          "output_type": "stream",
          "name": "stdout",
          "text": [
            "15\n",
            "15\n"
          ]
        }
      ]
    },
    {
      "cell_type": "code",
      "source": [
        "# we cant have a same variable for local and global"
      ],
      "metadata": {
        "id": "ZaAX0nnsQHiN"
      },
      "execution_count": null,
      "outputs": []
    },
    {
      "cell_type": "code",
      "source": [
        "a = 10\n",
        "b = 11\n",
        "print(id(a))\n",
        "def something():\n",
        "  a = 8\n",
        "  \n",
        "  x = globals()['a'] # accessing global variable here without changing it\n",
        "  print(id(a)) # hence different address\n",
        "  print(a)\n",
        "  globals()['a']= 15 # changing the global variable withput changing local one\n",
        "\n",
        "print(a)\n",
        "something()\n",
        "print(a)\n",
        "  "
      ],
      "metadata": {
        "id": "1oEIf-bEQOuc",
        "colab": {
          "base_uri": "https://localhost:8080/"
        },
        "outputId": "7ac11a17-b1db-4fad-e416-04cf42276c32"
      },
      "execution_count": null,
      "outputs": [
        {
          "output_type": "stream",
          "name": "stdout",
          "text": [
            "140118109028880\n",
            "10\n",
            "140118109028816\n",
            "8\n",
            "15\n"
          ]
        }
      ]
    },
    {
      "cell_type": "code",
      "source": [],
      "metadata": {
        "id": "Uo2p9cxkU-4-"
      },
      "execution_count": null,
      "outputs": []
    },
    {
      "cell_type": "markdown",
      "source": [
        "#PASSING LIST TO FUNCTIONS"
      ],
      "metadata": {
        "id": "k74hwDgwVoDS"
      }
    },
    {
      "cell_type": "markdown",
      "source": [
        "FORMATING PRINT"
      ],
      "metadata": {
        "id": "ZHNBc5RXWdsB"
      }
    },
    {
      "cell_type": "code",
      "source": [
        "def count(a):\n",
        "  even=0\n",
        "  odd=0\n",
        "  for i in a:\n",
        "    if i%2==0:\n",
        "      even+=1\n",
        "    else:\n",
        "      odd+=1\n",
        "\n",
        "  return even,odd\n",
        "\n",
        "a = [1,3,2,66,57]\n",
        "\n",
        "e,o = count(a)\n",
        "\n",
        "print(e,o)\n",
        "\n",
        "print('even : {} and odd : {}'.format(e,o))"
      ],
      "metadata": {
        "colab": {
          "base_uri": "https://localhost:8080/"
        },
        "id": "akDPChKgVsxk",
        "outputId": "ad8bbc3e-a84a-455c-e5c6-da51af9b58d2"
      },
      "execution_count": null,
      "outputs": [
        {
          "output_type": "stream",
          "name": "stdout",
          "text": [
            "2 3\n",
            "even : 2 and odd : 3\n"
          ]
        }
      ]
    },
    {
      "cell_type": "markdown",
      "source": [
        "#FIBONACCI"
      ],
      "metadata": {
        "id": "q8zgPPHRoaG4"
      }
    },
    {
      "cell_type": "code",
      "source": [
        "# 0 1 1 2 3 5 8 13 21 \n",
        "\n",
        "def fib(x):\n",
        "\n",
        "  if x == 1 :\n",
        "    return 0\n",
        "  \n",
        "  elif x == 2 :\n",
        "    return 1 \n",
        "\n",
        "  else :\n",
        "    return fib(x-1) +fib(x-2)\n",
        "\n",
        "\n",
        "print(fib(4))    "
      ],
      "metadata": {
        "colab": {
          "base_uri": "https://localhost:8080/"
        },
        "id": "EnaNNyZ_WOm-",
        "outputId": "b68a60a5-65ce-4cc3-fa92-8975d42774f2"
      },
      "execution_count": null,
      "outputs": [
        {
          "output_type": "stream",
          "name": "stdout",
          "text": [
            "2\n"
          ]
        }
      ]
    },
    {
      "cell_type": "code",
      "source": [
        "def fib(x):\n",
        "\n",
        "  if x == 1 :\n",
        "    return 0\n",
        "  \n",
        "  elif x == 2 :\n",
        "    return 1 \n",
        "\n",
        "  else :\n",
        "    return fib(x-1) +fib(x-2)\n",
        "\n",
        "\n",
        "def fib_series(x):\n",
        "\n",
        "  series = []\n",
        "\n",
        "  for i in range(1,x+1):\n",
        "    series.append(fib(i))\n",
        "\n",
        "  return series\n",
        "\n",
        "x = fib_series(8)\n",
        "print(x)\n",
        "    "
      ],
      "metadata": {
        "colab": {
          "base_uri": "https://localhost:8080/"
        },
        "id": "EPrUcAIrpSSH",
        "outputId": "7fc8c5aa-aea1-403b-d38d-b90d60bd8308"
      },
      "execution_count": null,
      "outputs": [
        {
          "output_type": "stream",
          "name": "stdout",
          "text": [
            "[0, 1, 1, 2, 3, 5, 8, 13]\n"
          ]
        }
      ]
    },
    {
      "cell_type": "code",
      "source": [
        "# without recurrsion\n",
        "\n",
        "def fib(n):\n",
        "\n",
        "  a = 0\n",
        "  b = 1\n",
        "  if n ==1:\n",
        "    print(a)\n",
        "  else:\n",
        "\n",
        "    print(a)\n",
        "    print(b)\n",
        "    for i in range(3,n+1):\n",
        "        c = a + b\n",
        "        a = b\n",
        "        b = c\n",
        "        print(c)\n",
        "\n",
        "\n",
        "\n",
        "fib(10)\n"
      ],
      "metadata": {
        "colab": {
          "base_uri": "https://localhost:8080/"
        },
        "id": "rBQ542ZGpz3l",
        "outputId": "95cebf8a-51bc-4223-eaad-dcdb20942fbe"
      },
      "execution_count": null,
      "outputs": [
        {
          "output_type": "stream",
          "name": "stdout",
          "text": [
            "0\n",
            "1\n",
            "1\n",
            "2\n",
            "3\n",
            "5\n",
            "8\n",
            "13\n",
            "21\n",
            "34\n"
          ]
        }
      ]
    },
    {
      "cell_type": "code",
      "source": [
        "def fib(n):\n",
        "   a = 0\n",
        "   b = 1\n",
        "  \n",
        "   if n==1 :\n",
        "     return a\n",
        "\n",
        "   elif n==2 :\n",
        "     return b \n",
        "\n",
        "   else :\n",
        "    c = a+b\n",
        "    a = b\n",
        "    b = c \n",
        "    return fib(n-1) +fib(n-2)\n",
        "\n",
        "\n",
        "def fib_less_than(n) :\n",
        "    i = 1\n",
        "    while fib(i)<n :\n",
        "      pass \n",
        "      i +=1\n",
        "    return fib(i-1)\n",
        "\n",
        "fib_less_than(2)\n"
      ],
      "metadata": {
        "colab": {
          "base_uri": "https://localhost:8080/"
        },
        "id": "FiJ6Cgfjq9iv",
        "outputId": "38ccad15-0202-45c2-b9e2-93ae4a54921c"
      },
      "execution_count": null,
      "outputs": [
        {
          "output_type": "execute_result",
          "data": {
            "text/plain": [
              "1"
            ]
          },
          "metadata": {},
          "execution_count": 60
        }
      ]
    },
    {
      "cell_type": "code",
      "source": [
        "def fib(x):\n",
        "  \n",
        "  if x<=0:\n",
        "    return 0\n",
        "\n",
        "  elif x == 1 :\n",
        "    return 0\n",
        "  \n",
        "  elif x == 2 :\n",
        "    return 1 \n",
        "\n",
        "  else :\n",
        "    return fib(x-1) +fib(x-2)\n",
        "    \n",
        "\n",
        "\n",
        "def fib_less_than(n) :\n",
        "    i = 1\n",
        "    while fib(i)<n :\n",
        "     i+=1\n",
        "    return fib(i-1)\n",
        "\n",
        "fib_less_than(10)\n"
      ],
      "metadata": {
        "colab": {
          "base_uri": "https://localhost:8080/"
        },
        "id": "XBi6fq0isg9f",
        "outputId": "54708475-9c04-4b5b-c640-5b16bf54c239"
      },
      "execution_count": null,
      "outputs": [
        {
          "output_type": "execute_result",
          "data": {
            "text/plain": [
              "8"
            ]
          },
          "metadata": {},
          "execution_count": 59
        }
      ]
    },
    {
      "cell_type": "markdown",
      "source": [
        "#FACTORIAL"
      ],
      "metadata": {
        "id": "bUotAZkvup_Q"
      }
    },
    {
      "cell_type": "code",
      "source": [
        "def fact(n):\n",
        "  \n",
        "  if n ==0 :\n",
        "    return 1\n",
        "\n",
        "  else:\n",
        "    b = 1\n",
        "    for i in range(1,n+1):\n",
        "      b *= i\n",
        "    return b\n",
        "\n",
        "print(fact(4))"
      ],
      "metadata": {
        "colab": {
          "base_uri": "https://localhost:8080/"
        },
        "id": "FD5iWlwbty0U",
        "outputId": "48f86fdb-397f-4d6a-8764-1a12c55c8b38"
      },
      "execution_count": null,
      "outputs": [
        {
          "output_type": "stream",
          "name": "stdout",
          "text": [
            "24\n"
          ]
        }
      ]
    },
    {
      "cell_type": "markdown",
      "source": [
        "#RECURRSION"
      ],
      "metadata": {
        "id": "ckRzyUvMyU7i"
      }
    },
    {
      "cell_type": "code",
      "source": [
        "# CALLING A FUNCTION WITHIN FUNCTION\n",
        "# EXAMPLE\n",
        "def fib(x):\n",
        "  \n",
        "  if x<=0:\n",
        "    return 0\n",
        "\n",
        "  elif x == 1 :\n",
        "    return 0\n",
        "  \n",
        "  elif x == 2 :\n",
        "    return 1 \n",
        "\n",
        "  else :\n",
        "    return fib(x-1) +fib(x-2)\n",
        "\n",
        "# RECURRSION HAS A MAXIMUM LIMIT =1000 "
      ],
      "metadata": {
        "id": "RP970k5hvp5h"
      },
      "execution_count": null,
      "outputs": []
    },
    {
      "cell_type": "code",
      "source": [
        "import sys \n",
        "\n",
        "print(sys.getrecursionlimit())"
      ],
      "metadata": {
        "colab": {
          "base_uri": "https://localhost:8080/"
        },
        "id": "1M_qXkNByuEi",
        "outputId": "ed7789c1-b2bc-4030-89c6-176f4d01e26d"
      },
      "execution_count": null,
      "outputs": [
        {
          "output_type": "stream",
          "name": "stdout",
          "text": [
            "1000\n"
          ]
        }
      ]
    },
    {
      "cell_type": "code",
      "source": [
        "import sys\n",
        "sys.setrecursionlimit(2000)\n",
        "\n",
        "print(sys.getrecursionlimit())"
      ],
      "metadata": {
        "colab": {
          "base_uri": "https://localhost:8080/"
        },
        "id": "aREJEu44y5Lb",
        "outputId": "d9dcc426-bb50-4ce1-dec0-ee758f684c41"
      },
      "execution_count": null,
      "outputs": [
        {
          "output_type": "stream",
          "name": "stdout",
          "text": [
            "2000\n"
          ]
        }
      ]
    },
    {
      "cell_type": "markdown",
      "source": [
        "# ANONYMOUS FUNCTIONS"
      ],
      "metadata": {
        "id": "xHqIqOd9zOJU"
      }
    },
    {
      "cell_type": "code",
      "source": [
        "# functions without a name"
      ],
      "metadata": {
        "id": "dKgStXv_zF2-"
      },
      "execution_count": null,
      "outputs": []
    },
    {
      "cell_type": "code",
      "source": [
        "# called as lamda\n",
        "# use this when u dont want to def it \n",
        "# use this in only one place but many times there only(iterate/traversal/etc)"
      ],
      "metadata": {
        "id": "2h_ZXl8CzVr_"
      },
      "execution_count": null,
      "outputs": []
    },
    {
      "cell_type": "code",
      "source": [
        "f = lambda a : a*a # here a*a is a simple expression and defining it will be lengthier\n",
        "print(f(5))"
      ],
      "metadata": {
        "colab": {
          "base_uri": "https://localhost:8080/"
        },
        "id": "DwGxo8ybzlXR",
        "outputId": "66675037-6603-49cc-f262-451212f7203e"
      },
      "execution_count": null,
      "outputs": [
        {
          "output_type": "stream",
          "name": "stdout",
          "text": [
            "25\n"
          ]
        }
      ]
    },
    {
      "cell_type": "code",
      "source": [
        "f = lambda a,b : a+b \n",
        "print(f(2,5))"
      ],
      "metadata": {
        "colab": {
          "base_uri": "https://localhost:8080/"
        },
        "id": "9mAJWV-Qz4r6",
        "outputId": "19b4d1ae-6d59-4ea1-bc53-756f7d3cb05a"
      },
      "execution_count": null,
      "outputs": [
        {
          "output_type": "stream",
          "name": "stdout",
          "text": [
            "7\n"
          ]
        }
      ]
    },
    {
      "cell_type": "code",
      "source": [
        "# lambda functions can have many variables but only one expressions"
      ],
      "metadata": {
        "id": "-i5uY_Dbz-q8"
      },
      "execution_count": null,
      "outputs": []
    },
    {
      "cell_type": "markdown",
      "source": [
        "# FILTER MAP REDUCE"
      ],
      "metadata": {
        "id": "6AblCh0j0QXx"
      }
    },
    {
      "cell_type": "code",
      "source": [
        "def is_even(n):\n",
        "   return n%2==0 \n",
        "\n",
        "num = [2,4,3,6,5,9,7]\n",
        "\n",
        "even = list(filter(is_even,num)) # filter needs a function and a iterables\n",
        "print(even)"
      ],
      "metadata": {
        "colab": {
          "base_uri": "https://localhost:8080/"
        },
        "id": "FIw99E8w0UWs",
        "outputId": "c18f778e-bee3-45d4-ffdb-433bf38065e7"
      },
      "execution_count": null,
      "outputs": [
        {
          "output_type": "stream",
          "name": "stdout",
          "text": [
            "[2, 4, 6]\n"
          ]
        }
      ]
    },
    {
      "cell_type": "code",
      "source": [
        "# but here the function is_even is only used once but over an iteration\n",
        "# instead we use lambda funtions\n",
        "\n",
        "num = [2,3,4,5,6,7]\n",
        "\n",
        "even = list(filter(lambda a:a%2==0 , num)) \n",
        "# here lambda function takes a as input returns a%2==0 \n",
        "# filter interates this lambda function over num(every element of num)\n",
        "# so we use this function only in this one place but many times (iterables)\n",
        "\n",
        "print(even)"
      ],
      "metadata": {
        "colab": {
          "base_uri": "https://localhost:8080/"
        },
        "id": "Jm5BM1iP06GJ",
        "outputId": "b42c60f3-b366-4d15-e745-9e2076ece316"
      },
      "execution_count": null,
      "outputs": [
        {
          "output_type": "stream",
          "name": "stdout",
          "text": [
            "[2, 4, 6]\n"
          ]
        }
      ]
    },
    {
      "cell_type": "code",
      "source": [
        "num = [2,3,4,5,6,7]\n",
        "\n",
        "double = list(map(lambda a : a*2,num))\n",
        "\n",
        "print(double)"
      ],
      "metadata": {
        "colab": {
          "base_uri": "https://localhost:8080/"
        },
        "id": "E2DzYwBs1VTW",
        "outputId": "a54a457c-77d8-45e7-f8ab-894ef31155c8"
      },
      "execution_count": null,
      "outputs": [
        {
          "output_type": "stream",
          "name": "stdout",
          "text": [
            "[4, 6, 8, 10, 12, 14]\n"
          ]
        }
      ]
    },
    {
      "cell_type": "code",
      "source": [
        "from functools import reduce\n",
        "num = [2,3,4,5,6,7]\n",
        "\n",
        "sum  = reduce(lambda a,b: a+b,num)\n",
        "\n",
        "print(sum)"
      ],
      "metadata": {
        "colab": {
          "base_uri": "https://localhost:8080/"
        },
        "id": "Ql2ph0dk2qZf",
        "outputId": "260ae3e9-1543-4104-8338-a4b159a86551"
      },
      "execution_count": null,
      "outputs": [
        {
          "output_type": "stream",
          "name": "stdout",
          "text": [
            "27\n"
          ]
        }
      ]
    },
    {
      "cell_type": "markdown",
      "source": [
        "#DECORATORS"
      ],
      "metadata": {
        "id": "nPF63YBFXwbA"
      }
    },
    {
      "cell_type": "code",
      "source": [
        "def div(a,b):\n",
        "  return a/b\n",
        "\n",
        "div(4,2)"
      ],
      "metadata": {
        "id": "RQk8nG5A20ia",
        "colab": {
          "base_uri": "https://localhost:8080/"
        },
        "outputId": "404f50b8-0969-4a97-e7e7-fecd1a190c93"
      },
      "execution_count": null,
      "outputs": [
        {
          "output_type": "execute_result",
          "data": {
            "text/plain": [
              "2.0"
            ]
          },
          "metadata": {},
          "execution_count": 1
        }
      ]
    },
    {
      "cell_type": "code",
      "source": [
        "def div(a,b):\n",
        "  if a<b:\n",
        "    a,b = b,a\n",
        "\n",
        "  return a/b\n",
        "\n",
        "div(4,2)"
      ],
      "metadata": {
        "colab": {
          "base_uri": "https://localhost:8080/"
        },
        "id": "Wj7UsgtcYSnE",
        "outputId": "ff1fd38b-5b8c-401f-c24d-19c75fad98ce"
      },
      "execution_count": null,
      "outputs": [
        {
          "output_type": "execute_result",
          "data": {
            "text/plain": [
              "2.0"
            ]
          },
          "metadata": {},
          "execution_count": 2
        }
      ]
    },
    {
      "cell_type": "code",
      "source": [
        "# can we do this without changing the actual function ??\n",
        "# that's where DECORATORS come into play\n",
        "# ADDING EXTRA FEATURES FOR A FUNCTION OUTSIDE THEM"
      ],
      "metadata": {
        "id": "rJChpXhHYqV5"
      },
      "execution_count": null,
      "outputs": []
    },
    {
      "cell_type": "code",
      "source": [
        "def div(a,b):\n",
        "  print(a/b)\n",
        "\n",
        "def smart_div(func):\n",
        "\n",
        "  def inner(a,b):\n",
        "    \n",
        "    if a<b :\n",
        "      a,b = b,a\n",
        "    return func(a,b)\n",
        "\n",
        "  return inner\n",
        "\n",
        "div = smart_div(div)\n",
        "\n",
        "div(2,4)"
      ],
      "metadata": {
        "colab": {
          "base_uri": "https://localhost:8080/"
        },
        "id": "oWCp9CpAY8PG",
        "outputId": "2e38629d-51f3-4bb4-8f41-ab5794e53203"
      },
      "execution_count": null,
      "outputs": [
        {
          "output_type": "stream",
          "name": "stdout",
          "text": [
            "2.0\n"
          ]
        }
      ]
    },
    {
      "cell_type": "code",
      "source": [
        "# THIS IS ONLY POSSIBLE IN PYTHON"
      ],
      "metadata": {
        "id": "i9MLCLaoZtMy"
      },
      "execution_count": null,
      "outputs": []
    },
    {
      "cell_type": "markdown",
      "source": [
        "#MODULES"
      ],
      "metadata": {
        "id": "cCAvoeELZ0Qc"
      }
    },
    {
      "cell_type": "code",
      "source": [
        "#instead of writing big big lines of code on a single file \n",
        "# we can divide it into subparts for easy debugging and readability\n",
        "# these subparts are called as MODULES"
      ],
      "metadata": {
        "id": "vyGBF4zBZx2c"
      },
      "execution_count": null,
      "outputs": []
    },
    {
      "cell_type": "code",
      "source": [
        "a = 9\n",
        "b = 7 \n",
        "\n",
        "from google.colab import drive\n",
        "drive.mount('/content/drive')"
      ],
      "metadata": {
        "id": "v8VJJkINaVZX",
        "colab": {
          "base_uri": "https://localhost:8080/"
        },
        "outputId": "1d5e7781-c910-4715-8069-8cf0dbebc5da"
      },
      "execution_count": null,
      "outputs": [
        {
          "output_type": "stream",
          "name": "stdout",
          "text": [
            "Mounted at /content/drive\n"
          ]
        }
      ]
    },
    {
      "cell_type": "code",
      "source": [
        "import sys\n",
        "sys.path.insert(0,'/content/drive/My Drive')\n"
      ],
      "metadata": {
        "id": "srrlMKDCcJ0H"
      },
      "execution_count": null,
      "outputs": []
    },
    {
      "cell_type": "code",
      "source": [],
      "metadata": {
        "id": "xgnnzEHdd2oi"
      },
      "execution_count": null,
      "outputs": []
    },
    {
      "cell_type": "markdown",
      "source": [
        "# SPL VARIABLE (__name__)"
      ],
      "metadata": {
        "id": "1Zbi7f0KeD53"
      }
    },
    {
      "cell_type": "code",
      "source": [
        "# double underscore is a diff concept\n",
        "# __name__ is a special variable in python\n"
      ],
      "metadata": {
        "id": "wNUwGSHKeO7g"
      },
      "execution_count": null,
      "outputs": []
    },
    {
      "cell_type": "code",
      "source": [
        "print(__name__)"
      ],
      "metadata": {
        "colab": {
          "base_uri": "https://localhost:8080/"
        },
        "id": "1ccL2aiLegJ_",
        "outputId": "7a4d0615-c93e-4894-9733-aacf0254db03"
      },
      "execution_count": null,
      "outputs": [
        {
          "output_type": "stream",
          "name": "stdout",
          "text": [
            "__main__\n"
          ]
        }
      ]
    },
    {
      "cell_type": "code",
      "source": [
        "# main is the starting point of execution"
      ],
      "metadata": {
        "id": "MeZg5bBAejnD"
      },
      "execution_count": null,
      "outputs": []
    },
    {
      "cell_type": "code",
      "source": [
        "# the first module in a project starts with __name__ == __main__\n"
      ],
      "metadata": {
        "id": "IsWOFaoceoXb"
      },
      "execution_count": null,
      "outputs": []
    },
    {
      "cell_type": "code",
      "source": [
        "# importing Module here \n",
        "# import Module \n",
        "# now everything on Module will come here \n",
        "# print(\" demo say :\" + __name__)\n",
        "# this Module getting run here will print hello Module \n",
        "# instead of hello__main__ \n"
      ],
      "metadata": {
        "id": "f0Sq-4fAezRs"
      },
      "execution_count": null,
      "outputs": []
    },
    {
      "cell_type": "code",
      "source": [
        "# if another Module is used here it'll print its name with __name__ variable \n",
        "# same file will print __main__ for __name__\n"
      ],
      "metadata": {
        "id": "WUj3crvHf0dC"
      },
      "execution_count": null,
      "outputs": []
    },
    {
      "cell_type": "markdown",
      "source": [
        "PY FILE 1"
      ],
      "metadata": {
        "id": "WcyNmEINjTxB"
      }
    },
    {
      "cell_type": "code",
      "source": [
        "def main():\n",
        "  print(\"hello\")\n",
        "  print(\"welcome user\")\n",
        "\n",
        "if __name__ == '__main__':\n",
        "  main()"
      ],
      "metadata": {
        "colab": {
          "base_uri": "https://localhost:8080/"
        },
        "id": "rioUDEO7f_vy",
        "outputId": "bb6f4462-9e41-4971-9f32-de5f026f522e"
      },
      "execution_count": null,
      "outputs": [
        {
          "output_type": "stream",
          "name": "stdout",
          "text": [
            "hello\n",
            "welcome user\n"
          ]
        }
      ]
    },
    {
      "cell_type": "markdown",
      "source": [
        "PY FILE 2"
      ],
      "metadata": {
        "id": "cgPw0W6DjlQS"
      }
    },
    {
      "cell_type": "code",
      "source": [
        "# import PY FILE 1 \n",
        "\n",
        "print(\"it a good day\")"
      ],
      "metadata": {
        "id": "SoIsYaZujim0"
      },
      "execution_count": null,
      "outputs": []
    },
    {
      "cell_type": "code",
      "source": [
        "#now even when the file 1 in imported in file 2 \n",
        "# it didnt print the commands because of the condition \n",
        "# we can use this __name__ variable to check if the module is our main file \n",
        "# and to prevent command execution in lack there of \n"
      ],
      "metadata": {
        "id": "ORCpRNm7jxwc"
      },
      "execution_count": null,
      "outputs": []
    },
    {
      "cell_type": "code",
      "source": [],
      "metadata": {
        "id": "ePtd9DSwkG6G"
      },
      "execution_count": null,
      "outputs": []
    },
    {
      "cell_type": "markdown",
      "source": [
        "# OOP"
      ],
      "metadata": {
        "id": "bfDhlCGpk7vw"
      }
    },
    {
      "cell_type": "markdown",
      "source": [
        "INTRO"
      ],
      "metadata": {
        "id": "N65aReHzk_eK"
      }
    },
    {
      "cell_type": "code",
      "source": [
        "# PYTHON IS AN OBJECT ORIENTED PROGRAMMING\n",
        "# ALSO SUPPORTS FUNCTIONAL PROGRAMMING (ACHIEVING TASKS)\n",
        "# ALSO SUPPORTS PROCEDURAL ORIENTED PROGRAMMING"
      ],
      "metadata": {
        "id": "YmkTT9V7k90z"
      },
      "execution_count": null,
      "outputs": []
    },
    {
      "cell_type": "code",
      "source": [
        "# SOLVING REAL WORLD PROBLEMS WITH VIRTUAL WORLD SOLUTIONS\n",
        "# IN REAL WORLD , EVERYTHING IS AN OBJECT \n",
        "# EVERY OBJECT WILL HAVE ATTRIBUTES AND BEHAVIORS / PROPERTIES\n"
      ],
      "metadata": {
        "id": "4xjSyayelNss"
      },
      "execution_count": null,
      "outputs": []
    },
    {
      "cell_type": "code",
      "source": [
        "# OBJECTS DO SOMETHING BASED ON THEIR KNOWLEDGE"
      ],
      "metadata": {
        "id": "bZ4fGLRLltwg"
      },
      "execution_count": null,
      "outputs": []
    },
    {
      "cell_type": "code",
      "source": [
        "# THIS KNOWLEDGE IS STORED AS DATA IN VARIABLES\n",
        "# THE BEHAVIOR OF AN OBJECTS IS STORED IN METHODS\n",
        "# FUNCTIONS IN OOP IS \"METHOD\""
      ],
      "metadata": {
        "id": "RH3QV-bRmBCA"
      },
      "execution_count": null,
      "outputs": []
    },
    {
      "cell_type": "markdown",
      "source": [
        "CLASS"
      ],
      "metadata": {
        "id": "rfoFRy1LntSK"
      }
    },
    {
      "cell_type": "code",
      "source": [
        "# all objects are manufactored by some company\n",
        "# design is important\n",
        "# Classes are used to create user-defined data structures"
      ],
      "metadata": {
        "id": "h7AwieXimXPG"
      },
      "execution_count": null,
      "outputs": []
    },
    {
      "cell_type": "code",
      "source": [
        "# design of an object is called CLASS in OOP\n",
        "# also called instance of a class is an object"
      ],
      "metadata": {
        "id": "3SoOY9Qen5vn"
      },
      "execution_count": null,
      "outputs": []
    },
    {
      "cell_type": "markdown",
      "source": [
        "# CLASS AND OBJECT"
      ],
      "metadata": {
        "id": "jMjBH7Uhob37"
      }
    },
    {
      "cell_type": "code",
      "source": [
        "# defining a class"
      ],
      "metadata": {
        "id": "QEvywEjyoZuU"
      },
      "execution_count": null,
      "outputs": []
    },
    {
      "cell_type": "code",
      "source": [
        "class computer:\n",
        "  # put attributes(variables) and behaviors(Methods/functions)\n",
        "  def config(self):\n",
        "    print(\"i5,16gb,1TB\")\n",
        "\n",
        "\n",
        "a = 5 # int \n",
        "print(type(a))\n",
        "b = 'rt' #str\n",
        "print(type(b))\n",
        "\n",
        "comp1 = computer() # now comp1 belongs to class computer\n",
        "\n",
        "print(type(comp1))\n",
        "\n",
        "\n",
        "\n",
        "\n",
        "# since the class is defined in the same file , it is showing name as __main__\n",
        "# int and str are inbuilt classes"
      ],
      "metadata": {
        "colab": {
          "base_uri": "https://localhost:8080/"
        },
        "id": "0enFGReUoiWN",
        "outputId": "00d03fb0-7a0f-4e95-95b4-338c8156214a"
      },
      "execution_count": null,
      "outputs": [
        {
          "output_type": "stream",
          "name": "stdout",
          "text": [
            "<class 'int'>\n",
            "<class 'str'>\n",
            "<class '__main__.computer'>\n"
          ]
        }
      ]
    },
    {
      "cell_type": "code",
      "source": [
        "class computer:\n",
        "\n",
        "  def config():\n",
        "    print(\"i5,16gb,1TB\")\n",
        "\n",
        "comp1 = computer()\n",
        "\n",
        "computer.config()"
      ],
      "metadata": {
        "colab": {
          "base_uri": "https://localhost:8080/"
        },
        "id": "CUyG7lu1pVfD",
        "outputId": "7e129aab-98d4-44c0-fcf1-9cabdd3d8a31"
      },
      "execution_count": null,
      "outputs": [
        {
          "output_type": "stream",
          "name": "stdout",
          "text": [
            "i5,16gb,1TB\n"
          ]
        }
      ]
    },
    {
      "cell_type": "code",
      "source": [
        "class computer: # computer is a class \n",
        "\n",
        "  def config(self): # config is a method(function)/behavior\n",
        "    print(\"i5,16gb,1TB\")\n",
        "\n",
        "comp1 = computer()\n",
        "comp2 = computer()\n",
        "\n",
        "comp1.config()\n",
        "comp2.config()"
      ],
      "metadata": {
        "colab": {
          "base_uri": "https://localhost:8080/"
        },
        "id": "6zmJUy3eqNnn",
        "outputId": "5e919047-3862-4e10-da05-a7a0e3f40979"
      },
      "execution_count": null,
      "outputs": [
        {
          "output_type": "stream",
          "name": "stdout",
          "text": [
            "i5,16gb,1TB\n",
            "i5,16gb,1TB\n"
          ]
        }
      ]
    },
    {
      "cell_type": "markdown",
      "source": [
        "# INIT METHOD"
      ],
      "metadata": {
        "id": "rDcNqNT8HbwP"
      }
    },
    {
      "cell_type": "code",
      "source": [
        "# __init__ : special method \n",
        "\n",
        "class computer:\n",
        "\n",
        "  def __init__(self):\n",
        "    print(\"in init\")\n",
        "\n",
        "\n",
        "  def config(self):\n",
        "    print(\"i5,16gb,1TB\")\n",
        "\n",
        "comp1 = computer() # here also there is an argument that is getting passed , that is the name of the object itself\n",
        "comp2 = computer() # by default calls init method \n",
        "# comp1 or comp2 gets passed as arguments to self"
      ],
      "metadata": {
        "id": "9kHtWZ3B3kwx",
        "colab": {
          "base_uri": "https://localhost:8080/"
        },
        "outputId": "9cf454da-e67c-48ed-93d0-9cc770c02c32"
      },
      "execution_count": null,
      "outputs": [
        {
          "output_type": "stream",
          "name": "stdout",
          "text": [
            "in init\n",
            "in init\n"
          ]
        }
      ]
    },
    {
      "cell_type": "code",
      "source": [
        "comp1.config()\n",
        "comp2.config()"
      ],
      "metadata": {
        "colab": {
          "base_uri": "https://localhost:8080/"
        },
        "id": "UNNHiXgdIayZ",
        "outputId": "2ca4aa5c-0d7f-4310-e00b-8ee6b7464a07"
      },
      "execution_count": null,
      "outputs": [
        {
          "output_type": "stream",
          "name": "stdout",
          "text": [
            "i5,16gb,1TB\n",
            "i5,16gb,1TB\n"
          ]
        }
      ]
    },
    {
      "cell_type": "code",
      "source": [
        "\n",
        "class computer:\n",
        "\n",
        "  def __init__(self,cpu,ram):\n",
        "    self.cpu = cpu # self is refering to the object \n",
        "    self.ram = ram # these are nothing but the attributes\n",
        "    \n",
        "\n",
        "\n",
        "  def config(self):\n",
        "    print(\"config is:\",self.cpu,self.ram)\n",
        "\n",
        "\n",
        "comp1 = computer('i5',16)\n",
        "comp2 = computer(\"ryzen\",8)# 3 arguments are getting passed (comp2,ryzen,8)\n",
        "\n"
      ],
      "metadata": {
        "id": "a9wwDOZpIoOg"
      },
      "execution_count": null,
      "outputs": []
    },
    {
      "cell_type": "code",
      "source": [
        "comp1.config()"
      ],
      "metadata": {
        "colab": {
          "base_uri": "https://localhost:8080/"
        },
        "id": "X2R3V7QjKvbW",
        "outputId": "47527847-d42e-40ec-bdd1-662e977f54cf"
      },
      "execution_count": null,
      "outputs": [
        {
          "output_type": "stream",
          "name": "stdout",
          "text": [
            "config is: i5 16\n"
          ]
        }
      ]
    },
    {
      "cell_type": "code",
      "source": [
        "comp2.config()"
      ],
      "metadata": {
        "colab": {
          "base_uri": "https://localhost:8080/"
        },
        "id": "KAWoCilgKyu9",
        "outputId": "64bbe628-77a3-4ca6-a95e-0646083c4d77"
      },
      "execution_count": null,
      "outputs": [
        {
          "output_type": "stream",
          "name": "stdout",
          "text": [
            "config is: ryzen 8\n"
          ]
        }
      ]
    },
    {
      "cell_type": "markdown",
      "source": [
        "#CONSTRUCTOR"
      ],
      "metadata": {
        "id": "YYIHBHkUK6kQ"
      }
    },
    {
      "cell_type": "code",
      "source": [
        "# __init__  is a constructor\n",
        "\n",
        "class computer:\n",
        "  pass\n",
        "\n",
        "\n",
        "\n",
        "c1 = computer() # stored in heap momory (all objects are)"
      ],
      "metadata": {
        "id": "vCbVp7XSK1t0"
      },
      "execution_count": null,
      "outputs": []
    },
    {
      "cell_type": "code",
      "source": [
        "print(id(c1))"
      ],
      "metadata": {
        "colab": {
          "base_uri": "https://localhost:8080/"
        },
        "id": "LQQmEmKSLZcL",
        "outputId": "9a0ef390-b160-4734-eb59-a78e07f5d19d"
      },
      "execution_count": null,
      "outputs": [
        {
          "output_type": "stream",
          "name": "stdout",
          "text": [
            "140525873768352\n"
          ]
        }
      ]
    },
    {
      "cell_type": "code",
      "source": [
        "c2 = computer() \n",
        "print(id(c2))"
      ],
      "metadata": {
        "colab": {
          "base_uri": "https://localhost:8080/"
        },
        "id": "fqwy2oI8LbkG",
        "outputId": "c137966d-ef92-445b-eb86-bac2b812949b"
      },
      "execution_count": null,
      "outputs": [
        {
          "output_type": "stream",
          "name": "stdout",
          "text": [
            "140525873771616\n"
          ]
        }
      ]
    },
    {
      "cell_type": "code",
      "source": [
        "# it is creating new new objects\n",
        "# new addresses\n",
        "# size depends on attributes / variables\n",
        "# CONSTRUCTOR allocates memory\n"
      ],
      "metadata": {
        "id": "NoveJNN1LfLJ"
      },
      "execution_count": null,
      "outputs": []
    },
    {
      "cell_type": "code",
      "source": [
        "class computer:\n",
        "\n",
        "  def __init__(self):\n",
        "    self.name = 'navin'\n",
        "    self.age = 20\n",
        "\n",
        "c1 = computer()\n",
        "c2 = computer()\n",
        "\n",
        "print(c1.name)\n",
        "print(c2.name)\n",
        "\n",
        "print(id(c1))\n",
        "print(id(c2))"
      ],
      "metadata": {
        "colab": {
          "base_uri": "https://localhost:8080/"
        },
        "id": "RSMQ5q7kLywS",
        "outputId": "c69f583c-21c7-4366-9e7e-449b916763af"
      },
      "execution_count": null,
      "outputs": [
        {
          "output_type": "stream",
          "name": "stdout",
          "text": [
            "navin\n",
            "navin\n",
            "140525873765136\n",
            "140525873771232\n"
          ]
        }
      ]
    },
    {
      "cell_type": "code",
      "source": [
        "c1.name = 'subbu'\n",
        "print(c1.name)"
      ],
      "metadata": {
        "colab": {
          "base_uri": "https://localhost:8080/"
        },
        "id": "xm6j02-IMCeW",
        "outputId": "6da6e648-0272-4067-9f3a-22326a8597a2"
      },
      "execution_count": null,
      "outputs": [
        {
          "output_type": "stream",
          "name": "stdout",
          "text": [
            "subbu\n"
          ]
        }
      ]
    },
    {
      "cell_type": "markdown",
      "source": [
        "# SELF"
      ],
      "metadata": {
        "id": "ikGH1l8vNVVG"
      }
    },
    {
      "cell_type": "code",
      "source": [
        "class computer:\n",
        "\n",
        "  def __init__(self):\n",
        "    self.name = 'navin'\n",
        "    self.age = 20\n",
        "\n",
        "  def update(self):\n",
        "    self.age = 25\n",
        "\n",
        "c1 = computer()\n",
        "c2 = computer()\n",
        "\n",
        "c1.update() # even though we didnt mention c1 in argument self will take that\n",
        "print(c1.age)"
      ],
      "metadata": {
        "colab": {
          "base_uri": "https://localhost:8080/"
        },
        "id": "xIdybpZBMGKt",
        "outputId": "9270ccc5-0289-4be6-d7f9-7ea54f9b2cd9"
      },
      "execution_count": null,
      "outputs": [
        {
          "output_type": "stream",
          "name": "stdout",
          "text": [
            "25\n"
          ]
        }
      ]
    },
    {
      "cell_type": "code",
      "source": [
        "if c1.age == c2.age :\n",
        "  print(\"they are same age\")"
      ],
      "metadata": {
        "id": "h9L8AqdoNFVy"
      },
      "execution_count": null,
      "outputs": []
    },
    {
      "cell_type": "code",
      "source": [
        "class computer:\n",
        "\n",
        "  def __init__(self):\n",
        "    self.name = 'navin'\n",
        "    self.age = 20\n",
        "\n",
        "  def update(self):\n",
        "    self.age = 25\n",
        "\n",
        "  def compare(self,other):\n",
        "    if self.age == other.age :\n",
        "      return True\n",
        "    else :\n",
        "      return False\n",
        "\n",
        "c1 = computer()\n",
        "c2 = computer()\n",
        "\n",
        "c1.compare(c2)"
      ],
      "metadata": {
        "colab": {
          "base_uri": "https://localhost:8080/"
        },
        "id": "vYcVvePoNpS5",
        "outputId": "c6b28823-0286-4508-db12-c40951e40c62"
      },
      "execution_count": null,
      "outputs": [
        {
          "output_type": "execute_result",
          "data": {
            "text/plain": [
              "True"
            ]
          },
          "metadata": {},
          "execution_count": 22
        }
      ]
    },
    {
      "cell_type": "code",
      "source": [
        "c2.age = 30\n",
        "c2.compare(c1) # c2 gets passed as self"
      ],
      "metadata": {
        "colab": {
          "base_uri": "https://localhost:8080/"
        },
        "id": "Kmaq31YpN_hU",
        "outputId": "cab850a1-5bbc-4c81-c2f1-eea44b6dc112"
      },
      "execution_count": null,
      "outputs": [
        {
          "output_type": "execute_result",
          "data": {
            "text/plain": [
              "False"
            ]
          },
          "metadata": {},
          "execution_count": 23
        }
      ]
    },
    {
      "cell_type": "markdown",
      "source": [
        "# TYPES OF VARIABLES IN OOP"
      ],
      "metadata": {
        "id": "pqEafj8yOYaf"
      }
    },
    {
      "cell_type": "code",
      "source": [
        "# INSTANCE AND CLASS(STATIC) VARIABLE\n"
      ],
      "metadata": {
        "id": "yxM8IN__OFAI"
      },
      "execution_count": null,
      "outputs": []
    },
    {
      "cell_type": "code",
      "source": [
        "class car:\n",
        "  def __init__(self):\n",
        "    self.mil = 10\n",
        "    self.com = 'BMW' #these are instance variable\n",
        "    # i.e it changes for every object\n",
        "    # we also called objects as instance of a class\n",
        "\n",
        "c1 = car()\n",
        "c2 = car()\n",
        "c2.com = \"AUDI\"\n",
        "print(c1.com)\n",
        "print(c2.com)"
      ],
      "metadata": {
        "colab": {
          "base_uri": "https://localhost:8080/"
        },
        "id": "qFc6pKP1OkFv",
        "outputId": "65ef1012-4c2a-463c-e633-68adf3d6e07d"
      },
      "execution_count": null,
      "outputs": [
        {
          "output_type": "stream",
          "name": "stdout",
          "text": [
            "BMW\n",
            "AUDI\n"
          ]
        }
      ]
    },
    {
      "cell_type": "code",
      "source": [
        "# can there be a variable constant for all objects??\n",
        "# that is static variable"
      ],
      "metadata": {
        "id": "OX0sS6mGgs3i"
      },
      "execution_count": null,
      "outputs": []
    },
    {
      "cell_type": "code",
      "source": [
        "# defining a variable outside init will become statis/class variables\n",
        "class car:\n",
        "\n",
        "  wheels = 4 # class variable \n",
        "\n",
        "  def __init__(self):\n",
        "    self.mil = 10\n",
        "    self.com = 'BMW' #these are instance variable\n",
        "    # i.e it changes for every object\n",
        "    # we also called objects as instance of a class\n",
        "\n",
        "c1 = car()\n",
        "c2 = car()\n",
        "c2.com = \"AUDI\"\n",
        "\n",
        "print(car.wheels)\n",
        "\n",
        "print(c2.wheels)\n",
        "print(c1.wheels)\n",
        "\n",
        "car.wheels = 5 # changing this changes to every object and not in particular instance\n",
        "\n",
        "print(c2.wheels)\n",
        "print(c1.wheels)\n"
      ],
      "metadata": {
        "colab": {
          "base_uri": "https://localhost:8080/"
        },
        "id": "wmryNKkg1p0t",
        "outputId": "6f8cf90c-f033-412e-cffa-6a3d0630f01d"
      },
      "execution_count": null,
      "outputs": [
        {
          "output_type": "stream",
          "name": "stdout",
          "text": [
            "4\n",
            "4\n",
            "4\n",
            "5\n",
            "5\n"
          ]
        }
      ]
    },
    {
      "cell_type": "markdown",
      "source": [
        "#TYPES OF METHODS"
      ],
      "metadata": {
        "id": "qDtl2pdx2Zzh"
      }
    },
    {
      "cell_type": "code",
      "source": [
        "# three types \n",
        "# INSTANCE = \n",
        "        #ACCESSORS (JUST FETCHING THE INSTANCE VARIABLES)\n",
        "        #MUTATORS (UPDATING THE INSTANCE VARIABLE / MODIFYING THEM)\n",
        " \n",
        "# CLASS\n",
        "# STATIC\n",
        "# class and static is not same here"
      ],
      "metadata": {
        "id": "6eqgHSGR2Ov2"
      },
      "execution_count": null,
      "outputs": []
    },
    {
      "cell_type": "markdown",
      "source": [
        "INSTANCE"
      ],
      "metadata": {
        "id": "yP8qNavkZGnK"
      }
    },
    {
      "cell_type": "code",
      "source": [
        "class student :\n",
        "\n",
        "  school = 'CPS' # class/static variable\n",
        "\n",
        "  def __init__(self,m1,m2,m3):\n",
        "\n",
        "    self.m1 = m1 # instance variable\n",
        "    self.m2 = m2\n",
        "    self.m3 = m3\n",
        "\n",
        "  def avg(self) : # instance method as it uses objects\n",
        "    return (self.m1 + self.m2 +self.m3)/3 # ACCESSOR INSTANCE METHOD \n",
        "    # JUST USES THE VARIABLES AND GIVING OTHER VALUE\n",
        "\n",
        "  def get_m1(self):\n",
        "    return self.m1 # ACCESSORS \n",
        "\n",
        "  def set_m1(self,value):\n",
        "    self.m1 = value # MUTATORS\n",
        "\n",
        "  \n",
        "\n",
        "\n",
        "\n",
        "s1 = student(40,50,60)\n",
        "s2 = student(24,66,89)\n",
        "\n",
        "print()\n"
      ],
      "metadata": {
        "id": "VBFWJnuuXdSp"
      },
      "execution_count": null,
      "outputs": []
    },
    {
      "cell_type": "markdown",
      "source": [
        "#CLASS  METHOD"
      ],
      "metadata": {
        "id": "ALOM0hDFZmRo"
      }
    },
    {
      "cell_type": "code",
      "source": [
        "# method that uses a class variable"
      ],
      "metadata": {
        "id": "o32cN7clbmKv"
      },
      "execution_count": null,
      "outputs": []
    },
    {
      "cell_type": "code",
      "source": [
        "class student :\n",
        "\n",
        "  school = 'CPS' # class/static variable\n",
        "\n",
        "  def __init__(self,m1,m2,m3):\n",
        "\n",
        "    self.m1 = m1 # instance variable\n",
        "    self.m2 = m2\n",
        "    self.m3 = m3\n",
        "\n",
        "  def avg(self) : # instance method as it uses objects\n",
        "    return (self.m1 + self.m2 +self.m3)/3 # ACCESSOR INSTANCE METHOD \n",
        "    # JUST USES THE VARIABLES AND GIVING OTHER VALUE\n",
        "\n",
        "  @classmethod # this decorator is required\n",
        "  def info(cls):\n",
        "    return cls.school \n",
        "\n",
        "  \n",
        "\n",
        "\n",
        "\n",
        "s1 = student(40,50,60)\n",
        "s2 = student(24,66,89)\n",
        "\n",
        "print(student.info())"
      ],
      "metadata": {
        "colab": {
          "base_uri": "https://localhost:8080/"
        },
        "id": "yOLeDrdKZpYi",
        "outputId": "01402479-337b-4147-80e0-954c5184fb5a"
      },
      "execution_count": null,
      "outputs": [
        {
          "output_type": "stream",
          "name": "stdout",
          "text": [
            "CPS\n"
          ]
        }
      ]
    },
    {
      "cell_type": "code",
      "source": [
        "class student :\n",
        "\n",
        "  school = 'CPS' # class/static variable\n",
        "\n",
        "  def __init__(self,m1,m2,m3):\n",
        "\n",
        "    self.sub1 = m1 # instance variable\n",
        "    self.sub2 = m2\n",
        "    self.sub3 = m3\n",
        "\n",
        "  def avg(self) : # instance method as it uses objects\n",
        "    return (self.m1 + self.m2 +self.m3)/3 # ACCESSOR INSTANCE METHOD \n",
        "    # JUST USES THE VARIABLES AND GIVING OTHER VALUE\n",
        "\n",
        "   \n",
        "  def getschool():\n",
        "    print (\"this is student class. . in abc module\")\n",
        "\n",
        "  \n",
        "\n",
        "\n",
        "\n",
        "s1 = student()\n",
        "s2 = student(24,66,89)\n",
        "\n",
        "s2.avg()\n",
        "\n",
        "print(student.getschool())"
      ],
      "metadata": {
        "colab": {
          "base_uri": "https://localhost:8080/"
        },
        "id": "9txKvZAnbTEP",
        "outputId": "821328d2-77e0-4f65-b7fd-699e80fe382d"
      },
      "execution_count": null,
      "outputs": [
        {
          "output_type": "stream",
          "name": "stdout",
          "text": [
            "this is student class. . in abc module\n",
            "None\n"
          ]
        }
      ]
    },
    {
      "cell_type": "code",
      "source": [
        "a =[]\n",
        "a.append(3)"
      ],
      "metadata": {
        "id": "FzPASiLObqPr"
      },
      "execution_count": null,
      "outputs": []
    },
    {
      "cell_type": "markdown",
      "source": [
        "# INNER CLASS "
      ],
      "metadata": {
        "id": "BLKvA2OifAfX"
      }
    },
    {
      "cell_type": "code",
      "source": [
        "# class inside a class"
      ],
      "metadata": {
        "id": "yHzR7y5DfqrK"
      },
      "execution_count": null,
      "outputs": []
    },
    {
      "cell_type": "code",
      "source": [
        "class student :\n",
        "\n",
        "  def __init__(self,name,rollno):\n",
        "    self.name = name\n",
        "    self.rollno = rollno\n",
        "\n",
        "  def show(self):\n",
        "    print(self.name,self.rollno)\n",
        "\n",
        "s1 = student('navin',2)\n",
        "s2 = student('jenny',3)\n",
        "\n",
        "s1.show()"
      ],
      "metadata": {
        "colab": {
          "base_uri": "https://localhost:8080/"
        },
        "id": "YMtcJe1YfHil",
        "outputId": "8ec844ec-0a7e-48d0-d29f-da2cfa184f9e"
      },
      "execution_count": null,
      "outputs": [
        {
          "output_type": "stream",
          "name": "stdout",
          "text": [
            "navin 2\n"
          ]
        }
      ]
    },
    {
      "cell_type": "code",
      "source": [
        "class student :\n",
        "\n",
        "  def __init__(self,name,rollno):\n",
        "    self.name = name\n",
        "    self.rollno = rollno\n",
        "    self.lap = self.laptop()\n",
        "\n",
        "  def show(self):\n",
        "    print(self.name,self.rollno)\n",
        "\n",
        "  class laptop:\n",
        "\n",
        "    def __init__(self):\n",
        "      self.brand = \"HP\"\n",
        "      self.cpu = 'i5'\n",
        "      self.ram = 8\n",
        "\n",
        "    def show(self):\n",
        "      print(self.brand,self.cpu,self.ram)\n",
        "\n",
        "\n",
        "s1 = student('navin',2)\n",
        "s2 = student('jenny',3)\n",
        "\n",
        "\n",
        "s1.lap.brand"
      ],
      "metadata": {
        "colab": {
          "base_uri": "https://localhost:8080/",
          "height": 36
        },
        "id": "iIIIzcWLfmlr",
        "outputId": "11953771-474d-4167-84bd-b625cea293c2"
      },
      "execution_count": null,
      "outputs": [
        {
          "output_type": "execute_result",
          "data": {
            "text/plain": [
              "'HP'"
            ],
            "application/vnd.google.colaboratory.intrinsic+json": {
              "type": "string"
            }
          },
          "metadata": {},
          "execution_count": 4
        }
      ]
    },
    {
      "cell_type": "code",
      "source": [
        "lap1 = student.laptop()\n"
      ],
      "metadata": {
        "id": "tGdZMLxqiH0H"
      },
      "execution_count": null,
      "outputs": []
    },
    {
      "cell_type": "code",
      "source": [
        "lap1.show()"
      ],
      "metadata": {
        "colab": {
          "base_uri": "https://localhost:8080/"
        },
        "id": "xfh-TlSOidaW",
        "outputId": "7718be58-6b32-44dc-ada3-a3b421f1dcf9"
      },
      "execution_count": null,
      "outputs": [
        {
          "output_type": "stream",
          "name": "stdout",
          "text": [
            "HP i5 8\n"
          ]
        }
      ]
    },
    {
      "cell_type": "code",
      "source": [
        "s1.show()"
      ],
      "metadata": {
        "colab": {
          "base_uri": "https://localhost:8080/"
        },
        "id": "I8v3KfWNimM-",
        "outputId": "402a91ef-7989-40bc-d918-265fe533b617"
      },
      "execution_count": null,
      "outputs": [
        {
          "output_type": "stream",
          "name": "stdout",
          "text": [
            "navin 2\n"
          ]
        }
      ]
    },
    {
      "cell_type": "code",
      "source": [
        "lap1 = s1.lap\n",
        "lap2 = s2.lap # while accessing inner class we shd always \n",
        "print(id(lap1))\n",
        "print(id(lap2))"
      ],
      "metadata": {
        "colab": {
          "base_uri": "https://localhost:8080/"
        },
        "id": "0np16_u1gKkF",
        "outputId": "de5841d4-dda5-404b-d74c-90a7218d8363"
      },
      "execution_count": null,
      "outputs": [
        {
          "output_type": "stream",
          "name": "stdout",
          "text": [
            "140377606204832\n",
            "140377606199456\n"
          ]
        }
      ]
    },
    {
      "cell_type": "markdown",
      "source": [
        "#INHERITANCE"
      ],
      "metadata": {
        "id": "tLQjRLHlkAwM"
      }
    },
    {
      "cell_type": "code",
      "source": [
        "# PARENTS INHERIT THEIR OBJECT TO THIER GENERATIONS\n",
        "# super class and sub class"
      ],
      "metadata": {
        "id": "1mUUhX8EkEUV"
      },
      "execution_count": null,
      "outputs": []
    },
    {
      "cell_type": "code",
      "source": [
        "class A :\n",
        "  def feature1(self):\n",
        "    print(\"feature1working\")\n",
        "\n",
        "  def feature2(self):\n",
        "    print(\"feature2working\")\n",
        "class B :\n",
        "  def feature3(self):\n",
        "    print(\"feature2working\")\n",
        "\n",
        "  def feature4(self):\n",
        "    print(\"feature4working\")\n",
        "\n",
        "a1 = A()\n",
        "b1 =  b()\n",
        "# here for object b1 , you can only have features  3 and 4 \n",
        "a1.feature1()\n",
        "a1.feature2()\n"
      ],
      "metadata": {
        "colab": {
          "base_uri": "https://localhost:8080/"
        },
        "id": "lTxEDAwJkQpK",
        "outputId": "c751576d-1a4d-49c7-82f2-ed0d47f4ce0a"
      },
      "execution_count": null,
      "outputs": [
        {
          "output_type": "stream",
          "name": "stdout",
          "text": [
            "feature1working\n",
            "feature2working\n"
          ]
        }
      ]
    },
    {
      "cell_type": "markdown",
      "source": [
        "SINGLE LEVEL INTERITENCE"
      ],
      "metadata": {
        "id": "rOLaSZSjDOvX"
      }
    },
    {
      "cell_type": "code",
      "source": [
        "class A :\n",
        "  def feature1(self):\n",
        "    print(\"feature1working\")\n",
        "\n",
        "  def feature2(self):\n",
        "    print(\"feature2working\")\n",
        "\n",
        "class B(A) : # class B inherits class A\n",
        "# meaning all of features of class a can also be accesible now for an object in classB\n",
        "  def feature3(self):\n",
        "    print(\"feature2working\")\n",
        "\n",
        "  def feature4(self):\n",
        "    print(\"feature4working\")\n",
        "\n",
        "# A is super class B is subclass\n",
        "a1 = A()\n",
        "b1 = B() # can have all 4 features\n",
        "\n",
        "b1.feature2()\n",
        "# THIS IS SINGLE LEVEL INTERITENCE"
      ],
      "metadata": {
        "colab": {
          "base_uri": "https://localhost:8080/"
        },
        "id": "IUH2btzOkr8w",
        "outputId": "8975d032-e1f4-4621-cfe8-f2888e3de433"
      },
      "execution_count": null,
      "outputs": [
        {
          "output_type": "stream",
          "name": "stdout",
          "text": [
            "feature2working\n"
          ]
        }
      ]
    },
    {
      "cell_type": "markdown",
      "source": [
        "MULTI LEVEL INHERTANCE"
      ],
      "metadata": {
        "id": "83tV_9IyDNBE"
      }
    },
    {
      "cell_type": "code",
      "source": [
        "# MULTI LEVEL INHERTANCE\n",
        "class A :\n",
        "  def feature1(self):\n",
        "    print(\"feature1working\")\n",
        "\n",
        "  def feature2(self):\n",
        "    print(\"feature2working\")\n",
        "class B(A) :\n",
        "  def feature3(self):\n",
        "    print(\"feature2working\")\n",
        "\n",
        "  def feature4(self):\n",
        "    print(\"feature4working\")\n",
        "\n",
        "class C(B) :\n",
        "  def feature5(self):\n",
        "    print(\"feature5working\")\n",
        "\n",
        "c1 = C()\n",
        "c1.feature2()"
      ],
      "metadata": {
        "colab": {
          "base_uri": "https://localhost:8080/"
        },
        "id": "qEtUK9ghCWue",
        "outputId": "9671f30c-9add-43c5-d997-99e90bc3af37"
      },
      "execution_count": null,
      "outputs": [
        {
          "output_type": "stream",
          "name": "stdout",
          "text": [
            "feature2working\n"
          ]
        }
      ]
    },
    {
      "cell_type": "markdown",
      "source": [
        "MULTIPLE INHERTANCE"
      ],
      "metadata": {
        "id": "feLlqG9vDLLQ"
      }
    },
    {
      "cell_type": "code",
      "source": [
        "class A :\n",
        "  def feature1(self):\n",
        "    print(\"feature1working\")\n",
        "\n",
        "  def feature2(self):\n",
        "    print(\"feature2working\")\n",
        "class B() :\n",
        "  def feature3(self):\n",
        "    print(\"feature2working\")\n",
        "\n",
        "  def feature4(self):\n",
        "    print(\"feature4working\")\n",
        "\n",
        "class C(A,B) : # inherits from multiple super classes\n",
        "  def feature5(self):\n",
        "    print(\"feature5working\")"
      ],
      "metadata": {
        "id": "TH3iCZ7YC_4Y"
      },
      "execution_count": null,
      "outputs": []
    },
    {
      "cell_type": "markdown",
      "source": [
        "CONSTRUCTOR IN INHERITANCE"
      ],
      "metadata": {
        "id": "hNdgPTxXDhKi"
      }
    },
    {
      "cell_type": "code",
      "source": [
        "class A :\n",
        "  def __init__(self):\n",
        "    print(\"inA\")\n",
        "\n",
        "  def feature1(self):\n",
        "    print(\"feature1working\")\n",
        "\n",
        "  def feature2(self):\n",
        "    print(\"feature2working\")\n",
        "\n",
        "class B(A) :\n",
        "  def feature3(self):\n",
        "    print(\"feature2working\")\n",
        "\n",
        "  def feature4(self):\n",
        "    print(\"feature4working\")\n",
        "\n",
        "b1 = B()\n",
        "# still calls the constructor of A "
      ],
      "metadata": {
        "colab": {
          "base_uri": "https://localhost:8080/"
        },
        "id": "NF9xeDH6D2oA",
        "outputId": "ce59e2de-6768-4023-da80-d251a213180f"
      },
      "execution_count": null,
      "outputs": [
        {
          "output_type": "stream",
          "name": "stdout",
          "text": [
            "inA\n"
          ]
        }
      ]
    },
    {
      "cell_type": "code",
      "source": [
        "class A :\n",
        "  def __init__(self):\n",
        "    print(\"inA\")\n",
        "\n",
        "  def feature1(self):\n",
        "    print(\"feature1working\")\n",
        "\n",
        "  def feature2(self):\n",
        "    print(\"feature2working\")\n",
        "\n",
        "class B(A) :\n",
        "  def __init__(self):\n",
        "    print(\"inB\")\n",
        "\n",
        "  def feature3(self):\n",
        "    print(\"feature2working\")\n",
        "\n",
        "  def feature4(self):\n",
        "    print(\"feature4working\")\n",
        "\n",
        "b1 = B()\n",
        "# doesn't take the contructor in A as it already in B \n",
        "# can we call both init ???"
      ],
      "metadata": {
        "colab": {
          "base_uri": "https://localhost:8080/"
        },
        "id": "g1R5JMDoEBQk",
        "outputId": "e20c4ea4-ed7e-468d-cb90-90bfe8c364bd"
      },
      "execution_count": null,
      "outputs": [
        {
          "output_type": "stream",
          "name": "stdout",
          "text": [
            "inB\n"
          ]
        }
      ]
    },
    {
      "cell_type": "code",
      "source": [
        "# super()\n",
        "\n",
        "class A :\n",
        "  def __init__(self):\n",
        "    print(\"inA\")\n",
        "\n",
        "  def feature1(self):\n",
        "    print(\"feature1working\")\n",
        "\n",
        "  def feature2(self):\n",
        "    print(\"feature2working\")\n",
        "\n",
        "class B(A) :\n",
        "  def __init__(self):\n",
        "    super().__init__()\n",
        "    print(\"inB\")\n",
        "\n",
        "  def feature3(self):\n",
        "    print(\"feature2working\")\n",
        "\n",
        "  def feature4(self):\n",
        "    print(\"feature4working\")\n",
        "\n",
        "b = B()\n",
        "# accessed both init"
      ],
      "metadata": {
        "colab": {
          "base_uri": "https://localhost:8080/"
        },
        "id": "WTP1SKN1E_22",
        "outputId": "a85c69e4-d18e-423f-86da-2ca1d5f8a226"
      },
      "execution_count": null,
      "outputs": [
        {
          "output_type": "stream",
          "name": "stdout",
          "text": [
            "inA\n",
            "inB\n"
          ]
        }
      ]
    },
    {
      "cell_type": "code",
      "source": [
        "class A :\n",
        "  def feature1(self):\n",
        "    print(\"feature1working\")\n",
        "\n",
        "  def feature2(self):\n",
        "    print(\"feature2working\")\n",
        "class B() :\n",
        "  def feature3(self):\n",
        "    print(\"feature2working\")\n",
        "\n",
        "  def feature4(self):\n",
        "    print(\"feature4working\")\n",
        "\n",
        "class C(A,B) : # inherits from multiple super classes\n",
        "  def __init__(self):\n",
        "    print(\"in C init\")\n",
        "  def feature5(self):\n",
        "    print(\"feature5working\")\n",
        "\n",
        "c = C()"
      ],
      "metadata": {
        "colab": {
          "base_uri": "https://localhost:8080/"
        },
        "id": "OKnNK4aNFX8b",
        "outputId": "1eca943a-d6fb-47f5-f837-908fdb87861c"
      },
      "execution_count": null,
      "outputs": [
        {
          "output_type": "stream",
          "name": "stdout",
          "text": [
            "in C init\n"
          ]
        }
      ]
    },
    {
      "cell_type": "code",
      "source": [
        "class A :\n",
        "  def __init__(self):\n",
        "    print(\"inA\")\n",
        "\n",
        "  def feature1(self):\n",
        "    print(\"feature1Aworking\")\n",
        "\n",
        "  def feature2(self):\n",
        "    print(\"feature2working\")\n",
        "\n",
        "class B() :\n",
        "  def __init__(self):\n",
        "    print(\"inB\")\n",
        "\n",
        "  def feature1(self):\n",
        "    print(\"feature1Bworking\")\n",
        "\n",
        "  def feature4(self):\n",
        "    print(\"feature4working\")\n",
        "\n",
        "class C(A,B) : # inherits from multiple super classes\n",
        "  def __init__(self):\n",
        "    super().__init__()\n",
        "    print(\"in C init\")\n",
        "  def feature5(self):\n",
        "    print(\"feature5working\")\n",
        "\n",
        "c = C()\n",
        "\n",
        "# it does'nt go to B , it goes to A \n",
        "# as A is given in left\n",
        "# MRO - METHOD RESOLUTION ORDER (FROM LEFT TO RIGHT)"
      ],
      "metadata": {
        "colab": {
          "base_uri": "https://localhost:8080/"
        },
        "id": "KMwsW0w_Fs7k",
        "outputId": "9067a66f-4052-46ac-913a-eb6ab6a36a64"
      },
      "execution_count": null,
      "outputs": [
        {
          "output_type": "stream",
          "name": "stdout",
          "text": [
            "inA\n",
            "in C init\n"
          ]
        }
      ]
    },
    {
      "cell_type": "code",
      "source": [
        "class A :\n",
        "  def __init__(self):\n",
        "    print(\"inA\")\n",
        "\n",
        "  def feature1(self):\n",
        "    print(\"feature1Aworking\")\n",
        "\n",
        "  def feature2(self):\n",
        "    print(\"feature2working\")\n",
        "\n",
        "class B() :\n",
        "  def __init__(self):\n",
        "    print(\"inB\")\n",
        "\n",
        "  def feature1(self):# SAME FEATURE NAME\n",
        "    print(\"feature1Bworking\")\n",
        "\n",
        "  def feature4(self):\n",
        "    print(\"feature4working\")\n",
        "\n",
        "class C(A,B) : # inherits from multiple super classes\n",
        "  def __init__(self):\n",
        "    super().__init__()\n",
        "    print(\"in C init\")\n",
        "  def feature5(self):\n",
        "    print(\"feature5working\")\n",
        "\n",
        "c = C()\n",
        "c.feature1()"
      ],
      "metadata": {
        "colab": {
          "base_uri": "https://localhost:8080/"
        },
        "id": "la2PhuDqF5QY",
        "outputId": "af8feb3b-f4fd-4728-bff7-35ea844ab884"
      },
      "execution_count": null,
      "outputs": [
        {
          "output_type": "stream",
          "name": "stdout",
          "text": [
            "inA\n",
            "in C init\n",
            "feature1Aworking\n"
          ]
        }
      ]
    },
    {
      "cell_type": "code",
      "source": [
        "class A :\n",
        "  def __init__(self):\n",
        "    print(\"inA\")\n",
        "\n",
        "  def feature1(self):\n",
        "    print(\"feature1Aworking\")\n",
        "\n",
        "  def feature2(self):\n",
        "    print(\"feature2working\")\n",
        "\n",
        "class B() :\n",
        "  def __init__(self):\n",
        "    print(\"inB\")\n",
        "\n",
        "  def feature1(self):# SAME FEATURE NAME\n",
        "    print(\"feature1Bworking\")\n",
        "\n",
        "  def feature4(self):\n",
        "    print(\"feature4working\")\n",
        "\n",
        "class C(B,A) : # B IS GIVEN MORE PRIORITY\n",
        "  def __init__(self):\n",
        "    super().__init__()\n",
        "    print(\"in C init\")\n",
        "  def feature5(self):\n",
        "    print(\"feature5working\")\n",
        "\n",
        "c = C()\n",
        "c.feature1()\n",
        "# B GIVEN MORE PREFERENCE "
      ],
      "metadata": {
        "colab": {
          "base_uri": "https://localhost:8080/"
        },
        "id": "D64Sre61G2Pj",
        "outputId": "0144d2d5-c5f7-4ba9-af2e-df3aff2cafad"
      },
      "execution_count": null,
      "outputs": [
        {
          "output_type": "stream",
          "name": "stdout",
          "text": [
            "inB\n",
            "in C init\n",
            "feature1Bworking\n"
          ]
        }
      ]
    },
    {
      "cell_type": "code",
      "source": [
        "# WE CAN ALSO USE THIS super() to call other methods"
      ],
      "metadata": {
        "id": "aqkGiIk8HLOh"
      },
      "execution_count": null,
      "outputs": []
    },
    {
      "cell_type": "code",
      "source": [],
      "metadata": {
        "id": "Q_yO60SDHg7K"
      },
      "execution_count": null,
      "outputs": []
    },
    {
      "cell_type": "markdown",
      "source": [
        "# POLYMORPHISM"
      ],
      "metadata": {
        "id": "Vxazs5BoHj2q"
      }
    },
    {
      "cell_type": "code",
      "source": [
        "# poly - many\n",
        "# morph - form \n",
        "# many forms"
      ],
      "metadata": {
        "id": "dJJFliyBHmpo"
      },
      "execution_count": null,
      "outputs": []
    },
    {
      "cell_type": "code",
      "source": [
        "# objects have multiple forms"
      ],
      "metadata": {
        "id": "WsWfZ-jmRgGa"
      },
      "execution_count": null,
      "outputs": []
    },
    {
      "cell_type": "code",
      "source": [
        "# duck typing\n",
        "# operator overloading\n",
        "# method overloading\n",
        "# method overriding"
      ],
      "metadata": {
        "id": "Lb4OvM1YRlxX"
      },
      "execution_count": null,
      "outputs": []
    },
    {
      "cell_type": "markdown",
      "source": [
        "DUCK TYPING"
      ],
      "metadata": {
        "id": "oNB06V3gR3rG"
      }
    },
    {
      "cell_type": "code",
      "source": [
        "# IF A BIRD WALKS , SQUAKS , SWIMS LIKE A DUCK\n",
        "# THEN THAT BIRD IS A DUCK"
      ],
      "metadata": {
        "id": "tY2xN4h0RtqV"
      },
      "execution_count": null,
      "outputs": []
    },
    {
      "cell_type": "code",
      "source": [
        "# ANY OBJECT THAT BEHEAVES LIKE A DUCK IS A DUCK "
      ],
      "metadata": {
        "id": "dosYFFMXSQ8H"
      },
      "execution_count": null,
      "outputs": []
    },
    {
      "cell_type": "code",
      "source": [
        "x = 5 \n",
        "# dynamic type # can mention types later\n",
        "# x is just a name to 5\n",
        "# type(x) gives type of 5\n",
        "\n",
        "y = 'navin'\n",
        "# y is juat a name to navin"
      ],
      "metadata": {
        "id": "_sQyi5ENSWKV"
      },
      "execution_count": null,
      "outputs": []
    },
    {
      "cell_type": "code",
      "source": [
        "class pycharm:\n",
        "\n",
        "  def execute(self):\n",
        "    print(\"compiling\")\n",
        "    print(\"running\")\n",
        "\n",
        "class hotsause:\n",
        "\n",
        "  def execute(self):\n",
        "    print(\"spellcheck\")\n",
        "    print(\"coolnesscheck\")\n",
        "\n",
        "class laptop:\n",
        "\n",
        "  def code(self,ide):\n",
        "    ide.execute()\n",
        "\n",
        "ide1 = pycharm()\n",
        "ide2 = hotsause()\n",
        "\n",
        "c = laptop()\n",
        "\n",
        "c.code(ide2)# type of ide is hotsause here\n"
      ],
      "metadata": {
        "colab": {
          "base_uri": "https://localhost:8080/"
        },
        "id": "qdLvSfdfSr8u",
        "outputId": "e85c83cb-fc3b-40da-f573-8d9afba21fd1"
      },
      "execution_count": null,
      "outputs": [
        {
          "output_type": "stream",
          "name": "stdout",
          "text": [
            "spellcheck\n",
            "coolnesscheck\n"
          ]
        }
      ]
    },
    {
      "cell_type": "code",
      "source": [
        "d = laptop()\n",
        "ide1 = pycharm()\n",
        "d.code(ide1)\n",
        "# type of ide is pycharm here\n"
      ],
      "metadata": {
        "colab": {
          "base_uri": "https://localhost:8080/"
        },
        "id": "_a8cmW0wTMRw",
        "outputId": "b2da5511-125f-43f8-ff39-f437cd3e0c01"
      },
      "execution_count": null,
      "outputs": [
        {
          "output_type": "stream",
          "name": "stdout",
          "text": [
            "compiling\n",
            "running\n"
          ]
        }
      ]
    },
    {
      "cell_type": "code",
      "source": [
        "# no matter which class the ide is from \n",
        "# as long as that class has execute method , itll run that method"
      ],
      "metadata": {
        "id": "USKoP7uBUtOh"
      },
      "execution_count": null,
      "outputs": []
    },
    {
      "cell_type": "code",
      "source": [
        "# the object ide here has similar behavior/method execute\n",
        "# so the object is DUCK \n",
        "# DUCK TYPING"
      ],
      "metadata": {
        "id": "ZU5v_vFAUpP1"
      },
      "execution_count": null,
      "outputs": []
    },
    {
      "cell_type": "markdown",
      "source": [
        "OPERATOR OVERLOADING"
      ],
      "metadata": {
        "id": "C62K_f1uViaW"
      }
    },
    {
      "cell_type": "code",
      "source": [
        "# OPERATORS + - * / \n"
      ],
      "metadata": {
        "id": "USWlnaGjVJTK"
      },
      "execution_count": null,
      "outputs": []
    },
    {
      "cell_type": "code",
      "source": [
        "a = 5\n",
        "b = 'world'\n",
        "\n",
        "# cant a+b\n"
      ],
      "metadata": {
        "id": "koo0-6_fWtal"
      },
      "execution_count": null,
      "outputs": []
    },
    {
      "cell_type": "code",
      "source": [
        "a = 5\n",
        "b = 5\n",
        "print(int.__add__(a,b) )"
      ],
      "metadata": {
        "colab": {
          "base_uri": "https://localhost:8080/"
        },
        "id": "A68JiWDdXuEf",
        "outputId": "5d0f6cdb-7977-44fb-ed7d-a6d55a859998"
      },
      "execution_count": null,
      "outputs": [
        {
          "output_type": "stream",
          "name": "stdout",
          "text": [
            "10\n"
          ]
        }
      ]
    },
    {
      "cell_type": "code",
      "source": [
        "a = '5'\n",
        "b = '6'\n",
        "\n",
        "print(str.__add__(a,b))"
      ],
      "metadata": {
        "colab": {
          "base_uri": "https://localhost:8080/"
        },
        "id": "NebrsxTfYno8",
        "outputId": "485267fa-c6ed-46aa-8358-ab327e5c5aaf"
      },
      "execution_count": null,
      "outputs": [
        {
          "output_type": "stream",
          "name": "stdout",
          "text": [
            "56\n"
          ]
        }
      ]
    },
    {
      "cell_type": "code",
      "source": [
        "class student:\n",
        "\n",
        "  def __init__(self,m1,m2):\n",
        "    self.m1 = m1\n",
        "    self.m2 = m2\n",
        "  \n",
        "  def __add__(self,other):\n",
        "    m1 = self.m1 + other.m1\n",
        "    m2 = self.m2 + other.m2\n",
        "    s3 = student(m1,m2)\n",
        "\n",
        "    return s3\n",
        "\n",
        "  def __sub__(self,other):\n",
        "\n",
        "    m1 = self.m1 - other.m1\n",
        "    m2 = self.m2 - other.m2\n",
        "    s=  student(m1,m2)\n",
        "\n",
        "    return s\n",
        "\n",
        "  def show(self):\n",
        "    print(self.m1 , self.m2)\n",
        "\n",
        "\n",
        "\n",
        "s1 = student(45,66)\n",
        "s2 = student(90,33)\n",
        "s3 = s1+s2 # -> student.__add__(s1,s2)\n",
        "s3.show() \n",
        "\n",
        "# we defined method __add__ which works as + \n",
        "# its called operator overloading\n",
        "# as the method behaves as an operator and a method\n",
        "# 2 forms - polymorphism\n",
        "\n",
        "\n",
        "# overloading subtraction operator\n",
        "\n",
        "s4 = s1-s2 \n",
        "s4.show()\n"
      ],
      "metadata": {
        "colab": {
          "base_uri": "https://localhost:8080/"
        },
        "id": "TVXtcSJXYuXU",
        "outputId": "eec17694-56a3-4aef-a0c6-bcd29c966230"
      },
      "execution_count": null,
      "outputs": [
        {
          "output_type": "stream",
          "name": "stdout",
          "text": [
            "135 99\n",
            "-45 33\n"
          ]
        }
      ]
    },
    {
      "cell_type": "code",
      "source": [
        "# the int and str knows what is + \n",
        "# the student class didn't know \n",
        "# so we did a operator overload"
      ],
      "metadata": {
        "id": "hvhZ_Sx8ax4n"
      },
      "execution_count": null,
      "outputs": []
    },
    {
      "cell_type": "code",
      "source": [
        "print(s1)\n",
        "# this doesn't print the value in object \n",
        "# rather prints address "
      ],
      "metadata": {
        "colab": {
          "base_uri": "https://localhost:8080/"
        },
        "id": "hPWXNlncbCl4",
        "outputId": "a932b7c4-d2cb-423e-f7fb-462986903883"
      },
      "execution_count": null,
      "outputs": [
        {
          "output_type": "stream",
          "name": "stdout",
          "text": [
            "<__main__.student object at 0x7f455ad4a9e0>\n"
          ]
        }
      ]
    },
    {
      "cell_type": "code",
      "source": [
        "a = 0\n",
        "a.__str__()"
      ],
      "metadata": {
        "colab": {
          "base_uri": "https://localhost:8080/",
          "height": 36
        },
        "id": "Vwx-cJgXdMRw",
        "outputId": "9472eb0f-08e6-4422-b0c0-88ff20cdd873"
      },
      "execution_count": null,
      "outputs": [
        {
          "output_type": "execute_result",
          "data": {
            "text/plain": [
              "'0'"
            ],
            "application/vnd.google.colaboratory.intrinsic+json": {
              "type": "string"
            }
          },
          "metadata": {},
          "execution_count": 48
        }
      ]
    },
    {
      "cell_type": "code",
      "source": [
        "print(a.__str__())"
      ],
      "metadata": {
        "colab": {
          "base_uri": "https://localhost:8080/"
        },
        "id": "QgOE7tJvdcGk",
        "outputId": "4f7fc271-a11e-4c68-e27a-fabb5f192312"
      },
      "execution_count": null,
      "outputs": [
        {
          "output_type": "stream",
          "name": "stdout",
          "text": [
            "0\n"
          ]
        }
      ]
    },
    {
      "cell_type": "code",
      "source": [
        "print(s1.__str__()) \n",
        "# this method is inbuilt and its giving address rather than value"
      ],
      "metadata": {
        "colab": {
          "base_uri": "https://localhost:8080/"
        },
        "id": "rSkg__NWdlta",
        "outputId": "23b66ac6-86d6-42c3-bbb7-99d6d0d78891"
      },
      "execution_count": null,
      "outputs": [
        {
          "output_type": "stream",
          "name": "stdout",
          "text": [
            "<__main__.student object at 0x7f455ad4a9e0>\n"
          ]
        }
      ]
    },
    {
      "cell_type": "markdown",
      "source": [
        "METHOD OVERRIDING"
      ],
      "metadata": {
        "id": "eyai7Nf-eHze"
      }
    },
    {
      "cell_type": "code",
      "source": [
        "# CHANGING THE ALDREASY EXISTING INBUILT METHOD \n",
        "# OVERIDING THE INBUIT METHOD \n"
      ],
      "metadata": {
        "id": "iLkPhct3eKHY"
      },
      "execution_count": null,
      "outputs": []
    },
    {
      "cell_type": "code",
      "source": [
        "class student:\n",
        "\n",
        "  def __init__(self,m1,m2):\n",
        "    self.m1 = m1\n",
        "    self.m2 = m2\n",
        "  \n",
        "  def __add__(self,other):\n",
        "    m1 = self.m1 + other.m1\n",
        "    m2 = self.m2 + other.m2\n",
        "    s3 = student(m1,m2)\n",
        "\n",
        "    return s3\n",
        "\n",
        "  def __sub__(self,other):\n",
        "\n",
        "    m1 = self.m1 - other.m1\n",
        "    m2 = self.m2 - other.m2\n",
        "    s=  student(m1,m2)\n",
        "\n",
        "    return s\n",
        "\n",
        "  def show(self):\n",
        "    print(self.m1 , self.m2)\n",
        "\n",
        "  def __str__(self):\n",
        "    return \"{} {} \".format(self.m1 , self.m2)\n",
        "\n",
        "\n",
        "\n",
        "s1 = student(45,66)\n",
        "print(s1)"
      ],
      "metadata": {
        "colab": {
          "base_uri": "https://localhost:8080/"
        },
        "id": "A7yeSt7Zd4_C",
        "outputId": "469f4d8c-5894-4828-a04f-ce9661503744"
      },
      "execution_count": null,
      "outputs": [
        {
          "output_type": "stream",
          "name": "stdout",
          "text": [
            "45 66 \n"
          ]
        }
      ]
    },
    {
      "cell_type": "code",
      "source": [
        "s2 = student(56,75)\n",
        "print(s2)"
      ],
      "metadata": {
        "colab": {
          "base_uri": "https://localhost:8080/"
        },
        "id": "h-GFsbvXedRa",
        "outputId": "87680315-4f0c-447a-c22f-a1987608ac45"
      },
      "execution_count": null,
      "outputs": [
        {
          "output_type": "stream",
          "name": "stdout",
          "text": [
            "56 75 \n"
          ]
        }
      ]
    },
    {
      "cell_type": "markdown",
      "source": [
        "METHOD OVERLOADING"
      ],
      "metadata": {
        "id": "uv9C3yN5fWj_"
      }
    },
    {
      "cell_type": "code",
      "source": [
        "# method overloading isnt there in python\n",
        "# for example \n",
        "\n",
        "# class student :\n",
        "#     def avg(a,b)\n",
        "#     def avg(a,b,c) this is method overloading\n",
        "\n",
        "# because in python we cant create two methods with same name "
      ],
      "metadata": {
        "id": "-5fx2aRVe5Y3"
      },
      "execution_count": null,
      "outputs": []
    },
    {
      "cell_type": "code",
      "source": [
        "class student:\n",
        "\n",
        "  def __init__(self,m1,m2):\n",
        "    self.m1 = m1\n",
        "    self.m2 = m2\n",
        "\n",
        "  def sum(self,a,b):\n",
        "    s = a+b\n",
        "\n",
        "    return s\n",
        "  \n",
        "\n",
        "s1 = student(58,69)\n",
        "\n",
        "print(s1.sum(5,9)) # we cant give 3 values \n",
        "# we cant define a method we same name too"
      ],
      "metadata": {
        "colab": {
          "base_uri": "https://localhost:8080/"
        },
        "id": "pbX2mdtVfWDm",
        "outputId": "2fb9a437-fda8-4e99-c446-fdfcd70257b7"
      },
      "execution_count": null,
      "outputs": [
        {
          "output_type": "stream",
          "name": "stdout",
          "text": [
            "14\n"
          ]
        }
      ]
    },
    {
      "cell_type": "code",
      "source": [
        "class student:\n",
        "\n",
        "  def __init__(self,m1,m2):\n",
        "    self.m1 = m1\n",
        "    self.m2 = m2\n",
        "\n",
        "  def sum(self,a=None,b=None,c=None):\n",
        "    s = a+b+c\n",
        "\n",
        "    return s\n",
        "  \n",
        "\n",
        "s1 = student(58,69)\n",
        "\n",
        "print(s1.sum(5,9,8))"
      ],
      "metadata": {
        "colab": {
          "base_uri": "https://localhost:8080/"
        },
        "id": "qw491IvAf4uw",
        "outputId": "191be27d-8ffb-4384-e77a-69f19b1030d2"
      },
      "execution_count": null,
      "outputs": [
        {
          "output_type": "stream",
          "name": "stdout",
          "text": [
            "22\n"
          ]
        }
      ]
    },
    {
      "cell_type": "code",
      "source": [
        "print(s1.sum(5,6))"
      ],
      "metadata": {
        "colab": {
          "base_uri": "https://localhost:8080/",
          "height": 299
        },
        "id": "2r8bYbgVgP_S",
        "outputId": "1faebd23-1efc-4efa-fbad-6004676aa1cd"
      },
      "execution_count": null,
      "outputs": [
        {
          "output_type": "error",
          "ename": "TypeError",
          "evalue": "ignored",
          "traceback": [
            "\u001b[0;31m---------------------------------------------------------------------------\u001b[0m",
            "\u001b[0;31mTypeError\u001b[0m                                 Traceback (most recent call last)",
            "\u001b[0;32m<ipython-input-61-83fc4aac80a7>\u001b[0m in \u001b[0;36m<cell line: 1>\u001b[0;34m()\u001b[0m\n\u001b[0;32m----> 1\u001b[0;31m \u001b[0mprint\u001b[0m\u001b[0;34m(\u001b[0m\u001b[0ms1\u001b[0m\u001b[0;34m.\u001b[0m\u001b[0msum\u001b[0m\u001b[0;34m(\u001b[0m\u001b[0;36m5\u001b[0m\u001b[0;34m,\u001b[0m\u001b[0;36m6\u001b[0m\u001b[0;34m)\u001b[0m\u001b[0;34m)\u001b[0m\u001b[0;34m\u001b[0m\u001b[0;34m\u001b[0m\u001b[0m\n\u001b[0m",
            "\u001b[0;32m<ipython-input-58-93e99ddfb3d2>\u001b[0m in \u001b[0;36msum\u001b[0;34m(self, a, b, c)\u001b[0m\n\u001b[1;32m      6\u001b[0m \u001b[0;34m\u001b[0m\u001b[0m\n\u001b[1;32m      7\u001b[0m   \u001b[0;32mdef\u001b[0m \u001b[0msum\u001b[0m\u001b[0;34m(\u001b[0m\u001b[0mself\u001b[0m\u001b[0;34m,\u001b[0m\u001b[0ma\u001b[0m\u001b[0;34m=\u001b[0m\u001b[0;32mNone\u001b[0m\u001b[0;34m,\u001b[0m\u001b[0mb\u001b[0m\u001b[0;34m=\u001b[0m\u001b[0;32mNone\u001b[0m\u001b[0;34m,\u001b[0m\u001b[0mc\u001b[0m\u001b[0;34m=\u001b[0m\u001b[0;32mNone\u001b[0m\u001b[0;34m)\u001b[0m\u001b[0;34m:\u001b[0m\u001b[0;34m\u001b[0m\u001b[0;34m\u001b[0m\u001b[0m\n\u001b[0;32m----> 8\u001b[0;31m     \u001b[0ms\u001b[0m \u001b[0;34m=\u001b[0m \u001b[0ma\u001b[0m\u001b[0;34m+\u001b[0m\u001b[0mb\u001b[0m\u001b[0;34m+\u001b[0m\u001b[0mc\u001b[0m\u001b[0;34m\u001b[0m\u001b[0;34m\u001b[0m\u001b[0m\n\u001b[0m\u001b[1;32m      9\u001b[0m \u001b[0;34m\u001b[0m\u001b[0m\n\u001b[1;32m     10\u001b[0m     \u001b[0;32mreturn\u001b[0m \u001b[0ms\u001b[0m\u001b[0;34m\u001b[0m\u001b[0;34m\u001b[0m\u001b[0m\n",
            "\u001b[0;31mTypeError\u001b[0m: unsupported operand type(s) for +: 'int' and 'NoneType'"
          ]
        }
      ]
    },
    {
      "cell_type": "code",
      "source": [
        "class student:\n",
        "\n",
        "  def __init__(self,m1,m2):\n",
        "    self.m1 = m1\n",
        "    self.m2 = m2\n",
        "\n",
        "  def sum(self,a=0,b=0,c=0):\n",
        "    \n",
        "    s = a+b+c\n",
        "\n",
        "    return s\n",
        "  \n",
        "\n",
        "s1 = student(58,69)\n",
        "\n",
        "print(s1.sum(5,9,8))"
      ],
      "metadata": {
        "colab": {
          "base_uri": "https://localhost:8080/"
        },
        "id": "UNjiLV6HgVOb",
        "outputId": "e9bcb5cd-5472-4f76-f4f3-8df61491c14e"
      },
      "execution_count": null,
      "outputs": [
        {
          "output_type": "stream",
          "name": "stdout",
          "text": [
            "22\n"
          ]
        }
      ]
    },
    {
      "cell_type": "code",
      "source": [
        "print(s1.sum(5,6))"
      ],
      "metadata": {
        "colab": {
          "base_uri": "https://localhost:8080/"
        },
        "id": "Ax5P9IELgxu_",
        "outputId": "d1a18bbe-2fcc-4b6f-bddf-7e0f8c413362"
      },
      "execution_count": null,
      "outputs": [
        {
          "output_type": "stream",
          "name": "stdout",
          "text": [
            "11\n"
          ]
        }
      ]
    },
    {
      "cell_type": "markdown",
      "source": [
        "METHOD OVERRIDING"
      ],
      "metadata": {
        "id": "OIn7SoEneI5w"
      }
    },
    {
      "cell_type": "code",
      "source": [
        "class A:\n",
        "  def show(self):\n",
        "    print(\"in A show\")\n",
        "\n",
        "class B(A):\n",
        "  pass\n",
        "\n",
        "a1 = B()\n",
        "a1.show()"
      ],
      "metadata": {
        "colab": {
          "base_uri": "https://localhost:8080/"
        },
        "id": "PF0t_wsUg0Lb",
        "outputId": "4876a7ba-0163-4bd2-b4d9-dbf994537fd9"
      },
      "execution_count": null,
      "outputs": [
        {
          "output_type": "stream",
          "name": "stdout",
          "text": [
            "in A show\n"
          ]
        }
      ]
    },
    {
      "cell_type": "code",
      "source": [
        "class A:\n",
        "  def show(self):\n",
        "    print(\"in A show\")\n",
        "\n",
        "class B(A):\n",
        "  def show(self):\n",
        "    print(\"in B show\") # this method overrides the method parent class\n",
        "\n",
        "  \n",
        "\n",
        "a1 = B()\n",
        "a1.show()"
      ],
      "metadata": {
        "colab": {
          "base_uri": "https://localhost:8080/"
        },
        "id": "00VFH65geYVy",
        "outputId": "0203774b-ad21-4549-b9fe-6505ba8daeba"
      },
      "execution_count": null,
      "outputs": [
        {
          "output_type": "stream",
          "name": "stdout",
          "text": [
            "in B show\n"
          ]
        }
      ]
    },
    {
      "cell_type": "code",
      "source": [],
      "metadata": {
        "id": "osng2GeQfFMm"
      },
      "execution_count": null,
      "outputs": []
    },
    {
      "cell_type": "markdown",
      "source": [
        "# ABSTRACT CLASSES AND METHODS"
      ],
      "metadata": {
        "id": "LIRmgCCZfNXx"
      }
    },
    {
      "cell_type": "code",
      "source": [
        "# what?\n"
      ],
      "metadata": {
        "id": "dKjNWPqkfS55"
      },
      "execution_count": null,
      "outputs": []
    },
    {
      "cell_type": "code",
      "source": [
        "class computer:\n",
        "  def process(self):\n",
        "    print(\"running\") # if u want to keep it empty \n",
        "\n"
      ],
      "metadata": {
        "id": "bmwOdu9RfVtu"
      },
      "execution_count": null,
      "outputs": []
    },
    {
      "cell_type": "code",
      "source": [
        "class computer:\n",
        "  def process(self):\n",
        "    pass\n",
        "    \n",
        "#this is an abstract method \n",
        "com = computer()\n",
        "com.process() # will run normally"
      ],
      "metadata": {
        "id": "Uh8PLMbTfrJm"
      },
      "execution_count": null,
      "outputs": []
    },
    {
      "cell_type": "code",
      "source": [
        "\n",
        "#making it an abstract class\n",
        "from abc import ABC,absbtractmethod\n",
        "\n",
        "class computer(ABC):\n",
        "  @abstractmethod\n",
        "  def process(self):\n",
        "    pass\n",
        "\n",
        "class laptop(computer):\n",
        "    pass\n",
        "\n",
        "\n",
        "\n",
        "    \n",
        "\n",
        "# abstract class will have atleast on abstract method"
      ],
      "metadata": {
        "id": "uwDkkyqqf2sd"
      },
      "execution_count": null,
      "outputs": []
    },
    {
      "cell_type": "code",
      "source": [
        "#"
      ],
      "metadata": {
        "id": "xHcpMqEUh7-c"
      },
      "execution_count": null,
      "outputs": []
    },
    {
      "cell_type": "code",
      "source": [
        "class computer():\n",
        "  pass"
      ],
      "metadata": {
        "id": "jFNtLAUVianb"
      },
      "execution_count": null,
      "outputs": []
    },
    {
      "cell_type": "code",
      "source": [
        "c = computer()"
      ],
      "metadata": {
        "id": "Gf-MjHntiBM-"
      },
      "execution_count": null,
      "outputs": []
    },
    {
      "cell_type": "code",
      "source": [
        "# we will use this to block a method \n",
        "# make it an abstract to avoid it from running"
      ],
      "metadata": {
        "id": "-jmzyyOzijw5"
      },
      "execution_count": null,
      "outputs": []
    },
    {
      "cell_type": "code",
      "source": [],
      "metadata": {
        "id": "0kCxOW_qoEwU"
      },
      "execution_count": null,
      "outputs": []
    },
    {
      "cell_type": "markdown",
      "source": [
        "# EXCEPTIONAL HANDLING"
      ],
      "metadata": {
        "id": "rTYIdoiZWVzY"
      }
    },
    {
      "cell_type": "code",
      "source": [
        "# COMPILE TIME\n",
        "# LOGICAL\n",
        "# RUN TIME \n"
      ],
      "metadata": {
        "id": "IJikuXTsWYFm"
      },
      "execution_count": null,
      "outputs": []
    },
    {
      "cell_type": "markdown",
      "source": [
        "COMPILE ERRORS"
      ],
      "metadata": {
        "id": "JAg558zOWpoj"
      }
    },
    {
      "cell_type": "code",
      "source": [
        "# SYNTAX ERROR ( MISSING COLONS , SPELLING MISTAKES )"
      ],
      "metadata": {
        "id": "ASwmZlV-WlAo"
      },
      "execution_count": null,
      "outputs": []
    },
    {
      "cell_type": "markdown",
      "source": [
        "LOGICAL ERRORS"
      ],
      "metadata": {
        "id": "Wbq4U-bAWrmf"
      }
    },
    {
      "cell_type": "code",
      "source": [
        "# WRONG LOGIC\n",
        "# it'll compile correctly anf give a wrong output\n"
      ],
      "metadata": {
        "id": "T4jfbRRqWtxm"
      },
      "execution_count": null,
      "outputs": []
    },
    {
      "cell_type": "markdown",
      "source": [
        "RUN TIME ERROR"
      ],
      "metadata": {
        "id": "FykLTQO8W-H-"
      }
    },
    {
      "cell_type": "code",
      "source": [
        "# user gave invalid input\n",
        "# 6 divide by 0 where 6 and 0 are given by user "
      ],
      "metadata": {
        "id": "cLwy0kgFW9J0"
      },
      "execution_count": null,
      "outputs": []
    },
    {
      "cell_type": "code",
      "source": [
        "# easier handling is for compile"
      ],
      "metadata": {
        "id": "XlqmD0wTX3tE"
      },
      "execution_count": null,
      "outputs": []
    },
    {
      "cell_type": "code",
      "source": [
        "# concepts discusses that \n",
        "# even at a time of errors, the execution should not stop"
      ],
      "metadata": {
        "id": "mcFH8lSLYRvi"
      },
      "execution_count": null,
      "outputs": []
    },
    {
      "cell_type": "code",
      "source": [
        "a = 5 # normal statements ( not give error)\n",
        "b = 0 \n",
        "print(a/b) # critical statements ( prone to give error ) "
      ],
      "metadata": {
        "colab": {
          "base_uri": "https://localhost:8080/",
          "height": 207
        },
        "id": "0ZMPERMIYhGg",
        "outputId": "10985c47-13a9-47e8-a14d-9e786b19256c"
      },
      "execution_count": null,
      "outputs": [
        {
          "output_type": "error",
          "ename": "ZeroDivisionError",
          "evalue": "ignored",
          "traceback": [
            "\u001b[0;31m---------------------------------------------------------------------------\u001b[0m",
            "\u001b[0;31mZeroDivisionError\u001b[0m                         Traceback (most recent call last)",
            "\u001b[0;32m<ipython-input-1-69d8f756dd02>\u001b[0m in \u001b[0;36m<cell line: 3>\u001b[0;34m()\u001b[0m\n\u001b[1;32m      1\u001b[0m \u001b[0ma\u001b[0m \u001b[0;34m=\u001b[0m \u001b[0;36m5\u001b[0m \u001b[0;31m# normal statements ( not give error)\u001b[0m\u001b[0;34m\u001b[0m\u001b[0;34m\u001b[0m\u001b[0m\n\u001b[1;32m      2\u001b[0m \u001b[0mb\u001b[0m \u001b[0;34m=\u001b[0m \u001b[0;36m0\u001b[0m\u001b[0;34m\u001b[0m\u001b[0;34m\u001b[0m\u001b[0m\n\u001b[0;32m----> 3\u001b[0;31m \u001b[0mprint\u001b[0m\u001b[0;34m(\u001b[0m\u001b[0ma\u001b[0m\u001b[0;34m/\u001b[0m\u001b[0mb\u001b[0m\u001b[0;34m)\u001b[0m \u001b[0;31m# critical statements ( prone to give error )\u001b[0m\u001b[0;34m\u001b[0m\u001b[0;34m\u001b[0m\u001b[0m\n\u001b[0m",
            "\u001b[0;31mZeroDivisionError\u001b[0m: division by zero"
          ]
        }
      ]
    },
    {
      "cell_type": "code",
      "source": [
        "# how to solve this issue \n",
        "# we dont want the program to stop \n"
      ],
      "metadata": {
        "id": "zkEDUWrcY3D6"
      },
      "execution_count": null,
      "outputs": []
    },
    {
      "cell_type": "code",
      "source": [
        "a = 5\n",
        "b = 0 \n",
        "\n",
        "try :\n",
        "  print(a/b)\n",
        "except Exception: # exception handled\n",
        "  print(\"b can't be 0 \")"
      ],
      "metadata": {
        "colab": {
          "base_uri": "https://localhost:8080/"
        },
        "id": "ZyGvZCLWZDWF",
        "outputId": "0f0bff29-fbd6-49f6-85c3-6a862e2450ee"
      },
      "execution_count": null,
      "outputs": [
        {
          "output_type": "stream",
          "name": "stdout",
          "text": [
            "b can't be 0 \n"
          ]
        }
      ]
    },
    {
      "cell_type": "code",
      "source": [
        "a = 5\n",
        "b = 0 \n",
        "\n",
        "try :\n",
        "  print(a/b)\n",
        "except Exception as e : # exception handled by printed the exception\n",
        "  print(\"b can't be 0 \",e)"
      ],
      "metadata": {
        "colab": {
          "base_uri": "https://localhost:8080/"
        },
        "id": "9E88Ka6oZRTr",
        "outputId": "630be27a-7356-4e02-e034-d933a2366243"
      },
      "execution_count": null,
      "outputs": [
        {
          "output_type": "stream",
          "name": "stdout",
          "text": [
            "b can't be 0  division by zero\n"
          ]
        }
      ]
    },
    {
      "cell_type": "code",
      "source": [
        "# whenever u open a resource , always close the resource\n",
        "# irl example is fridge \n",
        "# if after opening , someone calls , u close it and go right\n"
      ],
      "metadata": {
        "id": "JSLAyXRVbZIh"
      },
      "execution_count": null,
      "outputs": []
    },
    {
      "cell_type": "code",
      "source": [
        "a = 5\n",
        "b = 0 \n",
        "\n",
        "try :\n",
        "  print(\"resource open\")\n",
        "  print(a/b)\n",
        "  \n",
        "except Exception as e : # exception handled by printed the exception\n",
        "  print(\"b can't be 0 \",e)"
      ],
      "metadata": {
        "colab": {
          "base_uri": "https://localhost:8080/"
        },
        "id": "Jhz-VpAib1sN",
        "outputId": "e92bf708-85c8-44cc-f0a1-7e2cf0b3a48c"
      },
      "execution_count": null,
      "outputs": [
        {
          "output_type": "stream",
          "name": "stdout",
          "text": [
            "resource open\n",
            "b can't be 0  division by zero\n"
          ]
        }
      ]
    },
    {
      "cell_type": "code",
      "source": [
        "a = 5\n",
        "b = 2.5\n",
        "\n",
        "try :\n",
        "  print(\"resource open :\")\n",
        "  print(a/b)\n",
        "  \n",
        "except Exception as e : # exception handled by printed the exception\n",
        "  print(\"b can't be 0 \",e)\n",
        "  \n",
        "\n",
        "finally:\n",
        "  print(\" : resource closed\")"
      ],
      "metadata": {
        "colab": {
          "base_uri": "https://localhost:8080/"
        },
        "id": "kOtVA_vncAsu",
        "outputId": "088a4e04-3c37-4b5b-9867-181a44b5e936"
      },
      "execution_count": null,
      "outputs": [
        {
          "output_type": "stream",
          "name": "stdout",
          "text": [
            "resource open :\n",
            "2.0\n",
            " : resource closed\n"
          ]
        }
      ]
    },
    {
      "cell_type": "code",
      "source": [
        "a = 5\n",
        "b = 2.5\n",
        "\n",
        "try :\n",
        "  print(\"resource open :\")\n",
        "  print(a/b)\n",
        "  k = int(input())\n",
        "  print(k)\n",
        "\n",
        "  \n",
        "except Exception as e : # exception handled by printed the exception\n",
        "  print(\"b can't be 0 \",e)\n",
        "  \n",
        "\n",
        "finally:\n",
        "  print(\" : resource closed\")"
      ],
      "metadata": {
        "colab": {
          "base_uri": "https://localhost:8080/"
        },
        "id": "DsWyidAZcYqp",
        "outputId": "0dcb8031-39c4-4226-c169-f2704dfec3dc"
      },
      "execution_count": null,
      "outputs": [
        {
          "output_type": "stream",
          "name": "stdout",
          "text": [
            "resource open :\n",
            "2.0\n",
            "p\n",
            "b can't be 0  invalid literal for int() with base 10: 'p'\n",
            " : resource closed\n"
          ]
        }
      ]
    },
    {
      "cell_type": "code",
      "source": [
        "a = 5\n",
        "b = 2.5\n",
        "k = int(input())\n",
        "print(k)\n",
        "\n",
        "try :\n",
        "  print(\"resource open :\")\n",
        "  print(a/b)\n",
        "  \n",
        "\n",
        "  \n",
        "except Exception as e : # exception handled by printed the exception\n",
        "  print(\"b can't be 0 \",e)\n",
        "  \n",
        "\n",
        "finally:\n",
        "  print(\" : resource closed\")"
      ],
      "metadata": {
        "colab": {
          "base_uri": "https://localhost:8080/",
          "height": 262
        },
        "id": "pbiy1Zz4coSg",
        "outputId": "c791feff-6e81-4eb2-f646-d66e8678a591"
      },
      "execution_count": null,
      "outputs": [
        {
          "name": "stdout",
          "output_type": "stream",
          "text": [
            "p\n"
          ]
        },
        {
          "output_type": "error",
          "ename": "ValueError",
          "evalue": "ignored",
          "traceback": [
            "\u001b[0;31m---------------------------------------------------------------------------\u001b[0m",
            "\u001b[0;31mValueError\u001b[0m                                Traceback (most recent call last)",
            "\u001b[0;32m<ipython-input-10-8eb31629e19c>\u001b[0m in \u001b[0;36m<cell line: 3>\u001b[0;34m()\u001b[0m\n\u001b[1;32m      1\u001b[0m \u001b[0ma\u001b[0m \u001b[0;34m=\u001b[0m \u001b[0;36m5\u001b[0m\u001b[0;34m\u001b[0m\u001b[0;34m\u001b[0m\u001b[0m\n\u001b[1;32m      2\u001b[0m \u001b[0mb\u001b[0m \u001b[0;34m=\u001b[0m \u001b[0;36m2.5\u001b[0m\u001b[0;34m\u001b[0m\u001b[0;34m\u001b[0m\u001b[0m\n\u001b[0;32m----> 3\u001b[0;31m \u001b[0mk\u001b[0m \u001b[0;34m=\u001b[0m \u001b[0mint\u001b[0m\u001b[0;34m(\u001b[0m\u001b[0minput\u001b[0m\u001b[0;34m(\u001b[0m\u001b[0;34m)\u001b[0m\u001b[0;34m)\u001b[0m\u001b[0;34m\u001b[0m\u001b[0;34m\u001b[0m\u001b[0m\n\u001b[0m\u001b[1;32m      4\u001b[0m \u001b[0mprint\u001b[0m\u001b[0;34m(\u001b[0m\u001b[0mk\u001b[0m\u001b[0;34m)\u001b[0m\u001b[0;34m\u001b[0m\u001b[0;34m\u001b[0m\u001b[0m\n\u001b[1;32m      5\u001b[0m \u001b[0;34m\u001b[0m\u001b[0m\n",
            "\u001b[0;31mValueError\u001b[0m: invalid literal for int() with base 10: 'p'"
          ]
        }
      ]
    },
    {
      "cell_type": "code",
      "source": [
        "a = 5\n",
        "b = 2\n",
        "\n",
        "try :\n",
        "  print(\"resource open :\")\n",
        "  print(a/b)\n",
        "  k = int(input())\n",
        "  print(k)\n",
        "\n",
        "  \n",
        "except ZeroDivisionError as e :# only for zero error\n",
        "  print(\"b can't be 0 \",e)\n",
        "\n",
        "except ValueError as v :\n",
        "  print(\"invalid input type\",v)\n",
        "\n",
        "except Exception as e:\n",
        "  print(\"something went wrong\")\n",
        "\n",
        "\n",
        "finally:\n",
        "  print(\" : resource closed\")"
      ],
      "metadata": {
        "colab": {
          "base_uri": "https://localhost:8080/"
        },
        "id": "knwDq0DecwVw",
        "outputId": "28f2e247-d09f-4dcd-a347-ef7c079f6416"
      },
      "execution_count": null,
      "outputs": [
        {
          "output_type": "stream",
          "name": "stdout",
          "text": [
            "resource open :\n",
            "2.5\n",
            "p\n",
            "invalid input type invalid literal for int() with base 10: 'p'\n",
            " : resource closed\n"
          ]
        }
      ]
    },
    {
      "cell_type": "code",
      "source": [
        "a = 5\n",
        "b = 0\n",
        "\n",
        "try :\n",
        "  print(\"resource open :\")\n",
        "  print(a/b)\n",
        "  k = int(input()) # it didnt even execute this as error occured in previous statement only\n",
        "  print(k)\n",
        "\n",
        "  \n",
        "except ZeroDivisionError as e :\n",
        "  print(\"b can't be 0 \",e)\n",
        "\n",
        "except ValueError as v :\n",
        "  print(\"invalid input type\",v)\n",
        "\n",
        "except Exception as e:\n",
        "  print(\"something went wrong\")\n",
        "\n",
        "\n",
        "finally:\n",
        "  print(\" : resource closed\")"
      ],
      "metadata": {
        "colab": {
          "base_uri": "https://localhost:8080/"
        },
        "id": "jz7lqQUjdoDh",
        "outputId": "93bf9657-9fdf-4286-cf4c-9ee423d9f82f"
      },
      "execution_count": null,
      "outputs": [
        {
          "output_type": "stream",
          "name": "stdout",
          "text": [
            "resource open :\n",
            "b can't be 0  division by zero\n",
            " : resource closed\n"
          ]
        }
      ]
    },
    {
      "cell_type": "code",
      "source": [],
      "metadata": {
        "id": "yTF5sOx9d5OO"
      },
      "execution_count": null,
      "outputs": []
    },
    {
      "cell_type": "markdown",
      "source": [
        "#MULTITHREADING"
      ],
      "metadata": {
        "id": "2kSFXrgceEIK"
      }
    },
    {
      "cell_type": "code",
      "source": [
        "# THREADS ?\n",
        "# big tasks is broken down into smaller parts called threads \n",
        "# and when run simultaneously its called multi-threading"
      ],
      "metadata": {
        "id": "3VlSAqGXeJ8S"
      },
      "execution_count": null,
      "outputs": []
    },
    {
      "cell_type": "code",
      "source": [
        "# in an application \n",
        "# so many events shd happen at a same time "
      ],
      "metadata": {
        "id": "wwHkTe_1efQK"
      },
      "execution_count": null,
      "outputs": []
    },
    {
      "cell_type": "code",
      "source": [
        "class hello :\n",
        "  def run(self):\n",
        "    for i in range(6):\n",
        "      print(\"hello\")\n",
        "\n",
        "class hi:\n",
        "  def run(self):\n",
        "    for i in range(6):\n",
        "      print(\"hi\")\n",
        "\n",
        "t1 = hello()\n",
        "t2 = hi()\n",
        "\n",
        "t1.run()\n",
        "t2.run() # first 5 times helloo and then 5 times hi"
      ],
      "metadata": {
        "colab": {
          "base_uri": "https://localhost:8080/"
        },
        "id": "QUdVax7oe8EF",
        "outputId": "b08d18b4-7b8c-4cdd-ac01-9560cfb1f530"
      },
      "execution_count": null,
      "outputs": [
        {
          "output_type": "stream",
          "name": "stdout",
          "text": [
            "hello\n",
            "hello\n",
            "hello\n",
            "hello\n",
            "hello\n",
            "hello\n",
            "hi\n",
            "hi\n",
            "hi\n",
            "hi\n",
            "hi\n",
            "hi\n"
          ]
        }
      ]
    },
    {
      "cell_type": "code",
      "source": [
        "from threading import *\n",
        "from time import sleep"
      ],
      "metadata": {
        "id": "F_MsJ9-TlKuh"
      },
      "execution_count": null,
      "outputs": []
    },
    {
      "cell_type": "code",
      "source": [
        "from threading import *\n",
        "from time import sleep\n",
        "\n",
        "class hello(Thread) :\n",
        "\n",
        "  def run(self): # inside thread class there is run method\n",
        "    for i in range(100):\n",
        "      print(\"hello\")\n",
        "      sleep(1)\n",
        "\n",
        "class hi(Thread):\n",
        "\n",
        "  def run(self):\n",
        "    for i in range(100):\n",
        "      print(\"hi\")\n",
        "      sleep(1)\n",
        "\n",
        "t1 = hello()\n",
        "t2 = hi()\n",
        "\n",
        "t1.start()\n",
        "sleep(0.2)\n",
        "t2.start()\n",
        "# but the system is very fast to see the difference"
      ],
      "metadata": {
        "colab": {
          "base_uri": "https://localhost:8080/"
        },
        "id": "IzvjpJntkJVy",
        "outputId": "a62f8aab-2d95-436b-da51-2dca3b006a48"
      },
      "execution_count": null,
      "outputs": [
        {
          "output_type": "stream",
          "name": "stdout",
          "text": [
            "hello\n",
            "hi\n"
          ]
        }
      ]
    },
    {
      "cell_type": "code",
      "source": [
        "# because it is fast \n",
        "# both can go at a same time too , which is called collision"
      ],
      "metadata": {
        "id": "vkiduiQblTwb"
      },
      "execution_count": null,
      "outputs": []
    },
    {
      "cell_type": "code",
      "source": [
        "# refer to MultiThreadingTelusko in pycharm"
      ],
      "metadata": {
        "id": "N6bpCl85mwQO"
      },
      "execution_count": null,
      "outputs": []
    },
    {
      "cell_type": "markdown",
      "source": [
        "# COMMENTS"
      ],
      "metadata": {
        "id": "lGTMZXyco-VZ"
      }
    },
    {
      "cell_type": "code",
      "source": [
        "# single line"
      ],
      "metadata": {
        "id": "tMR4gSqNOQm3"
      },
      "execution_count": null,
      "outputs": []
    },
    {
      "cell_type": "code",
      "source": [
        "# multi\n",
        "# line \n",
        "# comments"
      ],
      "metadata": {
        "id": "JwplnEfXOSZd"
      },
      "execution_count": null,
      "outputs": []
    },
    {
      "cell_type": "markdown",
      "source": [
        "DOCUMENTATION"
      ],
      "metadata": {
        "id": "PrjDSw_ap9Yo"
      }
    },
    {
      "cell_type": "code",
      "source": [
        "\"\"\"\n",
        "THIS IS USED AS DOCUMENTATION\n",
        "\"\"\""
      ],
      "metadata": {
        "colab": {
          "base_uri": "https://localhost:8080/",
          "height": 36
        },
        "id": "UGTZvJt7o9hd",
        "outputId": "40f5d4a2-51ee-49c1-aa75-962b1cdd3ba8"
      },
      "execution_count": null,
      "outputs": [
        {
          "output_type": "execute_result",
          "data": {
            "text/plain": [
              "'\\nTHIS IS USED AS DOCUMENTATION\\n'"
            ],
            "application/vnd.google.colaboratory.intrinsic+json": {
              "type": "string"
            }
          },
          "metadata": {},
          "execution_count": 30
        }
      ]
    },
    {
      "cell_type": "markdown",
      "source": [
        "#COMPILER AND INTERPRETER"
      ],
      "metadata": {
        "id": "2HHAFoZZqAAG"
      }
    },
    {
      "cell_type": "code",
      "source": [
        "# PYTHON IS BOTH \n"
      ],
      "metadata": {
        "id": "AqF0Rdoip7C3"
      },
      "execution_count": null,
      "outputs": []
    },
    {
      "cell_type": "code",
      "source": [
        "# COMPILER\n",
        "# c++ and java are high level languages (compiled language)\n",
        "# before executing , it has to compile and convert into machine language"
      ],
      "metadata": {
        "id": "G1Dc3w1LqOrd"
      },
      "execution_count": null,
      "outputs": []
    },
    {
      "cell_type": "code",
      "source": [
        "# INTERPRETED \n",
        "# line by line execution \n",
        "# python is interpreted "
      ],
      "metadata": {
        "id": "faPbFxhTqeDO"
      },
      "execution_count": null,
      "outputs": []
    },
    {
      "cell_type": "code",
      "source": [
        "# potability\n",
        "# can run in any machine \n",
        "# codes are independent of machine"
      ],
      "metadata": {
        "id": "2p90z69YqzCy"
      },
      "execution_count": null,
      "outputs": []
    },
    {
      "cell_type": "code",
      "source": [
        "# python is actually compiled to bite code (for potability)\n",
        "# before line by line execution "
      ],
      "metadata": {
        "id": "5UWeFopZq8HF"
      },
      "execution_count": null,
      "outputs": []
    },
    {
      "cell_type": "code",
      "source": [
        "# virtual machine\n",
        "# for python PVM\n",
        "# this virtual machine will compile it to bite code"
      ],
      "metadata": {
        "id": "i9Th88D9rMeZ"
      },
      "execution_count": null,
      "outputs": []
    },
    {
      "cell_type": "code",
      "source": [
        "# in other languages u have to compile separately (addditional code)\n",
        "# python does it automatically"
      ],
      "metadata": {
        "id": "PcYasd2PresR"
      },
      "execution_count": null,
      "outputs": []
    },
    {
      "cell_type": "code",
      "source": [
        "#cpython ???"
      ],
      "metadata": {
        "id": "raDEWnixrxdL"
      },
      "execution_count": null,
      "outputs": []
    },
    {
      "cell_type": "code",
      "source": [
        "# actual implementation is actually cpython"
      ],
      "metadata": {
        "id": "xc0PxSOkrzjY"
      },
      "execution_count": null,
      "outputs": []
    },
    {
      "cell_type": "code",
      "source": [
        "# cpython is implemented in c language"
      ],
      "metadata": {
        "id": "_tfuuUy5r5VP"
      },
      "execution_count": null,
      "outputs": []
    },
    {
      "cell_type": "code",
      "source": [
        "# jpython is implemented in j language"
      ],
      "metadata": {
        "id": "1trYeNNTsFJB"
      },
      "execution_count": null,
      "outputs": []
    },
    {
      "cell_type": "code",
      "source": [],
      "metadata": {
        "id": "Z1H48boUsI0e"
      },
      "execution_count": null,
      "outputs": []
    },
    {
      "cell_type": "markdown",
      "source": [
        "# FILEHANDLING"
      ],
      "metadata": {
        "id": "S06gRfgXIrng"
      }
    },
    {
      "cell_type": "code",
      "source": [
        "# usually all the variables and datas get erased after we close the program / interpreter"
      ],
      "metadata": {
        "id": "mnq8Jss7XHOY"
      },
      "execution_count": null,
      "outputs": []
    },
    {
      "cell_type": "code",
      "source": [
        "# i want my data to be stored somewhere\n",
        "# for this we use relational database\n",
        "\n",
        "#Relational database # structured way to store #very complex\n",
        "      #Mysql\n",
        "      #oracle \n",
        "\n",
        "# a simple way is through texts "
      ],
      "metadata": {
        "id": "F9SMGg2jIvpO"
      },
      "execution_count": null,
      "outputs": []
    },
    {
      "cell_type": "code",
      "source": [
        "a = open('MyData','r')\n",
        "\n",
        "print(f) # We don't get data inside, instead we get details about the file\n",
        "#instead\n",
        "print(f.read())# now we can read the data\n",
        "\n",
        "print(f.readline()) # will print line by line\n",
        "print(f.readline()) # will print the second line but with an extra line space\n",
        "\n",
        "# this will decrease the linespace\n",
        "print(f.readline(), end='')\n",
        "\n",
        "print(f.readline())\n",
        "\n",
        "\n",
        "print(f.readline(4))# will print only four characters"
      ],
      "metadata": {
        "id": "0kjpPmYLWyv7"
      },
      "execution_count": null,
      "outputs": []
    },
    {
      "cell_type": "code",
      "source": [
        "f1 = open('abc','w') # for writing\n",
        " # new file gets created named abc"
      ],
      "metadata": {
        "id": "VJ7xv3mAaKJa"
      },
      "execution_count": null,
      "outputs": []
    },
    {
      "cell_type": "code",
      "source": [
        "f1.write(\"something\")"
      ],
      "metadata": {
        "id": "zJHU7v-wahw_"
      },
      "execution_count": null,
      "outputs": []
    },
    {
      "cell_type": "code",
      "source": [
        "f1 = open('abc','a') #append to already existing data\n",
        "\n",
        "f1.write(\" laptop\")"
      ],
      "metadata": {
        "id": "hRayilq0bFCB"
      },
      "execution_count": null,
      "outputs": []
    },
    {
      "cell_type": "code",
      "source": [
        "f = open('MyData','r')\n",
        "\n",
        "f1 = open('abc','a')\n",
        "\n",
        "for data in f :\n",
        "    f1.write(data) # copying from one to other"
      ],
      "metadata": {
        "id": "rxG0IvdZbcqN"
      },
      "execution_count": null,
      "outputs": []
    },
    {
      "cell_type": "code",
      "source": [
        "f = open('1.jpeg','rb')\n",
        "\n",
        "for i in f:\n",
        "    print(i) # for image"
      ],
      "metadata": {
        "id": "JxAP6V-bcc1-"
      },
      "execution_count": null,
      "outputs": []
    },
    {
      "cell_type": "code",
      "source": [
        "f = open('1.jpeg','rb')\n",
        "f1 = open(\"2.jpeg\",'wb')\n",
        "for i in f:\n",
        "    f1.write(i) # image has been copied"
      ],
      "metadata": {
        "id": "oXKuFPAScs9O"
      },
      "execution_count": null,
      "outputs": []
    },
    {
      "cell_type": "code",
      "source": [],
      "metadata": {
        "id": "tjvUz_BUctrN"
      },
      "execution_count": null,
      "outputs": []
    },
    {
      "cell_type": "markdown",
      "source": [
        "#ZIP"
      ],
      "metadata": {
        "id": "qk2Ml-c8l33P"
      }
    },
    {
      "cell_type": "code",
      "source": [
        "names = (\"navin\",'kiran','harsh')\n",
        "comp = (\"dell\",'apple','ms')\n",
        "\n",
        "zipped = zip(names,comp)\n"
      ],
      "metadata": {
        "id": "RK2fz1pUl3Tw"
      },
      "execution_count": null,
      "outputs": []
    },
    {
      "cell_type": "code",
      "source": [
        "zipped\n"
      ],
      "metadata": {
        "colab": {
          "base_uri": "https://localhost:8080/"
        },
        "id": "kkTmYVQImHe-",
        "outputId": "16c4f957-b315-4356-f8cb-d69ef2340635"
      },
      "execution_count": null,
      "outputs": [
        {
          "output_type": "execute_result",
          "data": {
            "text/plain": [
              "<zip at 0x7f689ce05840>"
            ]
          },
          "metadata": {},
          "execution_count": 6
        }
      ]
    },
    {
      "cell_type": "code",
      "source": [
        "zipped = list(zip(names,comp))\n",
        "zipped"
      ],
      "metadata": {
        "colab": {
          "base_uri": "https://localhost:8080/"
        },
        "id": "AvBA3acBmJYe",
        "outputId": "f94c1d15-4f7f-4015-f258-745edcedd48c"
      },
      "execution_count": null,
      "outputs": [
        {
          "output_type": "execute_result",
          "data": {
            "text/plain": [
              "[('navin', 'dell'), ('kiran', 'apple'), ('harsh', 'ms')]"
            ]
          },
          "metadata": {},
          "execution_count": 8
        }
      ]
    },
    {
      "cell_type": "code",
      "source": [
        "zipped = set(zip(names,comp))\n",
        "zipped"
      ],
      "metadata": {
        "colab": {
          "base_uri": "https://localhost:8080/"
        },
        "id": "ytzMuIsymRmp",
        "outputId": "a360d0a3-30df-4b6f-a44f-65e0c3a03408"
      },
      "execution_count": null,
      "outputs": [
        {
          "output_type": "execute_result",
          "data": {
            "text/plain": [
              "{('harsh', 'ms'), ('kiran', 'apple'), ('navin', 'dell')}"
            ]
          },
          "metadata": {},
          "execution_count": 9
        }
      ]
    },
    {
      "cell_type": "code",
      "source": [
        "for (a,b) in zipped:\n",
        "  print(a,b)"
      ],
      "metadata": {
        "colab": {
          "base_uri": "https://localhost:8080/"
        },
        "id": "1E_2Nh0LmXKF",
        "outputId": "9a42805c-9112-4f99-a213-4240a7de6f44"
      },
      "execution_count": null,
      "outputs": [
        {
          "output_type": "stream",
          "name": "stdout",
          "text": [
            "kiran apple\n",
            "harsh ms\n",
            "navin dell\n"
          ]
        }
      ]
    }
  ]
}